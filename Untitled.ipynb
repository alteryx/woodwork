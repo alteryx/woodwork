{
 "cells": [
  {
   "cell_type": "code",
   "execution_count": 1,
   "id": "judicial-picking",
   "metadata": {},
   "outputs": [],
   "source": [
    "import importlib\n",
    "import os\n",
    "import warnings\n",
    "from collections import namedtuple\n",
    "from functools import reduce\n",
    "\n",
    "import numpy as np\n",
    "import pandas as pd\n",
    "import woodwork as ww\n",
    "from sklearn.utils import check_random_state\n",
    "\n",
    "from evalml.exceptions import (\n",
    "    EnsembleMissingPipelinesError,\n",
    "    MissingComponentError\n",
    ")\n",
    "from evalml.utils import get_logger\n",
    "\n",
    "\n",
    "numeric_and_boolean_ww = [ww.logical_types.Integer, ww.logical_types.Double, ww.logical_types.Boolean]\n",
    "\n",
    "def _rename_column_names_to_numeric(X):\n",
    "    \"\"\"Used in LightGBM classifier class and XGBoost classifier and regressor classes to rename column names\n",
    "        when the input is a pd.DataFrame in case it has column names that contain symbols ([, ], <) that XGBoost cannot natively handle.\n",
    "\n",
    "    Arguments:\n",
    "        X (pd.DataFrame): the input training data of shape [n_samples, n_features]\n",
    "\n",
    "    Returns:\n",
    "        Transformed X where column names are renamed to numerical values\n",
    "    \"\"\"\n",
    "    X_t = X\n",
    "    if isinstance(X, (np.ndarray, list)):\n",
    "        return pd.DataFrame(X)\n",
    "    if isinstance(X, ww.DataTable):\n",
    "        X_t = X.to_dataframe()\n",
    "        logical_types = X.logical_types\n",
    "        print(logical_types)\n",
    "    name_to_col_num = dict((col, col_num) for col_num, col in enumerate(list(X.columns)))\n",
    "    X_renamed = X_t.rename(columns=name_to_col_num, inplace=False)\n",
    "    if isinstance(X, ww.DataTable):\n",
    "        renamed_logical_types = dict((name_to_col_num[col], logical_types[col]) for col in logical_types)\n",
    "        print(name_to_col_num)\n",
    "        print(renamed_logical_types)\n",
    "        print(X_renamed)\n",
    "        return ww.DataTable(X_renamed, logical_types=renamed_logical_types)\n",
    "    return X_renamed"
   ]
  },
  {
   "cell_type": "code",
   "execution_count": 2,
   "id": "developing-innocent",
   "metadata": {},
   "outputs": [],
   "source": [
    "import pandas as pd\n",
    "import numpy as np\n",
    "import woodwork as ww"
   ]
  },
  {
   "cell_type": "code",
   "execution_count": 3,
   "id": "consistent-detection",
   "metadata": {},
   "outputs": [],
   "source": [
    "df = pd.DataFrame([[1,2,3], [10,20,30], [100,200,300]])\n",
    "df.columns = pd.MultiIndex.from_tuples(((\"a\", \"b\"), (\"a\", \"c\"), (\"d\", \"f\")))"
   ]
  },
  {
   "cell_type": "code",
   "execution_count": 4,
   "id": "fabulous-tongue",
   "metadata": {},
   "outputs": [
    {
     "data": {
      "text/html": [
       "<div>\n",
       "<style scoped>\n",
       "    .dataframe tbody tr th:only-of-type {\n",
       "        vertical-align: middle;\n",
       "    }\n",
       "\n",
       "    .dataframe tbody tr th {\n",
       "        vertical-align: top;\n",
       "    }\n",
       "\n",
       "    .dataframe thead tr th {\n",
       "        text-align: left;\n",
       "    }\n",
       "</style>\n",
       "<table border=\"1\" class=\"dataframe\">\n",
       "  <thead>\n",
       "    <tr>\n",
       "      <th></th>\n",
       "      <th colspan=\"2\" halign=\"left\">a</th>\n",
       "      <th>d</th>\n",
       "    </tr>\n",
       "    <tr>\n",
       "      <th></th>\n",
       "      <th>b</th>\n",
       "      <th>c</th>\n",
       "      <th>f</th>\n",
       "    </tr>\n",
       "  </thead>\n",
       "  <tbody>\n",
       "    <tr>\n",
       "      <th>0</th>\n",
       "      <td>1</td>\n",
       "      <td>2</td>\n",
       "      <td>3</td>\n",
       "    </tr>\n",
       "    <tr>\n",
       "      <th>1</th>\n",
       "      <td>10</td>\n",
       "      <td>20</td>\n",
       "      <td>30</td>\n",
       "    </tr>\n",
       "    <tr>\n",
       "      <th>2</th>\n",
       "      <td>100</td>\n",
       "      <td>200</td>\n",
       "      <td>300</td>\n",
       "    </tr>\n",
       "  </tbody>\n",
       "</table>\n",
       "</div>"
      ],
      "text/plain": [
       "     a         d\n",
       "     b    c    f\n",
       "0    1    2    3\n",
       "1   10   20   30\n",
       "2  100  200  300"
      ]
     },
     "execution_count": 4,
     "metadata": {},
     "output_type": "execute_result"
    }
   ],
   "source": [
    "df"
   ]
  },
  {
   "cell_type": "code",
   "execution_count": 5,
   "id": "subjective-appearance",
   "metadata": {},
   "outputs": [],
   "source": [
    "df.columns = df.columns.to_flat_index()"
   ]
  },
  {
   "cell_type": "code",
   "execution_count": 6,
   "id": "phantom-given",
   "metadata": {},
   "outputs": [],
   "source": [
    "df = _rename_column_names_to_numeric(df)"
   ]
  },
  {
   "cell_type": "code",
   "execution_count": 7,
   "id": "vocal-abortion",
   "metadata": {},
   "outputs": [
    {
     "data": {
      "text/html": [
       "<div>\n",
       "<style scoped>\n",
       "    .dataframe tbody tr th:only-of-type {\n",
       "        vertical-align: middle;\n",
       "    }\n",
       "\n",
       "    .dataframe tbody tr th {\n",
       "        vertical-align: top;\n",
       "    }\n",
       "\n",
       "    .dataframe thead th {\n",
       "        text-align: right;\n",
       "    }\n",
       "</style>\n",
       "<table border=\"1\" class=\"dataframe\">\n",
       "  <thead>\n",
       "    <tr style=\"text-align: right;\">\n",
       "      <th></th>\n",
       "      <th>0</th>\n",
       "      <th>1</th>\n",
       "      <th>2</th>\n",
       "    </tr>\n",
       "  </thead>\n",
       "  <tbody>\n",
       "    <tr>\n",
       "      <th>0</th>\n",
       "      <td>1</td>\n",
       "      <td>2</td>\n",
       "      <td>3</td>\n",
       "    </tr>\n",
       "    <tr>\n",
       "      <th>1</th>\n",
       "      <td>10</td>\n",
       "      <td>20</td>\n",
       "      <td>30</td>\n",
       "    </tr>\n",
       "    <tr>\n",
       "      <th>2</th>\n",
       "      <td>100</td>\n",
       "      <td>200</td>\n",
       "      <td>300</td>\n",
       "    </tr>\n",
       "  </tbody>\n",
       "</table>\n",
       "</div>"
      ],
      "text/plain": [
       "     0    1    2\n",
       "0    1    2    3\n",
       "1   10   20   30\n",
       "2  100  200  300"
      ]
     },
     "execution_count": 7,
     "metadata": {},
     "output_type": "execute_result"
    }
   ],
   "source": [
    "df"
   ]
  },
  {
   "cell_type": "code",
   "execution_count": null,
   "id": "complimentary-transmission",
   "metadata": {},
   "outputs": [],
   "source": []
  }
 ],
 "metadata": {
  "kernelspec": {
   "display_name": "Python 3",
   "language": "python",
   "name": "python3"
  },
  "language_info": {
   "codemirror_mode": {
    "name": "ipython",
    "version": 3
   },
   "file_extension": ".py",
   "mimetype": "text/x-python",
   "name": "python",
   "nbconvert_exporter": "python",
   "pygments_lexer": "ipython3",
   "version": "3.8.6"
  }
 },
 "nbformat": 4,
 "nbformat_minor": 5
}
