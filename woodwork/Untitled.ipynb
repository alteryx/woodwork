{
 "cells": [
  {
   "cell_type": "raw",
   "id": "66b7e500",
   "metadata": {
    "pycharm": {
     "name": ""
    }
   },
   "source": []
  }
 ],
 "metadata": {},
 "nbformat": 4,
 "nbformat_minor": 5
}
