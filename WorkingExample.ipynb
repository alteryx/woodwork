{
 "cells": [
  {
   "cell_type": "code",
   "execution_count": 1,
   "metadata": {},
   "outputs": [],
   "source": [
    "import pandas as pd"
   ]
  },
  {
   "cell_type": "markdown",
   "metadata": {},
   "source": [
    "## Import Woodwork (to hit decorator)"
   ]
  },
  {
   "cell_type": "code",
   "execution_count": 2,
   "metadata": {},
   "outputs": [],
   "source": [
    "import woodwork as ww"
   ]
  },
  {
   "cell_type": "markdown",
   "metadata": {},
   "source": [
    "## Create DataFrame"
   ]
  },
  {
   "cell_type": "code",
   "execution_count": 3,
   "metadata": {},
   "outputs": [
    {
     "data": {
      "text/html": [
       "<div>\n",
       "<style scoped>\n",
       "    .dataframe tbody tr th:only-of-type {\n",
       "        vertical-align: middle;\n",
       "    }\n",
       "\n",
       "    .dataframe tbody tr th {\n",
       "        vertical-align: top;\n",
       "    }\n",
       "\n",
       "    .dataframe thead th {\n",
       "        text-align: right;\n",
       "    }\n",
       "</style>\n",
       "<table border=\"1\" class=\"dataframe\">\n",
       "  <thead>\n",
       "    <tr style=\"text-align: right;\">\n",
       "      <th></th>\n",
       "      <th>order_product_id</th>\n",
       "      <th>order_id</th>\n",
       "      <th>product_id</th>\n",
       "      <th>description</th>\n",
       "      <th>quantity</th>\n",
       "      <th>order_date</th>\n",
       "      <th>unit_price</th>\n",
       "      <th>customer_name</th>\n",
       "      <th>country</th>\n",
       "      <th>total</th>\n",
       "      <th>cancelled</th>\n",
       "    </tr>\n",
       "  </thead>\n",
       "  <tbody>\n",
       "    <tr>\n",
       "      <th>0</th>\n",
       "      <td>0</td>\n",
       "      <td>536365</td>\n",
       "      <td>85123A</td>\n",
       "      <td>WHITE HANGING HEART T-LIGHT HOLDER</td>\n",
       "      <td>6</td>\n",
       "      <td>2010-12-01 08:26:00</td>\n",
       "      <td>4.2075</td>\n",
       "      <td>Andrea Brown</td>\n",
       "      <td>United Kingdom</td>\n",
       "      <td>25.245</td>\n",
       "      <td>False</td>\n",
       "    </tr>\n",
       "    <tr>\n",
       "      <th>1</th>\n",
       "      <td>1</td>\n",
       "      <td>536365</td>\n",
       "      <td>71053</td>\n",
       "      <td>WHITE METAL LANTERN</td>\n",
       "      <td>6</td>\n",
       "      <td>2010-12-01 08:26:00</td>\n",
       "      <td>5.5935</td>\n",
       "      <td>Andrea Brown</td>\n",
       "      <td>United Kingdom</td>\n",
       "      <td>33.561</td>\n",
       "      <td>False</td>\n",
       "    </tr>\n",
       "    <tr>\n",
       "      <th>2</th>\n",
       "      <td>2</td>\n",
       "      <td>536365</td>\n",
       "      <td>84406B</td>\n",
       "      <td>CREAM CUPID HEARTS COAT HANGER</td>\n",
       "      <td>8</td>\n",
       "      <td>2010-12-01 08:26:00</td>\n",
       "      <td>4.5375</td>\n",
       "      <td>Andrea Brown</td>\n",
       "      <td>United Kingdom</td>\n",
       "      <td>36.300</td>\n",
       "      <td>False</td>\n",
       "    </tr>\n",
       "    <tr>\n",
       "      <th>3</th>\n",
       "      <td>3</td>\n",
       "      <td>536365</td>\n",
       "      <td>84029G</td>\n",
       "      <td>KNITTED UNION FLAG HOT WATER BOTTLE</td>\n",
       "      <td>6</td>\n",
       "      <td>2010-12-01 08:26:00</td>\n",
       "      <td>5.5935</td>\n",
       "      <td>Andrea Brown</td>\n",
       "      <td>United Kingdom</td>\n",
       "      <td>33.561</td>\n",
       "      <td>False</td>\n",
       "    </tr>\n",
       "    <tr>\n",
       "      <th>4</th>\n",
       "      <td>4</td>\n",
       "      <td>536365</td>\n",
       "      <td>84029E</td>\n",
       "      <td>RED WOOLLY HOTTIE WHITE HEART.</td>\n",
       "      <td>6</td>\n",
       "      <td>2010-12-01 08:26:00</td>\n",
       "      <td>5.5935</td>\n",
       "      <td>Andrea Brown</td>\n",
       "      <td>United Kingdom</td>\n",
       "      <td>33.561</td>\n",
       "      <td>False</td>\n",
       "    </tr>\n",
       "  </tbody>\n",
       "</table>\n",
       "</div>"
      ],
      "text/plain": [
       "   order_product_id  order_id product_id                          description  \\\n",
       "0                 0    536365     85123A   WHITE HANGING HEART T-LIGHT HOLDER   \n",
       "1                 1    536365      71053                  WHITE METAL LANTERN   \n",
       "2                 2    536365     84406B       CREAM CUPID HEARTS COAT HANGER   \n",
       "3                 3    536365     84029G  KNITTED UNION FLAG HOT WATER BOTTLE   \n",
       "4                 4    536365     84029E       RED WOOLLY HOTTIE WHITE HEART.   \n",
       "\n",
       "   quantity           order_date  unit_price customer_name         country  \\\n",
       "0         6  2010-12-01 08:26:00      4.2075  Andrea Brown  United Kingdom   \n",
       "1         6  2010-12-01 08:26:00      5.5935  Andrea Brown  United Kingdom   \n",
       "2         8  2010-12-01 08:26:00      4.5375  Andrea Brown  United Kingdom   \n",
       "3         6  2010-12-01 08:26:00      5.5935  Andrea Brown  United Kingdom   \n",
       "4         6  2010-12-01 08:26:00      5.5935  Andrea Brown  United Kingdom   \n",
       "\n",
       "    total  cancelled  \n",
       "0  25.245      False  \n",
       "1  33.561      False  \n",
       "2  36.300      False  \n",
       "3  33.561      False  \n",
       "4  33.561      False  "
      ]
     },
     "execution_count": 3,
     "metadata": {},
     "output_type": "execute_result"
    }
   ],
   "source": [
    "# df = ww.demo.load_retail(nrows=100, return_dataframe=True)\n",
    "# df.to_csv('retail_data.csv', index=False)\n",
    "\n",
    "df = pd.read_csv('retail_data.csv', nrows=100)\n",
    "df.head(5)"
   ]
  },
  {
   "cell_type": "markdown",
   "metadata": {},
   "source": [
    "### DataFrame Dtypes"
   ]
  },
  {
   "cell_type": "code",
   "execution_count": 4,
   "metadata": {},
   "outputs": [
    {
     "data": {
      "text/plain": [
       "order_product_id      int64\n",
       "order_id              int64\n",
       "product_id           object\n",
       "description          object\n",
       "quantity              int64\n",
       "order_date           object\n",
       "unit_price          float64\n",
       "customer_name        object\n",
       "country              object\n",
       "total               float64\n",
       "cancelled              bool\n",
       "dtype: object"
      ]
     },
     "execution_count": 4,
     "metadata": {},
     "output_type": "execute_result"
    }
   ],
   "source": [
    "df.dtypes"
   ]
  },
  {
   "cell_type": "markdown",
   "metadata": {},
   "source": [
    "## Use the Woodwork Accessor\n",
    "\n",
    "The point of the accessor is to have a dataframe that we can work with as normal while also having a the information from a DataTable available. The way this works is that each DataFrame object will have a DataTableAccessor available to it. This means that if you reassign the dataframe, you lose your typing information from the DataTable.\n",
    "\n",
    "We're going to walk through some use cases, but first we have to know how to set up the DataTable accessor according to our preferences.\n",
    "\n",
    "We can look at the DataTableAccessor as follows:"
   ]
  },
  {
   "cell_type": "code",
   "execution_count": 5,
   "metadata": {},
   "outputs": [
    {
     "data": {
      "text/html": [
       "<table border=\"1\" class=\"dataframe\">\n",
       "  <thead>\n",
       "    <tr style=\"text-align: right;\">\n",
       "      <th></th>\n",
       "      <th>Physical Type</th>\n",
       "      <th>Logical Type</th>\n",
       "      <th>Semantic Tag(s)</th>\n",
       "    </tr>\n",
       "    <tr>\n",
       "      <th>Data Column</th>\n",
       "      <th></th>\n",
       "      <th></th>\n",
       "      <th></th>\n",
       "    </tr>\n",
       "  </thead>\n",
       "  <tbody>\n",
       "    <tr>\n",
       "      <th>order_product_id</th>\n",
       "      <td>Int64</td>\n",
       "      <td>Integer</td>\n",
       "      <td>['numeric']</td>\n",
       "    </tr>\n",
       "    <tr>\n",
       "      <th>order_id</th>\n",
       "      <td>Int64</td>\n",
       "      <td>Integer</td>\n",
       "      <td>['numeric']</td>\n",
       "    </tr>\n",
       "    <tr>\n",
       "      <th>product_id</th>\n",
       "      <td>category</td>\n",
       "      <td>Categorical</td>\n",
       "      <td>['category']</td>\n",
       "    </tr>\n",
       "    <tr>\n",
       "      <th>description</th>\n",
       "      <td>string</td>\n",
       "      <td>NaturalLanguage</td>\n",
       "      <td>[]</td>\n",
       "    </tr>\n",
       "    <tr>\n",
       "      <th>quantity</th>\n",
       "      <td>Int64</td>\n",
       "      <td>Integer</td>\n",
       "      <td>['numeric']</td>\n",
       "    </tr>\n",
       "    <tr>\n",
       "      <th>order_date</th>\n",
       "      <td>datetime64[ns]</td>\n",
       "      <td>Datetime</td>\n",
       "      <td>[]</td>\n",
       "    </tr>\n",
       "    <tr>\n",
       "      <th>unit_price</th>\n",
       "      <td>float64</td>\n",
       "      <td>Double</td>\n",
       "      <td>['numeric']</td>\n",
       "    </tr>\n",
       "    <tr>\n",
       "      <th>customer_name</th>\n",
       "      <td>string</td>\n",
       "      <td>NaturalLanguage</td>\n",
       "      <td>[]</td>\n",
       "    </tr>\n",
       "    <tr>\n",
       "      <th>country</th>\n",
       "      <td>string</td>\n",
       "      <td>NaturalLanguage</td>\n",
       "      <td>[]</td>\n",
       "    </tr>\n",
       "    <tr>\n",
       "      <th>total</th>\n",
       "      <td>float64</td>\n",
       "      <td>Double</td>\n",
       "      <td>['numeric']</td>\n",
       "    </tr>\n",
       "    <tr>\n",
       "      <th>cancelled</th>\n",
       "      <td>boolean</td>\n",
       "      <td>Boolean</td>\n",
       "      <td>[]</td>\n",
       "    </tr>\n",
       "  </tbody>\n",
       "</table>"
      ],
      "text/plain": [
       "<woodwork.accessor.DataTableAccessor object at 0x13e74fcf8>"
      ]
     },
     "execution_count": 5,
     "metadata": {},
     "output_type": "execute_result"
    }
   ],
   "source": [
    "df.ww"
   ]
  },
  {
   "cell_type": "markdown",
   "metadata": {},
   "source": [
    "Notice how this is the repr of a DataTable! The above result is the same as if you did `DataTable(df)`. There are no extra parameters provided to the DataTable, so we just have the automatically inferred Logical Types and semantic tags. You can access all methods and properties on a DataTable just like this.\n",
    "\n",
    "Notice that the dtypes of the dataframe have changed to match those of the DataTable Accessor."
   ]
  },
  {
   "cell_type": "code",
   "execution_count": 6,
   "metadata": {},
   "outputs": [
    {
     "data": {
      "text/plain": [
       "order_product_id             Int64\n",
       "order_id                     Int64\n",
       "product_id                category\n",
       "description                 string\n",
       "quantity                     Int64\n",
       "order_date          datetime64[ns]\n",
       "unit_price                 float64\n",
       "customer_name               string\n",
       "country                     string\n",
       "total                      float64\n",
       "cancelled                  boolean\n",
       "dtype: object"
      ]
     },
     "execution_count": 6,
     "metadata": {},
     "output_type": "execute_result"
    }
   ],
   "source": [
    "df.dtypes"
   ]
  },
  {
   "cell_type": "markdown",
   "metadata": {},
   "source": [
    "Likely, we'll want to set our own Logical Types or semantic tags. We can do that using any of DataTable's methods!\n",
    "\n",
    "## Set DataTable attributes via DataTable methods\n",
    "\n",
    "Notice how we need to set `df.ww.dt` any time a method returns a new DataTable. We're currently pulling methods directly from DataTable, which means that any DataTable attribute is available to us, but we have to follow its rules and update the `dt` on the accessor.\n",
    "\n",
    "### Set Semantic Tags"
   ]
  },
  {
   "cell_type": "code",
   "execution_count": 7,
   "metadata": {},
   "outputs": [
    {
     "data": {
      "text/html": [
       "<div>\n",
       "<style scoped>\n",
       "    .dataframe tbody tr th:only-of-type {\n",
       "        vertical-align: middle;\n",
       "    }\n",
       "\n",
       "    .dataframe tbody tr th {\n",
       "        vertical-align: top;\n",
       "    }\n",
       "\n",
       "    .dataframe thead th {\n",
       "        text-align: right;\n",
       "    }\n",
       "</style>\n",
       "<table border=\"1\" class=\"dataframe\">\n",
       "  <thead>\n",
       "    <tr style=\"text-align: right;\">\n",
       "      <th></th>\n",
       "      <th>Physical Type</th>\n",
       "      <th>Logical Type</th>\n",
       "      <th>Semantic Tag(s)</th>\n",
       "    </tr>\n",
       "    <tr>\n",
       "      <th>Data Column</th>\n",
       "      <th></th>\n",
       "      <th></th>\n",
       "      <th></th>\n",
       "    </tr>\n",
       "  </thead>\n",
       "  <tbody>\n",
       "    <tr>\n",
       "      <th>order_product_id</th>\n",
       "      <td>Int64</td>\n",
       "      <td>Integer</td>\n",
       "      <td>['numeric']</td>\n",
       "    </tr>\n",
       "    <tr>\n",
       "      <th>order_id</th>\n",
       "      <td>Int64</td>\n",
       "      <td>Integer</td>\n",
       "      <td>['numeric']</td>\n",
       "    </tr>\n",
       "    <tr>\n",
       "      <th>product_id</th>\n",
       "      <td>category</td>\n",
       "      <td>Categorical</td>\n",
       "      <td>['category']</td>\n",
       "    </tr>\n",
       "    <tr>\n",
       "      <th>description</th>\n",
       "      <td>string</td>\n",
       "      <td>NaturalLanguage</td>\n",
       "      <td>[]</td>\n",
       "    </tr>\n",
       "    <tr>\n",
       "      <th>quantity</th>\n",
       "      <td>Int64</td>\n",
       "      <td>Integer</td>\n",
       "      <td>['numeric']</td>\n",
       "    </tr>\n",
       "    <tr>\n",
       "      <th>order_date</th>\n",
       "      <td>datetime64[ns]</td>\n",
       "      <td>Datetime</td>\n",
       "      <td>['tag_1']</td>\n",
       "    </tr>\n",
       "    <tr>\n",
       "      <th>unit_price</th>\n",
       "      <td>float64</td>\n",
       "      <td>Double</td>\n",
       "      <td>['numeric']</td>\n",
       "    </tr>\n",
       "    <tr>\n",
       "      <th>customer_name</th>\n",
       "      <td>string</td>\n",
       "      <td>NaturalLanguage</td>\n",
       "      <td>[]</td>\n",
       "    </tr>\n",
       "    <tr>\n",
       "      <th>country</th>\n",
       "      <td>string</td>\n",
       "      <td>NaturalLanguage</td>\n",
       "      <td>[]</td>\n",
       "    </tr>\n",
       "    <tr>\n",
       "      <th>total</th>\n",
       "      <td>float64</td>\n",
       "      <td>Double</td>\n",
       "      <td>['numeric']</td>\n",
       "    </tr>\n",
       "    <tr>\n",
       "      <th>cancelled</th>\n",
       "      <td>boolean</td>\n",
       "      <td>Boolean</td>\n",
       "      <td>[]</td>\n",
       "    </tr>\n",
       "  </tbody>\n",
       "</table>\n",
       "</div>"
      ],
      "text/plain": [
       "                   Physical Type     Logical Type Semantic Tag(s)\n",
       "Data Column                                                      \n",
       "order_product_id           Int64          Integer     ['numeric']\n",
       "order_id                   Int64          Integer     ['numeric']\n",
       "product_id              category      Categorical    ['category']\n",
       "description               string  NaturalLanguage              []\n",
       "quantity                   Int64          Integer     ['numeric']\n",
       "order_date        datetime64[ns]         Datetime       ['tag_1']\n",
       "unit_price               float64           Double     ['numeric']\n",
       "customer_name             string  NaturalLanguage              []\n",
       "country                   string  NaturalLanguage              []\n",
       "total                    float64           Double     ['numeric']\n",
       "cancelled                boolean          Boolean              []"
      ]
     },
     "execution_count": 7,
     "metadata": {},
     "output_type": "execute_result"
    }
   ],
   "source": [
    "df.ww.dt = df.ww.add_semantic_tags({'order_date': 'tag_1'})\n",
    "df.ww.types"
   ]
  },
  {
   "cell_type": "markdown",
   "metadata": {},
   "source": [
    "### Set the time index"
   ]
  },
  {
   "cell_type": "code",
   "execution_count": 8,
   "metadata": {},
   "outputs": [
    {
     "data": {
      "text/html": [
       "<div>\n",
       "<style scoped>\n",
       "    .dataframe tbody tr th:only-of-type {\n",
       "        vertical-align: middle;\n",
       "    }\n",
       "\n",
       "    .dataframe tbody tr th {\n",
       "        vertical-align: top;\n",
       "    }\n",
       "\n",
       "    .dataframe thead th {\n",
       "        text-align: right;\n",
       "    }\n",
       "</style>\n",
       "<table border=\"1\" class=\"dataframe\">\n",
       "  <thead>\n",
       "    <tr style=\"text-align: right;\">\n",
       "      <th></th>\n",
       "      <th>Physical Type</th>\n",
       "      <th>Logical Type</th>\n",
       "      <th>Semantic Tag(s)</th>\n",
       "    </tr>\n",
       "    <tr>\n",
       "      <th>Data Column</th>\n",
       "      <th></th>\n",
       "      <th></th>\n",
       "      <th></th>\n",
       "    </tr>\n",
       "  </thead>\n",
       "  <tbody>\n",
       "    <tr>\n",
       "      <th>order_product_id</th>\n",
       "      <td>Int64</td>\n",
       "      <td>Integer</td>\n",
       "      <td>['numeric']</td>\n",
       "    </tr>\n",
       "    <tr>\n",
       "      <th>order_id</th>\n",
       "      <td>Int64</td>\n",
       "      <td>Integer</td>\n",
       "      <td>['numeric']</td>\n",
       "    </tr>\n",
       "    <tr>\n",
       "      <th>product_id</th>\n",
       "      <td>category</td>\n",
       "      <td>Categorical</td>\n",
       "      <td>['category']</td>\n",
       "    </tr>\n",
       "    <tr>\n",
       "      <th>description</th>\n",
       "      <td>string</td>\n",
       "      <td>NaturalLanguage</td>\n",
       "      <td>[]</td>\n",
       "    </tr>\n",
       "    <tr>\n",
       "      <th>quantity</th>\n",
       "      <td>Int64</td>\n",
       "      <td>Integer</td>\n",
       "      <td>['numeric']</td>\n",
       "    </tr>\n",
       "    <tr>\n",
       "      <th>order_date</th>\n",
       "      <td>datetime64[ns]</td>\n",
       "      <td>Datetime</td>\n",
       "      <td>['time_index', 'tag_1']</td>\n",
       "    </tr>\n",
       "    <tr>\n",
       "      <th>unit_price</th>\n",
       "      <td>float64</td>\n",
       "      <td>Double</td>\n",
       "      <td>['numeric']</td>\n",
       "    </tr>\n",
       "    <tr>\n",
       "      <th>customer_name</th>\n",
       "      <td>string</td>\n",
       "      <td>NaturalLanguage</td>\n",
       "      <td>[]</td>\n",
       "    </tr>\n",
       "    <tr>\n",
       "      <th>country</th>\n",
       "      <td>string</td>\n",
       "      <td>NaturalLanguage</td>\n",
       "      <td>[]</td>\n",
       "    </tr>\n",
       "    <tr>\n",
       "      <th>total</th>\n",
       "      <td>float64</td>\n",
       "      <td>Double</td>\n",
       "      <td>['numeric']</td>\n",
       "    </tr>\n",
       "    <tr>\n",
       "      <th>cancelled</th>\n",
       "      <td>boolean</td>\n",
       "      <td>Boolean</td>\n",
       "      <td>[]</td>\n",
       "    </tr>\n",
       "  </tbody>\n",
       "</table>\n",
       "</div>"
      ],
      "text/plain": [
       "                   Physical Type     Logical Type          Semantic Tag(s)\n",
       "Data Column                                                               \n",
       "order_product_id           Int64          Integer              ['numeric']\n",
       "order_id                   Int64          Integer              ['numeric']\n",
       "product_id              category      Categorical             ['category']\n",
       "description               string  NaturalLanguage                       []\n",
       "quantity                   Int64          Integer              ['numeric']\n",
       "order_date        datetime64[ns]         Datetime  ['time_index', 'tag_1']\n",
       "unit_price               float64           Double              ['numeric']\n",
       "customer_name             string  NaturalLanguage                       []\n",
       "country                   string  NaturalLanguage                       []\n",
       "total                    float64           Double              ['numeric']\n",
       "cancelled                boolean          Boolean                       []"
      ]
     },
     "execution_count": 8,
     "metadata": {},
     "output_type": "execute_result"
    }
   ],
   "source": [
    "df.ww.dt = df.ww.set_time_index('order_date')\n",
    "df.ww.types"
   ]
  },
  {
   "cell_type": "markdown",
   "metadata": {},
   "source": [
    "Of course, it can be tedious to set each element of the DataTable individually, so the DataTable accessor provides an `init` method, which lets us pass the parameters we'd pass to DataTable.\n",
    "\n",
    "We'll reread the csv to start from ground zero with the DataTable.\n",
    "\n",
    "### Set Initial DataTable Attributes (index, time index, name, logical types)"
   ]
  },
  {
   "cell_type": "code",
   "execution_count": 9,
   "metadata": {},
   "outputs": [
    {
     "data": {
      "text/html": [
       "<table border=\"1\" class=\"dataframe\">\n",
       "  <thead>\n",
       "    <tr style=\"text-align: right;\">\n",
       "      <th></th>\n",
       "      <th>Physical Type</th>\n",
       "      <th>Logical Type</th>\n",
       "      <th>Semantic Tag(s)</th>\n",
       "    </tr>\n",
       "    <tr>\n",
       "      <th>Data Column</th>\n",
       "      <th></th>\n",
       "      <th></th>\n",
       "      <th></th>\n",
       "    </tr>\n",
       "  </thead>\n",
       "  <tbody>\n",
       "    <tr>\n",
       "      <th>order_product_id</th>\n",
       "      <td>Int64</td>\n",
       "      <td>Integer</td>\n",
       "      <td>['index']</td>\n",
       "    </tr>\n",
       "    <tr>\n",
       "      <th>order_id</th>\n",
       "      <td>Int64</td>\n",
       "      <td>Integer</td>\n",
       "      <td>['numeric']</td>\n",
       "    </tr>\n",
       "    <tr>\n",
       "      <th>product_id</th>\n",
       "      <td>category</td>\n",
       "      <td>Categorical</td>\n",
       "      <td>['category']</td>\n",
       "    </tr>\n",
       "    <tr>\n",
       "      <th>description</th>\n",
       "      <td>string</td>\n",
       "      <td>NaturalLanguage</td>\n",
       "      <td>[]</td>\n",
       "    </tr>\n",
       "    <tr>\n",
       "      <th>quantity</th>\n",
       "      <td>Int64</td>\n",
       "      <td>Integer</td>\n",
       "      <td>['numeric']</td>\n",
       "    </tr>\n",
       "    <tr>\n",
       "      <th>order_date</th>\n",
       "      <td>datetime64[ns]</td>\n",
       "      <td>Datetime</td>\n",
       "      <td>['time_index']</td>\n",
       "    </tr>\n",
       "    <tr>\n",
       "      <th>unit_price</th>\n",
       "      <td>float64</td>\n",
       "      <td>Double</td>\n",
       "      <td>['numeric']</td>\n",
       "    </tr>\n",
       "    <tr>\n",
       "      <th>customer_name</th>\n",
       "      <td>string</td>\n",
       "      <td>FullName</td>\n",
       "      <td>[]</td>\n",
       "    </tr>\n",
       "    <tr>\n",
       "      <th>country</th>\n",
       "      <td>category</td>\n",
       "      <td>CountryCode</td>\n",
       "      <td>['category']</td>\n",
       "    </tr>\n",
       "    <tr>\n",
       "      <th>total</th>\n",
       "      <td>float64</td>\n",
       "      <td>Double</td>\n",
       "      <td>['numeric']</td>\n",
       "    </tr>\n",
       "    <tr>\n",
       "      <th>cancelled</th>\n",
       "      <td>boolean</td>\n",
       "      <td>Boolean</td>\n",
       "      <td>[]</td>\n",
       "    </tr>\n",
       "  </tbody>\n",
       "</table>"
      ],
      "text/plain": [
       "<woodwork.accessor.DataTableAccessor object at 0x13e74fc18>"
      ]
     },
     "execution_count": 9,
     "metadata": {},
     "output_type": "execute_result"
    }
   ],
   "source": [
    "df = pd.read_csv('retail_data.csv', nrows=100)\n",
    "df.ww.init(name='retail_data',\n",
    "           time_index='order_date', \n",
    "           logical_types={'customer_name':'FullName', 'country':'CountryCode'}, \n",
    "           index='order_product_id')\n",
    "df.ww"
   ]
  },
  {
   "cell_type": "markdown",
   "metadata": {},
   "source": [
    "If we look at the dtypes on the dataframe, we'll see the dtypes of `quantity` and `country` have changed as well!"
   ]
  },
  {
   "cell_type": "code",
   "execution_count": 10,
   "metadata": {},
   "outputs": [
    {
     "data": {
      "text/plain": [
       "order_product_id             Int64\n",
       "order_id                     Int64\n",
       "product_id                category\n",
       "description                 string\n",
       "quantity                     Int64\n",
       "order_date          datetime64[ns]\n",
       "unit_price                 float64\n",
       "customer_name               string\n",
       "country                   category\n",
       "total                      float64\n",
       "cancelled                  boolean\n",
       "dtype: object"
      ]
     },
     "execution_count": 10,
     "metadata": {},
     "output_type": "execute_result"
    }
   ],
   "source": [
    "df.dtypes"
   ]
  },
  {
   "cell_type": "markdown",
   "metadata": {},
   "source": [
    "## Working with Your DataFrame + DataTable Accessor\n",
    "\n",
    "### Select Based on Tags / Logical Types\n",
    "\n",
    "Now that we have our types set, let's use them! Say we want to a DataFrame that only has `FullName` and `CountryCode` columns. We'll use `select` for that, giving us an updated DataTable with just the relevant columns.\n",
    "\n",
    "But, our actual goal here is to get the DataFrame. This is how we can do that:"
   ]
  },
  {
   "cell_type": "code",
   "execution_count": 11,
   "metadata": {},
   "outputs": [
    {
     "data": {
      "text/html": [
       "<table border=\"1\" class=\"dataframe\">\n",
       "  <thead>\n",
       "    <tr style=\"text-align: right;\">\n",
       "      <th></th>\n",
       "      <th>Physical Type</th>\n",
       "      <th>Logical Type</th>\n",
       "      <th>Semantic Tag(s)</th>\n",
       "    </tr>\n",
       "    <tr>\n",
       "      <th>Data Column</th>\n",
       "      <th></th>\n",
       "      <th></th>\n",
       "      <th></th>\n",
       "    </tr>\n",
       "  </thead>\n",
       "  <tbody>\n",
       "    <tr>\n",
       "      <th>customer_name</th>\n",
       "      <td>string</td>\n",
       "      <td>FullName</td>\n",
       "      <td>[]</td>\n",
       "    </tr>\n",
       "    <tr>\n",
       "      <th>country</th>\n",
       "      <td>category</td>\n",
       "      <td>CountryCode</td>\n",
       "      <td>['category']</td>\n",
       "    </tr>\n",
       "  </tbody>\n",
       "</table>"
      ],
      "text/plain": [
       "              Physical Type Logical Type Semantic Tag(s)\n",
       "Data Column                                             \n",
       "customer_name        string     FullName              []\n",
       "country            category  CountryCode    ['category']"
      ]
     },
     "execution_count": 11,
     "metadata": {},
     "output_type": "execute_result"
    }
   ],
   "source": [
    "selected_dt = df.ww.select(['FullName', 'CountryCode'])\n",
    "selected_dt"
   ]
  },
  {
   "cell_type": "markdown",
   "metadata": {},
   "source": [
    "Now we can easily get that DataFrame, but we've lost some of our DataTable typing info."
   ]
  },
  {
   "cell_type": "code",
   "execution_count": 12,
   "metadata": {},
   "outputs": [
    {
     "data": {
      "text/html": [
       "<table border=\"1\" class=\"dataframe\">\n",
       "  <thead>\n",
       "    <tr style=\"text-align: right;\">\n",
       "      <th></th>\n",
       "      <th>Physical Type</th>\n",
       "      <th>Logical Type</th>\n",
       "      <th>Semantic Tag(s)</th>\n",
       "    </tr>\n",
       "    <tr>\n",
       "      <th>Data Column</th>\n",
       "      <th></th>\n",
       "      <th></th>\n",
       "      <th></th>\n",
       "    </tr>\n",
       "  </thead>\n",
       "  <tbody>\n",
       "    <tr>\n",
       "      <th>customer_name</th>\n",
       "      <td>string</td>\n",
       "      <td>NaturalLanguage</td>\n",
       "      <td>[]</td>\n",
       "    </tr>\n",
       "    <tr>\n",
       "      <th>country</th>\n",
       "      <td>category</td>\n",
       "      <td>Categorical</td>\n",
       "      <td>['category']</td>\n",
       "    </tr>\n",
       "  </tbody>\n",
       "</table>"
      ],
      "text/plain": [
       "<woodwork.accessor.DataTableAccessor object at 0x13e7a6a58>"
      ]
     },
     "execution_count": 12,
     "metadata": {},
     "output_type": "execute_result"
    }
   ],
   "source": [
    "df = selected_dt.to_dataframe()\n",
    "df.ww"
   ]
  },
  {
   "cell_type": "markdown",
   "metadata": {},
   "source": [
    "The good news is that our DataTable will match our dataframe perfectly, so we can easiy fix that:"
   ]
  },
  {
   "cell_type": "code",
   "execution_count": 13,
   "metadata": {},
   "outputs": [
    {
     "data": {
      "text/html": [
       "<table border=\"1\" class=\"dataframe\">\n",
       "  <thead>\n",
       "    <tr style=\"text-align: right;\">\n",
       "      <th></th>\n",
       "      <th>Physical Type</th>\n",
       "      <th>Logical Type</th>\n",
       "      <th>Semantic Tag(s)</th>\n",
       "    </tr>\n",
       "    <tr>\n",
       "      <th>Data Column</th>\n",
       "      <th></th>\n",
       "      <th></th>\n",
       "      <th></th>\n",
       "    </tr>\n",
       "  </thead>\n",
       "  <tbody>\n",
       "    <tr>\n",
       "      <th>customer_name</th>\n",
       "      <td>string</td>\n",
       "      <td>FullName</td>\n",
       "      <td>[]</td>\n",
       "    </tr>\n",
       "    <tr>\n",
       "      <th>country</th>\n",
       "      <td>category</td>\n",
       "      <td>CountryCode</td>\n",
       "      <td>['category']</td>\n",
       "    </tr>\n",
       "  </tbody>\n",
       "</table>"
      ],
      "text/plain": [
       "<woodwork.accessor.DataTableAccessor object at 0x13e7a6a58>"
      ]
     },
     "execution_count": 13,
     "metadata": {},
     "output_type": "execute_result"
    }
   ],
   "source": [
    "df.ww.dt = selected_dt\n",
    "df.ww"
   ]
  },
  {
   "cell_type": "markdown",
   "metadata": {},
   "source": [
    "### Update your DataFrame\n",
    "\n",
    "In the example above, we performed an action on a DataTable and had to get out the DataFrame and update it to keep the typing info up to date. The converse is also possible.\n",
    "\n",
    "If we want to change a DataFrame--say via `sample`--we will get a new DataFrame devoid of any typing info, so we'll need to update it. Let's see how we can do that:"
   ]
  },
  {
   "cell_type": "code",
   "execution_count": 14,
   "metadata": {},
   "outputs": [
    {
     "data": {
      "text/html": [
       "<table border=\"1\" class=\"dataframe\">\n",
       "  <thead>\n",
       "    <tr style=\"text-align: right;\">\n",
       "      <th></th>\n",
       "      <th>Physical Type</th>\n",
       "      <th>Logical Type</th>\n",
       "      <th>Semantic Tag(s)</th>\n",
       "    </tr>\n",
       "    <tr>\n",
       "      <th>Data Column</th>\n",
       "      <th></th>\n",
       "      <th></th>\n",
       "      <th></th>\n",
       "    </tr>\n",
       "  </thead>\n",
       "  <tbody>\n",
       "    <tr>\n",
       "      <th>order_product_id</th>\n",
       "      <td>Int64</td>\n",
       "      <td>Integer</td>\n",
       "      <td>['index']</td>\n",
       "    </tr>\n",
       "    <tr>\n",
       "      <th>order_id</th>\n",
       "      <td>Int64</td>\n",
       "      <td>Integer</td>\n",
       "      <td>['numeric']</td>\n",
       "    </tr>\n",
       "    <tr>\n",
       "      <th>product_id</th>\n",
       "      <td>category</td>\n",
       "      <td>Categorical</td>\n",
       "      <td>['category']</td>\n",
       "    </tr>\n",
       "    <tr>\n",
       "      <th>description</th>\n",
       "      <td>string</td>\n",
       "      <td>NaturalLanguage</td>\n",
       "      <td>[]</td>\n",
       "    </tr>\n",
       "    <tr>\n",
       "      <th>quantity</th>\n",
       "      <td>Int64</td>\n",
       "      <td>Integer</td>\n",
       "      <td>['numeric']</td>\n",
       "    </tr>\n",
       "    <tr>\n",
       "      <th>order_date</th>\n",
       "      <td>datetime64[ns]</td>\n",
       "      <td>Datetime</td>\n",
       "      <td>['time_index']</td>\n",
       "    </tr>\n",
       "    <tr>\n",
       "      <th>unit_price</th>\n",
       "      <td>float64</td>\n",
       "      <td>Double</td>\n",
       "      <td>['numeric']</td>\n",
       "    </tr>\n",
       "    <tr>\n",
       "      <th>customer_name</th>\n",
       "      <td>string</td>\n",
       "      <td>FullName</td>\n",
       "      <td>[]</td>\n",
       "    </tr>\n",
       "    <tr>\n",
       "      <th>country</th>\n",
       "      <td>category</td>\n",
       "      <td>CountryCode</td>\n",
       "      <td>['category']</td>\n",
       "    </tr>\n",
       "    <tr>\n",
       "      <th>total</th>\n",
       "      <td>float64</td>\n",
       "      <td>Double</td>\n",
       "      <td>['numeric']</td>\n",
       "    </tr>\n",
       "    <tr>\n",
       "      <th>cancelled</th>\n",
       "      <td>boolean</td>\n",
       "      <td>Boolean</td>\n",
       "      <td>[]</td>\n",
       "    </tr>\n",
       "  </tbody>\n",
       "</table>"
      ],
      "text/plain": [
       "<woodwork.accessor.DataTableAccessor object at 0x13e7abf60>"
      ]
     },
     "execution_count": 14,
     "metadata": {},
     "output_type": "execute_result"
    }
   ],
   "source": [
    "df = pd.read_csv('retail_data.csv', nrows=100)\n",
    "df.ww.init(name='retail_data',\n",
    "           time_index='order_date', \n",
    "           logical_types={'customer_name':'FullName', 'country':'CountryCode'}, \n",
    "           index='order_product_id')\n",
    "original_dt = df.ww.dt\n",
    "df.ww"
   ]
  },
  {
   "cell_type": "code",
   "execution_count": 15,
   "metadata": {},
   "outputs": [
    {
     "data": {
      "text/html": [
       "<table border=\"1\" class=\"dataframe\">\n",
       "  <thead>\n",
       "    <tr style=\"text-align: right;\">\n",
       "      <th></th>\n",
       "      <th>Physical Type</th>\n",
       "      <th>Logical Type</th>\n",
       "      <th>Semantic Tag(s)</th>\n",
       "    </tr>\n",
       "    <tr>\n",
       "      <th>Data Column</th>\n",
       "      <th></th>\n",
       "      <th></th>\n",
       "      <th></th>\n",
       "    </tr>\n",
       "  </thead>\n",
       "  <tbody>\n",
       "    <tr>\n",
       "      <th>order_product_id</th>\n",
       "      <td>Int64</td>\n",
       "      <td>Integer</td>\n",
       "      <td>['numeric']</td>\n",
       "    </tr>\n",
       "    <tr>\n",
       "      <th>order_id</th>\n",
       "      <td>Int64</td>\n",
       "      <td>Integer</td>\n",
       "      <td>['numeric']</td>\n",
       "    </tr>\n",
       "    <tr>\n",
       "      <th>product_id</th>\n",
       "      <td>category</td>\n",
       "      <td>Categorical</td>\n",
       "      <td>['category']</td>\n",
       "    </tr>\n",
       "    <tr>\n",
       "      <th>description</th>\n",
       "      <td>string</td>\n",
       "      <td>NaturalLanguage</td>\n",
       "      <td>[]</td>\n",
       "    </tr>\n",
       "    <tr>\n",
       "      <th>quantity</th>\n",
       "      <td>Int64</td>\n",
       "      <td>Integer</td>\n",
       "      <td>['numeric']</td>\n",
       "    </tr>\n",
       "    <tr>\n",
       "      <th>order_date</th>\n",
       "      <td>datetime64[ns]</td>\n",
       "      <td>Datetime</td>\n",
       "      <td>[]</td>\n",
       "    </tr>\n",
       "    <tr>\n",
       "      <th>unit_price</th>\n",
       "      <td>float64</td>\n",
       "      <td>Double</td>\n",
       "      <td>['numeric']</td>\n",
       "    </tr>\n",
       "    <tr>\n",
       "      <th>customer_name</th>\n",
       "      <td>string</td>\n",
       "      <td>NaturalLanguage</td>\n",
       "      <td>[]</td>\n",
       "    </tr>\n",
       "    <tr>\n",
       "      <th>country</th>\n",
       "      <td>category</td>\n",
       "      <td>Categorical</td>\n",
       "      <td>['category']</td>\n",
       "    </tr>\n",
       "    <tr>\n",
       "      <th>total</th>\n",
       "      <td>float64</td>\n",
       "      <td>Double</td>\n",
       "      <td>['numeric']</td>\n",
       "    </tr>\n",
       "    <tr>\n",
       "      <th>cancelled</th>\n",
       "      <td>boolean</td>\n",
       "      <td>Boolean</td>\n",
       "      <td>[]</td>\n",
       "    </tr>\n",
       "  </tbody>\n",
       "</table>"
      ],
      "text/plain": [
       "<woodwork.accessor.DataTableAccessor object at 0x13e7abc18>"
      ]
     },
     "execution_count": 15,
     "metadata": {},
     "output_type": "execute_result"
    }
   ],
   "source": [
    "df = df.sample(50)\n",
    "df.ww"
   ]
  },
  {
   "cell_type": "code",
   "execution_count": 16,
   "metadata": {},
   "outputs": [
    {
     "data": {
      "text/html": [
       "<table border=\"1\" class=\"dataframe\">\n",
       "  <thead>\n",
       "    <tr style=\"text-align: right;\">\n",
       "      <th></th>\n",
       "      <th>Physical Type</th>\n",
       "      <th>Logical Type</th>\n",
       "      <th>Semantic Tag(s)</th>\n",
       "    </tr>\n",
       "    <tr>\n",
       "      <th>Data Column</th>\n",
       "      <th></th>\n",
       "      <th></th>\n",
       "      <th></th>\n",
       "    </tr>\n",
       "  </thead>\n",
       "  <tbody>\n",
       "    <tr>\n",
       "      <th>order_product_id</th>\n",
       "      <td>Int64</td>\n",
       "      <td>Integer</td>\n",
       "      <td>['index']</td>\n",
       "    </tr>\n",
       "    <tr>\n",
       "      <th>order_id</th>\n",
       "      <td>Int64</td>\n",
       "      <td>Integer</td>\n",
       "      <td>['numeric']</td>\n",
       "    </tr>\n",
       "    <tr>\n",
       "      <th>product_id</th>\n",
       "      <td>category</td>\n",
       "      <td>Categorical</td>\n",
       "      <td>['category']</td>\n",
       "    </tr>\n",
       "    <tr>\n",
       "      <th>description</th>\n",
       "      <td>string</td>\n",
       "      <td>NaturalLanguage</td>\n",
       "      <td>[]</td>\n",
       "    </tr>\n",
       "    <tr>\n",
       "      <th>quantity</th>\n",
       "      <td>Int64</td>\n",
       "      <td>Integer</td>\n",
       "      <td>['numeric']</td>\n",
       "    </tr>\n",
       "    <tr>\n",
       "      <th>order_date</th>\n",
       "      <td>datetime64[ns]</td>\n",
       "      <td>Datetime</td>\n",
       "      <td>['time_index']</td>\n",
       "    </tr>\n",
       "    <tr>\n",
       "      <th>unit_price</th>\n",
       "      <td>float64</td>\n",
       "      <td>Double</td>\n",
       "      <td>['numeric']</td>\n",
       "    </tr>\n",
       "    <tr>\n",
       "      <th>customer_name</th>\n",
       "      <td>string</td>\n",
       "      <td>FullName</td>\n",
       "      <td>[]</td>\n",
       "    </tr>\n",
       "    <tr>\n",
       "      <th>country</th>\n",
       "      <td>category</td>\n",
       "      <td>CountryCode</td>\n",
       "      <td>['category']</td>\n",
       "    </tr>\n",
       "    <tr>\n",
       "      <th>total</th>\n",
       "      <td>float64</td>\n",
       "      <td>Double</td>\n",
       "      <td>['numeric']</td>\n",
       "    </tr>\n",
       "    <tr>\n",
       "      <th>cancelled</th>\n",
       "      <td>boolean</td>\n",
       "      <td>Boolean</td>\n",
       "      <td>[]</td>\n",
       "    </tr>\n",
       "  </tbody>\n",
       "</table>"
      ],
      "text/plain": [
       "<woodwork.accessor.DataTableAccessor object at 0x13e7abc18>"
      ]
     },
     "execution_count": 16,
     "metadata": {},
     "output_type": "execute_result"
    }
   ],
   "source": [
    "original_dt.update_dataframe(df)\n",
    "df.ww.dt = original_dt\n",
    "df.ww"
   ]
  },
  {
   "cell_type": "markdown",
   "metadata": {},
   "source": [
    "These two examples above highlight the benefits of keeping your DataFrame and DataTable in sync. This is all currently being done with very minimal code written outside of what currently exists, but it's likely that there'll be good ways to simplify this process.\n",
    "\n",
    "Let's work through some more use cases that might come up."
   ]
  },
  {
   "cell_type": "markdown",
   "metadata": {},
   "source": [
    "### Using iloc\n",
    "\n",
    "iloc exists both on DataFrames and DataTables. Let's look at two different ways of using iloc to get a new Dataframe with the correct typing info."
   ]
  },
  {
   "cell_type": "code",
   "execution_count": 17,
   "metadata": {},
   "outputs": [
    {
     "data": {
      "text/html": [
       "<table border=\"1\" class=\"dataframe\">\n",
       "  <thead>\n",
       "    <tr style=\"text-align: right;\">\n",
       "      <th></th>\n",
       "      <th>Physical Type</th>\n",
       "      <th>Logical Type</th>\n",
       "      <th>Semantic Tag(s)</th>\n",
       "    </tr>\n",
       "    <tr>\n",
       "      <th>Data Column</th>\n",
       "      <th></th>\n",
       "      <th></th>\n",
       "      <th></th>\n",
       "    </tr>\n",
       "  </thead>\n",
       "  <tbody>\n",
       "    <tr>\n",
       "      <th>customer_name</th>\n",
       "      <td>string</td>\n",
       "      <td>FullName</td>\n",
       "      <td>[]</td>\n",
       "    </tr>\n",
       "    <tr>\n",
       "      <th>country</th>\n",
       "      <td>category</td>\n",
       "      <td>CountryCode</td>\n",
       "      <td>['category']</td>\n",
       "    </tr>\n",
       "    <tr>\n",
       "      <th>total</th>\n",
       "      <td>float64</td>\n",
       "      <td>Double</td>\n",
       "      <td>['numeric']</td>\n",
       "    </tr>\n",
       "    <tr>\n",
       "      <th>cancelled</th>\n",
       "      <td>boolean</td>\n",
       "      <td>Boolean</td>\n",
       "      <td>[]</td>\n",
       "    </tr>\n",
       "  </tbody>\n",
       "</table>"
      ],
      "text/plain": [
       "<woodwork.accessor.DataTableAccessor object at 0x13e7a6978>"
      ]
     },
     "execution_count": 17,
     "metadata": {},
     "output_type": "execute_result"
    }
   ],
   "source": [
    "# DataFrame.iloc\n",
    "df = pd.read_csv('retail_data.csv', nrows=100)\n",
    "df.ww.init(name='retail_data',\n",
    "           time_index='order_date', \n",
    "           logical_types={'customer_name':'FullName', 'country':'CountryCode'}, \n",
    "           index='order_product_id')\n",
    "\n",
    "original_dt = df.ww.dt\n",
    "df = df.iloc[:,-4:]\n",
    "df.ww.dt = original_dt[list(df.columns)]\n",
    "df.ww\n"
   ]
  },
  {
   "cell_type": "code",
   "execution_count": 18,
   "metadata": {},
   "outputs": [
    {
     "data": {
      "text/html": [
       "<table border=\"1\" class=\"dataframe\">\n",
       "  <thead>\n",
       "    <tr style=\"text-align: right;\">\n",
       "      <th></th>\n",
       "      <th>Physical Type</th>\n",
       "      <th>Logical Type</th>\n",
       "      <th>Semantic Tag(s)</th>\n",
       "    </tr>\n",
       "    <tr>\n",
       "      <th>Data Column</th>\n",
       "      <th></th>\n",
       "      <th></th>\n",
       "      <th></th>\n",
       "    </tr>\n",
       "  </thead>\n",
       "  <tbody>\n",
       "    <tr>\n",
       "      <th>customer_name</th>\n",
       "      <td>string</td>\n",
       "      <td>FullName</td>\n",
       "      <td>[]</td>\n",
       "    </tr>\n",
       "    <tr>\n",
       "      <th>country</th>\n",
       "      <td>category</td>\n",
       "      <td>CountryCode</td>\n",
       "      <td>['category']</td>\n",
       "    </tr>\n",
       "    <tr>\n",
       "      <th>total</th>\n",
       "      <td>float64</td>\n",
       "      <td>Double</td>\n",
       "      <td>['numeric']</td>\n",
       "    </tr>\n",
       "    <tr>\n",
       "      <th>cancelled</th>\n",
       "      <td>boolean</td>\n",
       "      <td>Boolean</td>\n",
       "      <td>[]</td>\n",
       "    </tr>\n",
       "  </tbody>\n",
       "</table>"
      ],
      "text/plain": [
       "<woodwork.accessor.DataTableAccessor object at 0x13e788710>"
      ]
     },
     "execution_count": 18,
     "metadata": {},
     "output_type": "execute_result"
    }
   ],
   "source": [
    "# DataTable.iloc\n",
    "df = pd.read_csv('retail_data.csv', nrows=100)\n",
    "df.ww.init(name='retail_data',\n",
    "           time_index='order_date', \n",
    "           logical_types={'customer_name':'FullName', 'country':'CountryCode'}, \n",
    "           index='order_product_id')\n",
    "\n",
    "updated_dt = df.ww.iloc[:,-4:]\n",
    "df = updated_dt.to_dataframe()\n",
    "df.ww.dt = updated_dt\n",
    "df.ww"
   ]
  },
  {
   "cell_type": "markdown",
   "metadata": {},
   "source": [
    "## In Place Changes\n",
    "\n",
    "We've looked at various DataTable methods that create a new DataTable, but let's look at one that mutates the DataTable itself. \n",
    "\n",
    "Note: Any of this behavior can be changed based on input!\n",
    "\n",
    "### Pop a column"
   ]
  },
  {
   "cell_type": "code",
   "execution_count": 19,
   "metadata": {},
   "outputs": [
    {
     "data": {
      "text/html": [
       "<table border=\"1\" class=\"dataframe\">\n",
       "  <thead>\n",
       "    <tr style=\"text-align: right;\">\n",
       "      <th></th>\n",
       "      <th>Physical Type</th>\n",
       "      <th>Logical Type</th>\n",
       "      <th>Semantic Tag(s)</th>\n",
       "    </tr>\n",
       "    <tr>\n",
       "      <th>Data Column</th>\n",
       "      <th></th>\n",
       "      <th></th>\n",
       "      <th></th>\n",
       "    </tr>\n",
       "  </thead>\n",
       "  <tbody>\n",
       "    <tr>\n",
       "      <th>order_product_id</th>\n",
       "      <td>Int64</td>\n",
       "      <td>Integer</td>\n",
       "      <td>['index']</td>\n",
       "    </tr>\n",
       "    <tr>\n",
       "      <th>order_id</th>\n",
       "      <td>Int64</td>\n",
       "      <td>Integer</td>\n",
       "      <td>['numeric']</td>\n",
       "    </tr>\n",
       "    <tr>\n",
       "      <th>product_id</th>\n",
       "      <td>category</td>\n",
       "      <td>Categorical</td>\n",
       "      <td>['category']</td>\n",
       "    </tr>\n",
       "    <tr>\n",
       "      <th>description</th>\n",
       "      <td>string</td>\n",
       "      <td>NaturalLanguage</td>\n",
       "      <td>[]</td>\n",
       "    </tr>\n",
       "    <tr>\n",
       "      <th>quantity</th>\n",
       "      <td>Int64</td>\n",
       "      <td>Integer</td>\n",
       "      <td>['numeric']</td>\n",
       "    </tr>\n",
       "    <tr>\n",
       "      <th>order_date</th>\n",
       "      <td>datetime64[ns]</td>\n",
       "      <td>Datetime</td>\n",
       "      <td>['time_index']</td>\n",
       "    </tr>\n",
       "    <tr>\n",
       "      <th>unit_price</th>\n",
       "      <td>float64</td>\n",
       "      <td>Double</td>\n",
       "      <td>['numeric']</td>\n",
       "    </tr>\n",
       "    <tr>\n",
       "      <th>customer_name</th>\n",
       "      <td>string</td>\n",
       "      <td>FullName</td>\n",
       "      <td>[]</td>\n",
       "    </tr>\n",
       "    <tr>\n",
       "      <th>country</th>\n",
       "      <td>category</td>\n",
       "      <td>CountryCode</td>\n",
       "      <td>['category']</td>\n",
       "    </tr>\n",
       "    <tr>\n",
       "      <th>total</th>\n",
       "      <td>float64</td>\n",
       "      <td>Double</td>\n",
       "      <td>['numeric']</td>\n",
       "    </tr>\n",
       "  </tbody>\n",
       "</table>"
      ],
      "text/plain": [
       "<woodwork.accessor.DataTableAccessor object at 0x13e7ec278>"
      ]
     },
     "execution_count": 19,
     "metadata": {},
     "output_type": "execute_result"
    }
   ],
   "source": [
    "# DataFrame.pop\n",
    "df = pd.read_csv('retail_data.csv', nrows=100)\n",
    "df.ww.init(name='retail_data',\n",
    "           time_index='order_date', \n",
    "           logical_types={'customer_name':'FullName', 'country':'CountryCode'}, \n",
    "           index='order_product_id')\n",
    "\n",
    "# Won't remove from DataTable\n",
    "series = df.pop('cancelled')\n",
    "assert 'cancelled' not in df.columns\n",
    "assert 'cancelled' in df.ww.columns\n",
    "\n",
    "df.ww.dt = df.ww.dt[list(df.columns)]\n",
    "assert 'cancelled' not in df.columns\n",
    "assert 'cancelled' not in df.ww.columns\n",
    "df.ww #still has relevant types because it was all done in place"
   ]
  },
  {
   "cell_type": "code",
   "execution_count": 20,
   "metadata": {},
   "outputs": [
    {
     "data": {
      "text/html": [
       "<table border=\"1\" class=\"dataframe\">\n",
       "  <thead>\n",
       "    <tr style=\"text-align: right;\">\n",
       "      <th></th>\n",
       "      <th>Physical Type</th>\n",
       "      <th>Logical Type</th>\n",
       "      <th>Semantic Tag(s)</th>\n",
       "    </tr>\n",
       "    <tr>\n",
       "      <th>Data Column</th>\n",
       "      <th></th>\n",
       "      <th></th>\n",
       "      <th></th>\n",
       "    </tr>\n",
       "  </thead>\n",
       "  <tbody>\n",
       "    <tr>\n",
       "      <th>order_product_id</th>\n",
       "      <td>Int64</td>\n",
       "      <td>Integer</td>\n",
       "      <td>['index']</td>\n",
       "    </tr>\n",
       "    <tr>\n",
       "      <th>order_id</th>\n",
       "      <td>Int64</td>\n",
       "      <td>Integer</td>\n",
       "      <td>['numeric']</td>\n",
       "    </tr>\n",
       "    <tr>\n",
       "      <th>product_id</th>\n",
       "      <td>category</td>\n",
       "      <td>Categorical</td>\n",
       "      <td>['category']</td>\n",
       "    </tr>\n",
       "    <tr>\n",
       "      <th>description</th>\n",
       "      <td>string</td>\n",
       "      <td>NaturalLanguage</td>\n",
       "      <td>[]</td>\n",
       "    </tr>\n",
       "    <tr>\n",
       "      <th>quantity</th>\n",
       "      <td>Int64</td>\n",
       "      <td>Integer</td>\n",
       "      <td>['numeric']</td>\n",
       "    </tr>\n",
       "    <tr>\n",
       "      <th>order_date</th>\n",
       "      <td>datetime64[ns]</td>\n",
       "      <td>Datetime</td>\n",
       "      <td>['time_index']</td>\n",
       "    </tr>\n",
       "    <tr>\n",
       "      <th>unit_price</th>\n",
       "      <td>float64</td>\n",
       "      <td>Double</td>\n",
       "      <td>['numeric']</td>\n",
       "    </tr>\n",
       "    <tr>\n",
       "      <th>customer_name</th>\n",
       "      <td>string</td>\n",
       "      <td>FullName</td>\n",
       "      <td>[]</td>\n",
       "    </tr>\n",
       "    <tr>\n",
       "      <th>country</th>\n",
       "      <td>category</td>\n",
       "      <td>CountryCode</td>\n",
       "      <td>['category']</td>\n",
       "    </tr>\n",
       "    <tr>\n",
       "      <th>total</th>\n",
       "      <td>float64</td>\n",
       "      <td>Double</td>\n",
       "      <td>['numeric']</td>\n",
       "    </tr>\n",
       "  </tbody>\n",
       "</table>"
      ],
      "text/plain": [
       "<woodwork.accessor.DataTableAccessor object at 0x13e7e0978>"
      ]
     },
     "execution_count": 20,
     "metadata": {},
     "output_type": "execute_result"
    }
   ],
   "source": [
    "# DataTable.pop\n",
    "df = pd.read_csv('retail_data.csv', nrows=100)\n",
    "df.ww.init(name='retail_data',\n",
    "           time_index='order_date', \n",
    "           logical_types={'customer_name':'FullName', 'country':'CountryCode'}, \n",
    "           index='order_product_id')\n",
    "\n",
    "# Won't remove from DataFrame\n",
    "datacolumn = df.ww.pop('cancelled')\n",
    "assert 'cancelled' in df.columns\n",
    "assert 'cancelled' not in df.ww.columns\n",
    "\n",
    "df.drop('cancelled',axis=1, inplace=True)\n",
    "assert 'cancelled' not in df.columns\n",
    "assert 'cancelled' not in df.ww.columns\n",
    "\n",
    "df.ww"
   ]
  },
  {
   "cell_type": "markdown",
   "metadata": {},
   "source": [
    "### Change column dtype (or logical type) with astype\n",
    "\n",
    "The use case here is that you want to update the dtype of your DataFrame.\n",
    "\n",
    "#### Via `astype`"
   ]
  },
  {
   "cell_type": "code",
   "execution_count": 21,
   "metadata": {},
   "outputs": [],
   "source": [
    "df = pd.read_csv('retail_data.csv', nrows=100)\n",
    "df.ww.init(name='retail_data',\n",
    "           time_index='order_date', \n",
    "           logical_types={'customer_name':'FullName', 'country':'CountryCode'}, \n",
    "           index='order_product_id')\n",
    "\n",
    "df['cancelled'] = df['cancelled'].astype('int')\n",
    "\n",
    "assert df['cancelled'].dtype == 'int64'\n",
    "assert df.ww.columns['cancelled'].dtype == 'boolean'\n",
    "# It's not actually possible to have 'int64' as a dtype in a Pandas DataTable, so we'll\n",
    "# convert to 'Int64'\n",
    "df.ww.dt = df.ww.set_types(logical_types={'cancelled':'Integer'})\n",
    "assert df['cancelled'].dtype == 'int64'\n",
    "assert df.ww.columns['cancelled'].dtype == 'Int64'\n",
    "assert df.ww.columns['cancelled'].dtype != df['cancelled'].dtype \n",
    "\n",
    "df['cancelled'] = df['cancelled'].astype('Int64')\n",
    "assert df['cancelled'].dtype == 'Int64'\n",
    "assert df.ww.columns['cancelled'].dtype == 'Int64'\n",
    "assert df.ww.columns['cancelled'].dtype == df['cancelled'].dtype "
   ]
  },
  {
   "cell_type": "markdown",
   "metadata": {},
   "source": [
    "We can see above that just using `df.ww.set_types` would have achieved the same result without going through `df.astype`. \n",
    "\n",
    "### Setitem \n",
    "\n"
   ]
  },
  {
   "cell_type": "code",
   "execution_count": 22,
   "metadata": {},
   "outputs": [],
   "source": [
    "df = pd.read_csv('retail_data.csv', nrows=100)\n",
    "df.ww.init(name='retail_data',\n",
    "           time_index='order_date', \n",
    "           logical_types={'customer_name':'FullName', 'country':'CountryCode'}, \n",
    "           index='order_product_id')\n",
    "\n",
    "dc = ww.DataColumn(pd.Series([1]*100))\n",
    "df.ww.__setitem__('new_col', dc)\n",
    "\n",
    "assert 'new_col' in df.ww.columns\n",
    "assert 'new_col' not in df.columns\n",
    "\n",
    "df['new_col'] = df.ww.columns['new_col'].to_series()\n",
    "assert 'new_col' in df.ww.columns\n",
    "assert 'new_col' in df.columns"
   ]
  },
  {
   "cell_type": "markdown",
   "metadata": {},
   "source": [
    "## Other DataTable Functionality\n",
    "\n",
    "### Serialization\n",
    "We can serialize!"
   ]
  },
  {
   "cell_type": "code",
   "execution_count": 23,
   "metadata": {},
   "outputs": [],
   "source": [
    "df.ww.to_csv('test')"
   ]
  },
  {
   "cell_type": "code",
   "execution_count": 24,
   "metadata": {},
   "outputs": [
    {
     "name": "stdout",
     "output_type": "stream",
     "text": [
      "['table_description.json', 'data']\n",
      "['retail_data.csv']\n"
     ]
    }
   ],
   "source": [
    "import os\n",
    "print(os.listdir('test'))\n",
    "print(os.listdir('test/data'))"
   ]
  },
  {
   "cell_type": "markdown",
   "metadata": {},
   "source": [
    "### Statistical Insights"
   ]
  },
  {
   "cell_type": "code",
   "execution_count": 25,
   "metadata": {},
   "outputs": [],
   "source": [
    "df = pd.read_csv('retail_data.csv', nrows=100)\n",
    "df.ww.init(name='retail_data',\n",
    "           time_index='order_date', \n",
    "           logical_types={'customer_name':'FullName', 'country':'CountryCode'}, \n",
    "           index='order_product_id')\n"
   ]
  },
  {
   "cell_type": "code",
   "execution_count": 26,
   "metadata": {},
   "outputs": [
    {
     "data": {
      "text/plain": [
       "{'product_id': [{'value': '84029E', 'count': 3},\n",
       "  {'value': '22752', 'count': 3},\n",
       "  {'value': '71053', 'count': 3},\n",
       "  {'value': '22632', 'count': 3},\n",
       "  {'value': '84029G', 'count': 3},\n",
       "  {'value': '84406B', 'count': 3},\n",
       "  {'value': '85123A', 'count': 3},\n",
       "  {'value': '21730', 'count': 3},\n",
       "  {'value': '22633', 'count': 3},\n",
       "  {'value': '21068', 'count': 2}],\n",
       " 'country': [{'value': 'United Kingdom', 'count': 80},\n",
       "  {'value': 'France', 'count': 20}]}"
      ]
     },
     "execution_count": 26,
     "metadata": {},
     "output_type": "execute_result"
    }
   ],
   "source": [
    "df.ww.value_counts()"
   ]
  },
  {
   "cell_type": "markdown",
   "metadata": {},
   "source": [
    "## Woodwork DataColumn Accessor\n",
    "\n",
    "Just like the DataTable Accessor, we have a DataColumn Accessor on pandas Series that gives you DataColumn functionality via `series.ww`."
   ]
  },
  {
   "cell_type": "code",
   "execution_count": 27,
   "metadata": {},
   "outputs": [
    {
     "name": "stdout",
     "output_type": "stream",
     "text": [
      "NaturalLanguage\n"
     ]
    },
    {
     "data": {
      "text/plain": [
       "FullName"
      ]
     },
     "execution_count": 27,
     "metadata": {},
     "output_type": "execute_result"
    }
   ],
   "source": [
    "# Update Logical Type\n",
    "df = pd.read_csv('retail_data.csv', nrows=100)\n",
    "customer_name = df['customer_name']\n",
    "\n",
    "print(customer_name.ww.logical_type)\n",
    "customer_name.ww.dc = customer_name.ww.set_logical_type('FullName')\n",
    "customer_name.ww.logical_type"
   ]
  },
  {
   "cell_type": "code",
   "execution_count": 28,
   "metadata": {},
   "outputs": [
    {
     "name": "stdout",
     "output_type": "stream",
     "text": [
      "int64 Int64\n",
      "int64 string\n",
      "string string\n"
     ]
    }
   ],
   "source": [
    "# Change dtype\n",
    "quantity = df['quantity']\n",
    "print(quantity.dtype, quantity.ww.dtype)\n",
    "\n",
    "quantity.ww.dc = quantity.ww.set_logical_type('NaturalLanguage')\n",
    "print(quantity.dtype, quantity.ww.dtype)\n",
    "\n",
    "dc = quantity.ww.dc\n",
    "quantity = quantity.ww.dc._series\n",
    "quantity.ww.dc = dc\n",
    "print(quantity.dtype, quantity.ww.dtype)\n",
    "\n"
   ]
  },
  {
   "cell_type": "markdown",
   "metadata": {},
   "source": [
    "# To Do \n",
    "\n",
    "### Add Util Functions\n",
    "\n",
    "```python\n",
    "def describe(dataframe)\n",
    "    \"\"\"\n",
    "        dataframe (pd.DataFrame): DataFrame with woodwork init\n",
    "    \"\"\"\n",
    "```\n",
    "\n",
    "The end user usage would look like this:\n",
    "\n",
    "```python\n",
    "from woodwork import describe \n",
    "\n",
    "dataframe_described = describe(df)\n",
    "```\n",
    "\n",
    "### Handle DataTable setters and setitem/getitem\n",
    "\n",
    "Currently the index and time_index setters will need to be directly added to the Accessor in order to achieve this functionality:\n",
    "```python\n",
    "# Setting with index\n",
    "df.ww.index = 'id'\n",
    "# __setitem__\n",
    "df.ww['new_col'] = DataColumn(..)\n",
    "```\n"
   ]
  }
 ],
 "metadata": {
  "kernelspec": {
   "display_name": "Python 3",
   "language": "python",
   "name": "python3"
  },
  "language_info": {
   "codemirror_mode": {
    "name": "ipython",
    "version": 3
   },
   "file_extension": ".py",
   "mimetype": "text/x-python",
   "name": "python",
   "nbconvert_exporter": "python",
   "pygments_lexer": "ipython3",
   "version": "3.6.8"
  }
 },
 "nbformat": 4,
 "nbformat_minor": 4
}
