{
 "cells": [
  {
   "cell_type": "code",
   "execution_count": 1,
   "metadata": {},
   "outputs": [],
   "source": [
    "import pandas as pd"
   ]
  },
  {
   "cell_type": "markdown",
   "metadata": {},
   "source": [
    "## Import Accessor (to hit decorator)"
   ]
  },
  {
   "cell_type": "code",
   "execution_count": 2,
   "metadata": {},
   "outputs": [],
   "source": [
    "import woodwork.accessor"
   ]
  },
  {
   "cell_type": "markdown",
   "metadata": {},
   "source": [
    "## Create DataFrame"
   ]
  },
  {
   "cell_type": "code",
   "execution_count": 3,
   "metadata": {},
   "outputs": [
    {
     "data": {
      "text/html": [
       "<div>\n",
       "<style scoped>\n",
       "    .dataframe tbody tr th:only-of-type {\n",
       "        vertical-align: middle;\n",
       "    }\n",
       "\n",
       "    .dataframe tbody tr th {\n",
       "        vertical-align: top;\n",
       "    }\n",
       "\n",
       "    .dataframe thead th {\n",
       "        text-align: right;\n",
       "    }\n",
       "</style>\n",
       "<table border=\"1\" class=\"dataframe\">\n",
       "  <thead>\n",
       "    <tr style=\"text-align: right;\">\n",
       "      <th></th>\n",
       "      <th>order_id</th>\n",
       "      <th>product_id</th>\n",
       "      <th>description</th>\n",
       "      <th>quantity</th>\n",
       "      <th>order_date</th>\n",
       "      <th>unit_price</th>\n",
       "      <th>customer_name</th>\n",
       "      <th>country</th>\n",
       "      <th>total</th>\n",
       "      <th>cancelled</th>\n",
       "    </tr>\n",
       "  </thead>\n",
       "  <tbody>\n",
       "    <tr>\n",
       "      <th>0</th>\n",
       "      <td>536588</td>\n",
       "      <td>22666</td>\n",
       "      <td>RECIPE BOX PANTRY YELLOW DESIGN</td>\n",
       "      <td>12</td>\n",
       "      <td>2010-12-01 16:49:00</td>\n",
       "      <td>4.8675</td>\n",
       "      <td>Emily Carrillo</td>\n",
       "      <td>United Kingdom</td>\n",
       "      <td>58.410</td>\n",
       "      <td>False</td>\n",
       "    </tr>\n",
       "    <tr>\n",
       "      <th>1</th>\n",
       "      <td>536732</td>\n",
       "      <td>22910</td>\n",
       "      <td>PAPER CHAIN KIT VINTAGE CHRISTMAS</td>\n",
       "      <td>6</td>\n",
       "      <td>2010-12-02 12:47:00</td>\n",
       "      <td>4.8675</td>\n",
       "      <td>Tyler Rose</td>\n",
       "      <td>United Kingdom</td>\n",
       "      <td>29.205</td>\n",
       "      <td>False</td>\n",
       "    </tr>\n",
       "    <tr>\n",
       "      <th>2</th>\n",
       "      <td>536733</td>\n",
       "      <td>84375</td>\n",
       "      <td>SET OF 20 KIDS COOKIE CUTTERS</td>\n",
       "      <td>12</td>\n",
       "      <td>2010-12-02 12:50:00</td>\n",
       "      <td>3.4650</td>\n",
       "      <td>Jacqueline Garcia</td>\n",
       "      <td>United Kingdom</td>\n",
       "      <td>41.580</td>\n",
       "      <td>False</td>\n",
       "    </tr>\n",
       "    <tr>\n",
       "      <th>3</th>\n",
       "      <td>536403</td>\n",
       "      <td>22867</td>\n",
       "      <td>HAND WARMER BIRD DESIGN</td>\n",
       "      <td>96</td>\n",
       "      <td>2010-12-01 11:27:00</td>\n",
       "      <td>3.0525</td>\n",
       "      <td>Shawn Carson</td>\n",
       "      <td>Netherlands</td>\n",
       "      <td>293.040</td>\n",
       "      <td>False</td>\n",
       "    </tr>\n",
       "    <tr>\n",
       "      <th>4</th>\n",
       "      <td>536753</td>\n",
       "      <td>22632</td>\n",
       "      <td>HAND WARMER RED POLKA DOT</td>\n",
       "      <td>6</td>\n",
       "      <td>2010-12-02 14:07:00</td>\n",
       "      <td>3.0525</td>\n",
       "      <td>Andrea Brown</td>\n",
       "      <td>United Kingdom</td>\n",
       "      <td>18.315</td>\n",
       "      <td>False</td>\n",
       "    </tr>\n",
       "  </tbody>\n",
       "</table>\n",
       "</div>"
      ],
      "text/plain": [
       "   order_id product_id                        description  quantity  \\\n",
       "0    536588      22666    RECIPE BOX PANTRY YELLOW DESIGN        12   \n",
       "1    536732      22910  PAPER CHAIN KIT VINTAGE CHRISTMAS         6   \n",
       "2    536733      84375      SET OF 20 KIDS COOKIE CUTTERS        12   \n",
       "3    536403      22867            HAND WARMER BIRD DESIGN        96   \n",
       "4    536753      22632          HAND WARMER RED POLKA DOT         6   \n",
       "\n",
       "            order_date  unit_price      customer_name         country  \\\n",
       "0  2010-12-01 16:49:00      4.8675     Emily Carrillo  United Kingdom   \n",
       "1  2010-12-02 12:47:00      4.8675         Tyler Rose  United Kingdom   \n",
       "2  2010-12-02 12:50:00      3.4650  Jacqueline Garcia  United Kingdom   \n",
       "3  2010-12-01 11:27:00      3.0525       Shawn Carson     Netherlands   \n",
       "4  2010-12-02 14:07:00      3.0525       Andrea Brown  United Kingdom   \n",
       "\n",
       "     total  cancelled  \n",
       "0   58.410      False  \n",
       "1   29.205      False  \n",
       "2   41.580      False  \n",
       "3  293.040      False  \n",
       "4   18.315      False  "
      ]
     },
     "execution_count": 3,
     "metadata": {},
     "output_type": "execute_result"
    }
   ],
   "source": [
    "df = pd.read_csv('retail_data.csv', nrows=100)\n",
    "df.head(5)"
   ]
  },
  {
   "cell_type": "markdown",
   "metadata": {},
   "source": [
    "### DataFrame Dtypes"
   ]
  },
  {
   "cell_type": "code",
   "execution_count": 4,
   "metadata": {},
   "outputs": [
    {
     "data": {
      "text/plain": [
       "order_id           int64\n",
       "product_id        object\n",
       "description       object\n",
       "quantity           int64\n",
       "order_date        object\n",
       "unit_price       float64\n",
       "customer_name     object\n",
       "country           object\n",
       "total            float64\n",
       "cancelled           bool\n",
       "dtype: object"
      ]
     },
     "execution_count": 4,
     "metadata": {},
     "output_type": "execute_result"
    }
   ],
   "source": [
    "df.dtypes"
   ]
  },
  {
   "cell_type": "markdown",
   "metadata": {},
   "source": [
    "## Init Woodwork Accessor"
   ]
  },
  {
   "cell_type": "code",
   "execution_count": 5,
   "metadata": {},
   "outputs": [
    {
     "name": "stdout",
     "output_type": "stream",
     "text": [
      "__init__ DataTableAccessor\n"
     ]
    }
   ],
   "source": [
    "df.ww.init()"
   ]
  },
  {
   "cell_type": "markdown",
   "metadata": {},
   "source": [
    "## DataFrame has inferred Logical Types, and semantic tags"
   ]
  },
  {
   "cell_type": "code",
   "execution_count": 6,
   "metadata": {},
   "outputs": [
    {
     "data": {
      "text/html": [
       "<div>\n",
       "<style scoped>\n",
       "    .dataframe tbody tr th:only-of-type {\n",
       "        vertical-align: middle;\n",
       "    }\n",
       "\n",
       "    .dataframe tbody tr th {\n",
       "        vertical-align: top;\n",
       "    }\n",
       "\n",
       "    .dataframe thead th {\n",
       "        text-align: right;\n",
       "    }\n",
       "</style>\n",
       "<table border=\"1\" class=\"dataframe\">\n",
       "  <thead>\n",
       "    <tr style=\"text-align: right;\">\n",
       "      <th></th>\n",
       "      <th>Physical Type</th>\n",
       "      <th>Logical Type</th>\n",
       "      <th>Semantic Tag(s)</th>\n",
       "    </tr>\n",
       "    <tr>\n",
       "      <th>Data Column</th>\n",
       "      <th></th>\n",
       "      <th></th>\n",
       "      <th></th>\n",
       "    </tr>\n",
       "  </thead>\n",
       "  <tbody>\n",
       "    <tr>\n",
       "      <th>order_id</th>\n",
       "      <td>Int64</td>\n",
       "      <td>Integer</td>\n",
       "      <td>['numeric']</td>\n",
       "    </tr>\n",
       "    <tr>\n",
       "      <th>product_id</th>\n",
       "      <td>category</td>\n",
       "      <td>Categorical</td>\n",
       "      <td>['category']</td>\n",
       "    </tr>\n",
       "    <tr>\n",
       "      <th>description</th>\n",
       "      <td>string</td>\n",
       "      <td>NaturalLanguage</td>\n",
       "      <td>[]</td>\n",
       "    </tr>\n",
       "    <tr>\n",
       "      <th>quantity</th>\n",
       "      <td>Int64</td>\n",
       "      <td>Integer</td>\n",
       "      <td>['numeric']</td>\n",
       "    </tr>\n",
       "    <tr>\n",
       "      <th>order_date</th>\n",
       "      <td>datetime64[ns]</td>\n",
       "      <td>Datetime</td>\n",
       "      <td>[]</td>\n",
       "    </tr>\n",
       "    <tr>\n",
       "      <th>unit_price</th>\n",
       "      <td>float64</td>\n",
       "      <td>Double</td>\n",
       "      <td>['numeric']</td>\n",
       "    </tr>\n",
       "    <tr>\n",
       "      <th>customer_name</th>\n",
       "      <td>string</td>\n",
       "      <td>NaturalLanguage</td>\n",
       "      <td>[]</td>\n",
       "    </tr>\n",
       "    <tr>\n",
       "      <th>country</th>\n",
       "      <td>string</td>\n",
       "      <td>NaturalLanguage</td>\n",
       "      <td>[]</td>\n",
       "    </tr>\n",
       "    <tr>\n",
       "      <th>total</th>\n",
       "      <td>float64</td>\n",
       "      <td>Double</td>\n",
       "      <td>['numeric']</td>\n",
       "    </tr>\n",
       "    <tr>\n",
       "      <th>cancelled</th>\n",
       "      <td>boolean</td>\n",
       "      <td>Boolean</td>\n",
       "      <td>[]</td>\n",
       "    </tr>\n",
       "  </tbody>\n",
       "</table>\n",
       "</div>"
      ],
      "text/plain": [
       "                Physical Type     Logical Type Semantic Tag(s)\n",
       "Data Column                                                   \n",
       "order_id                Int64          Integer     ['numeric']\n",
       "product_id           category      Categorical    ['category']\n",
       "description            string  NaturalLanguage              []\n",
       "quantity                Int64          Integer     ['numeric']\n",
       "order_date     datetime64[ns]         Datetime              []\n",
       "unit_price            float64           Double     ['numeric']\n",
       "customer_name          string  NaturalLanguage              []\n",
       "country                string  NaturalLanguage              []\n",
       "total                 float64           Double     ['numeric']\n",
       "cancelled             boolean          Boolean              []"
      ]
     },
     "execution_count": 6,
     "metadata": {},
     "output_type": "execute_result"
    }
   ],
   "source": [
    "df.ww.types"
   ]
  },
  {
   "cell_type": "code",
   "execution_count": 7,
   "metadata": {},
   "outputs": [
    {
     "data": {
      "text/plain": [
       "order_id                  Int64\n",
       "product_id             category\n",
       "description              string\n",
       "quantity                  Int64\n",
       "order_date       datetime64[ns]\n",
       "unit_price              float64\n",
       "customer_name            string\n",
       "country                  string\n",
       "total                   float64\n",
       "cancelled               boolean\n",
       "dtype: object"
      ]
     },
     "execution_count": 7,
     "metadata": {},
     "output_type": "execute_result"
    }
   ],
   "source": [
    "df.dtypes"
   ]
  },
  {
   "cell_type": "markdown",
   "metadata": {},
   "source": [
    "## Set Initial DataTable Attributes (time index, name, logical types, create index)"
   ]
  },
  {
   "cell_type": "code",
   "execution_count": 8,
   "metadata": {},
   "outputs": [
    {
     "data": {
      "text/html": [
       "<div>\n",
       "<style scoped>\n",
       "    .dataframe tbody tr th:only-of-type {\n",
       "        vertical-align: middle;\n",
       "    }\n",
       "\n",
       "    .dataframe tbody tr th {\n",
       "        vertical-align: top;\n",
       "    }\n",
       "\n",
       "    .dataframe thead th {\n",
       "        text-align: right;\n",
       "    }\n",
       "</style>\n",
       "<table border=\"1\" class=\"dataframe\">\n",
       "  <thead>\n",
       "    <tr style=\"text-align: right;\">\n",
       "      <th></th>\n",
       "      <th>Physical Type</th>\n",
       "      <th>Logical Type</th>\n",
       "      <th>Semantic Tag(s)</th>\n",
       "    </tr>\n",
       "    <tr>\n",
       "      <th>Data Column</th>\n",
       "      <th></th>\n",
       "      <th></th>\n",
       "      <th></th>\n",
       "    </tr>\n",
       "  </thead>\n",
       "  <tbody>\n",
       "    <tr>\n",
       "      <th>order_product_id</th>\n",
       "      <td>Int64</td>\n",
       "      <td>Integer</td>\n",
       "      <td>['index']</td>\n",
       "    </tr>\n",
       "    <tr>\n",
       "      <th>order_id</th>\n",
       "      <td>Int64</td>\n",
       "      <td>Integer</td>\n",
       "      <td>['numeric']</td>\n",
       "    </tr>\n",
       "    <tr>\n",
       "      <th>product_id</th>\n",
       "      <td>category</td>\n",
       "      <td>Categorical</td>\n",
       "      <td>['category']</td>\n",
       "    </tr>\n",
       "    <tr>\n",
       "      <th>description</th>\n",
       "      <td>string</td>\n",
       "      <td>NaturalLanguage</td>\n",
       "      <td>[]</td>\n",
       "    </tr>\n",
       "    <tr>\n",
       "      <th>quantity</th>\n",
       "      <td>float64</td>\n",
       "      <td>Double</td>\n",
       "      <td>['numeric']</td>\n",
       "    </tr>\n",
       "    <tr>\n",
       "      <th>order_date</th>\n",
       "      <td>datetime64[ns]</td>\n",
       "      <td>Datetime</td>\n",
       "      <td>['time_index']</td>\n",
       "    </tr>\n",
       "    <tr>\n",
       "      <th>unit_price</th>\n",
       "      <td>float64</td>\n",
       "      <td>Double</td>\n",
       "      <td>['numeric']</td>\n",
       "    </tr>\n",
       "    <tr>\n",
       "      <th>customer_name</th>\n",
       "      <td>string</td>\n",
       "      <td>NaturalLanguage</td>\n",
       "      <td>[]</td>\n",
       "    </tr>\n",
       "    <tr>\n",
       "      <th>country</th>\n",
       "      <td>string</td>\n",
       "      <td>NaturalLanguage</td>\n",
       "      <td>[]</td>\n",
       "    </tr>\n",
       "    <tr>\n",
       "      <th>total</th>\n",
       "      <td>float64</td>\n",
       "      <td>Double</td>\n",
       "      <td>['numeric']</td>\n",
       "    </tr>\n",
       "    <tr>\n",
       "      <th>cancelled</th>\n",
       "      <td>boolean</td>\n",
       "      <td>Boolean</td>\n",
       "      <td>[]</td>\n",
       "    </tr>\n",
       "  </tbody>\n",
       "</table>\n",
       "</div>"
      ],
      "text/plain": [
       "                   Physical Type     Logical Type Semantic Tag(s)\n",
       "Data Column                                                      \n",
       "order_product_id           Int64          Integer       ['index']\n",
       "order_id                   Int64          Integer     ['numeric']\n",
       "product_id              category      Categorical    ['category']\n",
       "description               string  NaturalLanguage              []\n",
       "quantity                 float64           Double     ['numeric']\n",
       "order_date        datetime64[ns]         Datetime  ['time_index']\n",
       "unit_price               float64           Double     ['numeric']\n",
       "customer_name             string  NaturalLanguage              []\n",
       "country                   string  NaturalLanguage              []\n",
       "total                    float64           Double     ['numeric']\n",
       "cancelled                boolean          Boolean              []"
      ]
     },
     "execution_count": 8,
     "metadata": {},
     "output_type": "execute_result"
    }
   ],
   "source": [
    "df.ww.init(name='retail_data',\n",
    "           time_index='order_date', \n",
    "           logical_types={'quantity':'Double'}, \n",
    "           make_index=True, \n",
    "           index='order_product_id')\n",
    "df.ww.types"
   ]
  },
  {
   "cell_type": "code",
   "execution_count": null,
   "metadata": {},
   "outputs": [],
   "source": []
  },
  {
   "cell_type": "markdown",
   "metadata": {},
   "source": [
    "## Set Time Index (after reading DataFrame)"
   ]
  },
  {
   "cell_type": "code",
   "execution_count": 9,
   "metadata": {},
   "outputs": [
    {
     "name": "stdout",
     "output_type": "stream",
     "text": [
      "__init__ DataTableAccessor\n"
     ]
    },
    {
     "data": {
      "text/html": [
       "<div>\n",
       "<style scoped>\n",
       "    .dataframe tbody tr th:only-of-type {\n",
       "        vertical-align: middle;\n",
       "    }\n",
       "\n",
       "    .dataframe tbody tr th {\n",
       "        vertical-align: top;\n",
       "    }\n",
       "\n",
       "    .dataframe thead th {\n",
       "        text-align: right;\n",
       "    }\n",
       "</style>\n",
       "<table border=\"1\" class=\"dataframe\">\n",
       "  <thead>\n",
       "    <tr style=\"text-align: right;\">\n",
       "      <th></th>\n",
       "      <th>Physical Type</th>\n",
       "      <th>Logical Type</th>\n",
       "      <th>Semantic Tag(s)</th>\n",
       "    </tr>\n",
       "    <tr>\n",
       "      <th>Data Column</th>\n",
       "      <th></th>\n",
       "      <th></th>\n",
       "      <th></th>\n",
       "    </tr>\n",
       "  </thead>\n",
       "  <tbody>\n",
       "    <tr>\n",
       "      <th>order_id</th>\n",
       "      <td>Int64</td>\n",
       "      <td>Integer</td>\n",
       "      <td>['numeric']</td>\n",
       "    </tr>\n",
       "    <tr>\n",
       "      <th>product_id</th>\n",
       "      <td>category</td>\n",
       "      <td>Categorical</td>\n",
       "      <td>['category']</td>\n",
       "    </tr>\n",
       "    <tr>\n",
       "      <th>description</th>\n",
       "      <td>string</td>\n",
       "      <td>NaturalLanguage</td>\n",
       "      <td>[]</td>\n",
       "    </tr>\n",
       "    <tr>\n",
       "      <th>quantity</th>\n",
       "      <td>Int64</td>\n",
       "      <td>Integer</td>\n",
       "      <td>['numeric']</td>\n",
       "    </tr>\n",
       "    <tr>\n",
       "      <th>order_date</th>\n",
       "      <td>datetime64[ns]</td>\n",
       "      <td>Datetime</td>\n",
       "      <td>['time_index']</td>\n",
       "    </tr>\n",
       "    <tr>\n",
       "      <th>unit_price</th>\n",
       "      <td>float64</td>\n",
       "      <td>Double</td>\n",
       "      <td>['numeric']</td>\n",
       "    </tr>\n",
       "    <tr>\n",
       "      <th>customer_name</th>\n",
       "      <td>string</td>\n",
       "      <td>NaturalLanguage</td>\n",
       "      <td>[]</td>\n",
       "    </tr>\n",
       "    <tr>\n",
       "      <th>country</th>\n",
       "      <td>string</td>\n",
       "      <td>NaturalLanguage</td>\n",
       "      <td>[]</td>\n",
       "    </tr>\n",
       "    <tr>\n",
       "      <th>total</th>\n",
       "      <td>float64</td>\n",
       "      <td>Double</td>\n",
       "      <td>['numeric']</td>\n",
       "    </tr>\n",
       "    <tr>\n",
       "      <th>cancelled</th>\n",
       "      <td>boolean</td>\n",
       "      <td>Boolean</td>\n",
       "      <td>[]</td>\n",
       "    </tr>\n",
       "  </tbody>\n",
       "</table>\n",
       "</div>"
      ],
      "text/plain": [
       "                Physical Type     Logical Type Semantic Tag(s)\n",
       "Data Column                                                   \n",
       "order_id                Int64          Integer     ['numeric']\n",
       "product_id           category      Categorical    ['category']\n",
       "description            string  NaturalLanguage              []\n",
       "quantity                Int64          Integer     ['numeric']\n",
       "order_date     datetime64[ns]         Datetime  ['time_index']\n",
       "unit_price            float64           Double     ['numeric']\n",
       "customer_name          string  NaturalLanguage              []\n",
       "country                string  NaturalLanguage              []\n",
       "total                 float64           Double     ['numeric']\n",
       "cancelled             boolean          Boolean              []"
      ]
     },
     "execution_count": 9,
     "metadata": {},
     "output_type": "execute_result"
    }
   ],
   "source": [
    "df = pd.read_csv('retail_data.csv', nrows=100)\n",
    "\n",
    "df.ww.dt = df.ww.set_time_index('order_date')\n",
    "df.ww.types"
   ]
  },
  {
   "cell_type": "markdown",
   "metadata": {},
   "source": [
    "## Set Semantic Tags (after reading DataFrame)"
   ]
  },
  {
   "cell_type": "code",
   "execution_count": 10,
   "metadata": {},
   "outputs": [
    {
     "name": "stdout",
     "output_type": "stream",
     "text": [
      "__init__ DataTableAccessor\n"
     ]
    },
    {
     "data": {
      "text/html": [
       "<div>\n",
       "<style scoped>\n",
       "    .dataframe tbody tr th:only-of-type {\n",
       "        vertical-align: middle;\n",
       "    }\n",
       "\n",
       "    .dataframe tbody tr th {\n",
       "        vertical-align: top;\n",
       "    }\n",
       "\n",
       "    .dataframe thead th {\n",
       "        text-align: right;\n",
       "    }\n",
       "</style>\n",
       "<table border=\"1\" class=\"dataframe\">\n",
       "  <thead>\n",
       "    <tr style=\"text-align: right;\">\n",
       "      <th></th>\n",
       "      <th>Physical Type</th>\n",
       "      <th>Logical Type</th>\n",
       "      <th>Semantic Tag(s)</th>\n",
       "    </tr>\n",
       "    <tr>\n",
       "      <th>Data Column</th>\n",
       "      <th></th>\n",
       "      <th></th>\n",
       "      <th></th>\n",
       "    </tr>\n",
       "  </thead>\n",
       "  <tbody>\n",
       "    <tr>\n",
       "      <th>order_id</th>\n",
       "      <td>Int64</td>\n",
       "      <td>Integer</td>\n",
       "      <td>['numeric']</td>\n",
       "    </tr>\n",
       "    <tr>\n",
       "      <th>product_id</th>\n",
       "      <td>category</td>\n",
       "      <td>Categorical</td>\n",
       "      <td>['category']</td>\n",
       "    </tr>\n",
       "    <tr>\n",
       "      <th>description</th>\n",
       "      <td>string</td>\n",
       "      <td>NaturalLanguage</td>\n",
       "      <td>[]</td>\n",
       "    </tr>\n",
       "    <tr>\n",
       "      <th>quantity</th>\n",
       "      <td>Int64</td>\n",
       "      <td>Integer</td>\n",
       "      <td>['numeric']</td>\n",
       "    </tr>\n",
       "    <tr>\n",
       "      <th>order_date</th>\n",
       "      <td>datetime64[ns]</td>\n",
       "      <td>Datetime</td>\n",
       "      <td>['tag_1']</td>\n",
       "    </tr>\n",
       "    <tr>\n",
       "      <th>unit_price</th>\n",
       "      <td>float64</td>\n",
       "      <td>Double</td>\n",
       "      <td>['numeric']</td>\n",
       "    </tr>\n",
       "    <tr>\n",
       "      <th>customer_name</th>\n",
       "      <td>string</td>\n",
       "      <td>NaturalLanguage</td>\n",
       "      <td>[]</td>\n",
       "    </tr>\n",
       "    <tr>\n",
       "      <th>country</th>\n",
       "      <td>string</td>\n",
       "      <td>NaturalLanguage</td>\n",
       "      <td>[]</td>\n",
       "    </tr>\n",
       "    <tr>\n",
       "      <th>total</th>\n",
       "      <td>float64</td>\n",
       "      <td>Double</td>\n",
       "      <td>['numeric']</td>\n",
       "    </tr>\n",
       "    <tr>\n",
       "      <th>cancelled</th>\n",
       "      <td>boolean</td>\n",
       "      <td>Boolean</td>\n",
       "      <td>[]</td>\n",
       "    </tr>\n",
       "  </tbody>\n",
       "</table>\n",
       "</div>"
      ],
      "text/plain": [
       "                Physical Type     Logical Type Semantic Tag(s)\n",
       "Data Column                                                   \n",
       "order_id                Int64          Integer     ['numeric']\n",
       "product_id           category      Categorical    ['category']\n",
       "description            string  NaturalLanguage              []\n",
       "quantity                Int64          Integer     ['numeric']\n",
       "order_date     datetime64[ns]         Datetime       ['tag_1']\n",
       "unit_price            float64           Double     ['numeric']\n",
       "customer_name          string  NaturalLanguage              []\n",
       "country                string  NaturalLanguage              []\n",
       "total                 float64           Double     ['numeric']\n",
       "cancelled             boolean          Boolean              []"
      ]
     },
     "execution_count": 10,
     "metadata": {},
     "output_type": "execute_result"
    }
   ],
   "source": [
    "df = pd.read_csv('retail_data.csv', nrows=100)\n",
    "\n",
    "df.ww.dt = df.ww.add_semantic_tags({'order_date': 'tag_1'})\n",
    "df.ww.types"
   ]
  },
  {
   "cell_type": "markdown",
   "metadata": {},
   "source": [
    "## Select Based on Tags / Logical Types"
   ]
  },
  {
   "cell_type": "code",
   "execution_count": 11,
   "metadata": {},
   "outputs": [
    {
     "data": {
      "text/html": [
       "<table border=\"1\" class=\"dataframe\">\n",
       "  <thead>\n",
       "    <tr style=\"text-align: right;\">\n",
       "      <th></th>\n",
       "      <th>Physical Type</th>\n",
       "      <th>Logical Type</th>\n",
       "      <th>Semantic Tag(s)</th>\n",
       "    </tr>\n",
       "    <tr>\n",
       "      <th>Data Column</th>\n",
       "      <th></th>\n",
       "      <th></th>\n",
       "      <th></th>\n",
       "    </tr>\n",
       "  </thead>\n",
       "  <tbody>\n",
       "    <tr>\n",
       "      <th>order_date</th>\n",
       "      <td>datetime64[ns]</td>\n",
       "      <td>Datetime</td>\n",
       "      <td>['tag_1']</td>\n",
       "    </tr>\n",
       "  </tbody>\n",
       "</table>"
      ],
      "text/plain": [
       "              Physical Type Logical Type Semantic Tag(s)\n",
       "Data Column                                             \n",
       "order_date   datetime64[ns]     Datetime       ['tag_1']"
      ]
     },
     "execution_count": 11,
     "metadata": {},
     "output_type": "execute_result"
    }
   ],
   "source": [
    "df.ww.select('tag_1')"
   ]
  },
  {
   "cell_type": "code",
   "execution_count": 12,
   "metadata": {},
   "outputs": [
    {
     "data": {
      "text/html": [
       "<table border=\"1\" class=\"dataframe\">\n",
       "  <thead>\n",
       "    <tr style=\"text-align: right;\">\n",
       "      <th></th>\n",
       "      <th>Physical Type</th>\n",
       "      <th>Logical Type</th>\n",
       "      <th>Semantic Tag(s)</th>\n",
       "    </tr>\n",
       "    <tr>\n",
       "      <th>Data Column</th>\n",
       "      <th></th>\n",
       "      <th></th>\n",
       "      <th></th>\n",
       "    </tr>\n",
       "  </thead>\n",
       "  <tbody>\n",
       "    <tr>\n",
       "      <th>product_id</th>\n",
       "      <td>category</td>\n",
       "      <td>Categorical</td>\n",
       "      <td>['category']</td>\n",
       "    </tr>\n",
       "    <tr>\n",
       "      <th>description</th>\n",
       "      <td>string</td>\n",
       "      <td>NaturalLanguage</td>\n",
       "      <td>[]</td>\n",
       "    </tr>\n",
       "    <tr>\n",
       "      <th>customer_name</th>\n",
       "      <td>string</td>\n",
       "      <td>NaturalLanguage</td>\n",
       "      <td>[]</td>\n",
       "    </tr>\n",
       "    <tr>\n",
       "      <th>country</th>\n",
       "      <td>string</td>\n",
       "      <td>NaturalLanguage</td>\n",
       "      <td>[]</td>\n",
       "    </tr>\n",
       "  </tbody>\n",
       "</table>"
      ],
      "text/plain": [
       "              Physical Type     Logical Type Semantic Tag(s)\n",
       "Data Column                                                 \n",
       "product_id         category      Categorical    ['category']\n",
       "description          string  NaturalLanguage              []\n",
       "customer_name        string  NaturalLanguage              []\n",
       "country              string  NaturalLanguage              []"
      ]
     },
     "execution_count": 12,
     "metadata": {},
     "output_type": "execute_result"
    }
   ],
   "source": [
    "df.ww.select(['Categorical', 'NaturalLanguage'])"
   ]
  },
  {
   "cell_type": "markdown",
   "metadata": {},
   "source": [
    "## Select with normal DataFrame iloc "
   ]
  },
  {
   "cell_type": "code",
   "execution_count": 13,
   "metadata": {},
   "outputs": [
    {
     "data": {
      "text/html": [
       "<div>\n",
       "<style scoped>\n",
       "    .dataframe tbody tr th:only-of-type {\n",
       "        vertical-align: middle;\n",
       "    }\n",
       "\n",
       "    .dataframe tbody tr th {\n",
       "        vertical-align: top;\n",
       "    }\n",
       "\n",
       "    .dataframe thead th {\n",
       "        text-align: right;\n",
       "    }\n",
       "</style>\n",
       "<table border=\"1\" class=\"dataframe\">\n",
       "  <thead>\n",
       "    <tr style=\"text-align: right;\">\n",
       "      <th></th>\n",
       "      <th>order_id</th>\n",
       "      <th>product_id</th>\n",
       "      <th>description</th>\n",
       "      <th>quantity</th>\n",
       "      <th>order_date</th>\n",
       "      <th>unit_price</th>\n",
       "      <th>customer_name</th>\n",
       "      <th>country</th>\n",
       "      <th>total</th>\n",
       "      <th>cancelled</th>\n",
       "    </tr>\n",
       "  </thead>\n",
       "  <tbody>\n",
       "    <tr>\n",
       "      <th>0</th>\n",
       "      <td>536588</td>\n",
       "      <td>22666</td>\n",
       "      <td>RECIPE BOX PANTRY YELLOW DESIGN</td>\n",
       "      <td>12</td>\n",
       "      <td>2010-12-01 16:49:00</td>\n",
       "      <td>4.8675</td>\n",
       "      <td>Emily Carrillo</td>\n",
       "      <td>United Kingdom</td>\n",
       "      <td>58.410</td>\n",
       "      <td>False</td>\n",
       "    </tr>\n",
       "    <tr>\n",
       "      <th>1</th>\n",
       "      <td>536732</td>\n",
       "      <td>22910</td>\n",
       "      <td>PAPER CHAIN KIT VINTAGE CHRISTMAS</td>\n",
       "      <td>6</td>\n",
       "      <td>2010-12-02 12:47:00</td>\n",
       "      <td>4.8675</td>\n",
       "      <td>Tyler Rose</td>\n",
       "      <td>United Kingdom</td>\n",
       "      <td>29.205</td>\n",
       "      <td>False</td>\n",
       "    </tr>\n",
       "  </tbody>\n",
       "</table>\n",
       "</div>"
      ],
      "text/plain": [
       "   order_id product_id                        description  quantity  \\\n",
       "0    536588      22666    RECIPE BOX PANTRY YELLOW DESIGN        12   \n",
       "1    536732      22910  PAPER CHAIN KIT VINTAGE CHRISTMAS         6   \n",
       "\n",
       "           order_date  unit_price   customer_name         country   total  \\\n",
       "0 2010-12-01 16:49:00      4.8675  Emily Carrillo  United Kingdom  58.410   \n",
       "1 2010-12-02 12:47:00      4.8675      Tyler Rose  United Kingdom  29.205   \n",
       "\n",
       "   cancelled  \n",
       "0      False  \n",
       "1      False  "
      ]
     },
     "execution_count": 13,
     "metadata": {},
     "output_type": "execute_result"
    }
   ],
   "source": [
    "df.iloc[[0, 1]]"
   ]
  },
  {
   "cell_type": "markdown",
   "metadata": {},
   "source": [
    "## Sample with normal DataFrame sample"
   ]
  },
  {
   "cell_type": "code",
   "execution_count": 14,
   "metadata": {},
   "outputs": [
    {
     "name": "stdout",
     "output_type": "stream",
     "text": [
      "(5, 10)\n"
     ]
    },
    {
     "data": {
      "text/html": [
       "<div>\n",
       "<style scoped>\n",
       "    .dataframe tbody tr th:only-of-type {\n",
       "        vertical-align: middle;\n",
       "    }\n",
       "\n",
       "    .dataframe tbody tr th {\n",
       "        vertical-align: top;\n",
       "    }\n",
       "\n",
       "    .dataframe thead th {\n",
       "        text-align: right;\n",
       "    }\n",
       "</style>\n",
       "<table border=\"1\" class=\"dataframe\">\n",
       "  <thead>\n",
       "    <tr style=\"text-align: right;\">\n",
       "      <th></th>\n",
       "      <th>order_id</th>\n",
       "      <th>product_id</th>\n",
       "      <th>description</th>\n",
       "      <th>quantity</th>\n",
       "      <th>order_date</th>\n",
       "      <th>unit_price</th>\n",
       "      <th>customer_name</th>\n",
       "      <th>country</th>\n",
       "      <th>total</th>\n",
       "      <th>cancelled</th>\n",
       "    </tr>\n",
       "  </thead>\n",
       "  <tbody>\n",
       "    <tr>\n",
       "      <th>76</th>\n",
       "      <td>536409</td>\n",
       "      <td>22075</td>\n",
       "      <td>6 RIBBONS ELEGANT CHRISTMAS</td>\n",
       "      <td>1</td>\n",
       "      <td>2010-12-01 11:45:00</td>\n",
       "      <td>2.7225</td>\n",
       "      <td>Gabriella Padilla</td>\n",
       "      <td>United Kingdom</td>\n",
       "      <td>2.7225</td>\n",
       "      <td>False</td>\n",
       "    </tr>\n",
       "    <tr>\n",
       "      <th>46</th>\n",
       "      <td>536620</td>\n",
       "      <td>21062</td>\n",
       "      <td>PARTY INVITES SPACEMAN</td>\n",
       "      <td>12</td>\n",
       "      <td>2010-12-02 10:27:00</td>\n",
       "      <td>1.4025</td>\n",
       "      <td>Dennis Clark</td>\n",
       "      <td>United Kingdom</td>\n",
       "      <td>16.8300</td>\n",
       "      <td>False</td>\n",
       "    </tr>\n",
       "    <tr>\n",
       "      <th>28</th>\n",
       "      <td>536562</td>\n",
       "      <td>21232</td>\n",
       "      <td>STRAWBERRY CERAMIC TRINKET BOX</td>\n",
       "      <td>12</td>\n",
       "      <td>2010-12-01 15:08:00</td>\n",
       "      <td>2.0625</td>\n",
       "      <td>Tammy Washington</td>\n",
       "      <td>United Kingdom</td>\n",
       "      <td>24.7500</td>\n",
       "      <td>False</td>\n",
       "    </tr>\n",
       "    <tr>\n",
       "      <th>61</th>\n",
       "      <td>536628</td>\n",
       "      <td>82483</td>\n",
       "      <td>WOOD 2 DRAWER CABINET WHITE FINISH</td>\n",
       "      <td>4</td>\n",
       "      <td>2010-12-02 10:54:00</td>\n",
       "      <td>8.1675</td>\n",
       "      <td>Andrea Brown</td>\n",
       "      <td>United Kingdom</td>\n",
       "      <td>32.6700</td>\n",
       "      <td>False</td>\n",
       "    </tr>\n",
       "    <tr>\n",
       "      <th>65</th>\n",
       "      <td>536637</td>\n",
       "      <td>22130</td>\n",
       "      <td>PARTY CONE CHRISTMAS DECORATION</td>\n",
       "      <td>6</td>\n",
       "      <td>2010-12-02 11:35:00</td>\n",
       "      <td>1.4025</td>\n",
       "      <td>Tommy Lester</td>\n",
       "      <td>United Kingdom</td>\n",
       "      <td>8.4150</td>\n",
       "      <td>False</td>\n",
       "    </tr>\n",
       "  </tbody>\n",
       "</table>\n",
       "</div>"
      ],
      "text/plain": [
       "    order_id product_id                         description  quantity  \\\n",
       "76    536409      22075        6 RIBBONS ELEGANT CHRISTMAS          1   \n",
       "46    536620      21062              PARTY INVITES SPACEMAN        12   \n",
       "28    536562      21232      STRAWBERRY CERAMIC TRINKET BOX        12   \n",
       "61    536628      82483  WOOD 2 DRAWER CABINET WHITE FINISH         4   \n",
       "65    536637      22130    PARTY CONE CHRISTMAS DECORATION          6   \n",
       "\n",
       "            order_date  unit_price      customer_name         country  \\\n",
       "76 2010-12-01 11:45:00      2.7225  Gabriella Padilla  United Kingdom   \n",
       "46 2010-12-02 10:27:00      1.4025       Dennis Clark  United Kingdom   \n",
       "28 2010-12-01 15:08:00      2.0625   Tammy Washington  United Kingdom   \n",
       "61 2010-12-02 10:54:00      8.1675       Andrea Brown  United Kingdom   \n",
       "65 2010-12-02 11:35:00      1.4025       Tommy Lester  United Kingdom   \n",
       "\n",
       "      total  cancelled  \n",
       "76   2.7225      False  \n",
       "46  16.8300      False  \n",
       "28  24.7500      False  \n",
       "61  32.6700      False  \n",
       "65   8.4150      False  "
      ]
     },
     "execution_count": 14,
     "metadata": {},
     "output_type": "execute_result"
    }
   ],
   "source": [
    "df_sampled = df.sample(5)\n",
    "print(df_sampled.shape)\n",
    "df_sampled"
   ]
  },
  {
   "cell_type": "code",
   "execution_count": 15,
   "metadata": {},
   "outputs": [
    {
     "name": "stdout",
     "output_type": "stream",
     "text": [
      "__init__ DataTableAccessor\n"
     ]
    },
    {
     "data": {
      "text/html": [
       "<table border=\"1\" class=\"dataframe\">\n",
       "  <thead>\n",
       "    <tr style=\"text-align: right;\">\n",
       "      <th></th>\n",
       "      <th>Physical Type</th>\n",
       "      <th>Logical Type</th>\n",
       "      <th>Semantic Tag(s)</th>\n",
       "    </tr>\n",
       "    <tr>\n",
       "      <th>Data Column</th>\n",
       "      <th></th>\n",
       "      <th></th>\n",
       "      <th></th>\n",
       "    </tr>\n",
       "  </thead>\n",
       "  <tbody>\n",
       "    <tr>\n",
       "      <th>product_id</th>\n",
       "      <td>category</td>\n",
       "      <td>Categorical</td>\n",
       "      <td>['category']</td>\n",
       "    </tr>\n",
       "  </tbody>\n",
       "</table>"
      ],
      "text/plain": [
       "            Physical Type Logical Type Semantic Tag(s)\n",
       "Data Column                                           \n",
       "product_id       category  Categorical    ['category']"
      ]
     },
     "execution_count": 15,
     "metadata": {},
     "output_type": "execute_result"
    }
   ],
   "source": [
    "df_sampled.ww.select(['Categorical'])"
   ]
  },
  {
   "cell_type": "code",
   "execution_count": 16,
   "metadata": {},
   "outputs": [
    {
     "data": {
      "text/plain": [
       "order_id                  Int64\n",
       "product_id             category\n",
       "description              string\n",
       "quantity                  Int64\n",
       "order_date       datetime64[ns]\n",
       "unit_price              float64\n",
       "customer_name            string\n",
       "country                  string\n",
       "total                   float64\n",
       "cancelled               boolean\n",
       "dtype: object"
      ]
     },
     "execution_count": 16,
     "metadata": {},
     "output_type": "execute_result"
    }
   ],
   "source": [
    "df_sampled.dtypes"
   ]
  },
  {
   "cell_type": "code",
   "execution_count": 17,
   "metadata": {
    "scrolled": true
   },
   "outputs": [
    {
     "data": {
      "text/html": [
       "<div>\n",
       "<style scoped>\n",
       "    .dataframe tbody tr th:only-of-type {\n",
       "        vertical-align: middle;\n",
       "    }\n",
       "\n",
       "    .dataframe tbody tr th {\n",
       "        vertical-align: top;\n",
       "    }\n",
       "\n",
       "    .dataframe thead th {\n",
       "        text-align: right;\n",
       "    }\n",
       "</style>\n",
       "<table border=\"1\" class=\"dataframe\">\n",
       "  <thead>\n",
       "    <tr style=\"text-align: right;\">\n",
       "      <th></th>\n",
       "      <th>Physical Type</th>\n",
       "      <th>Logical Type</th>\n",
       "      <th>Semantic Tag(s)</th>\n",
       "    </tr>\n",
       "    <tr>\n",
       "      <th>Data Column</th>\n",
       "      <th></th>\n",
       "      <th></th>\n",
       "      <th></th>\n",
       "    </tr>\n",
       "  </thead>\n",
       "  <tbody>\n",
       "    <tr>\n",
       "      <th>order_id</th>\n",
       "      <td>Int64</td>\n",
       "      <td>Integer</td>\n",
       "      <td>['numeric']</td>\n",
       "    </tr>\n",
       "    <tr>\n",
       "      <th>product_id</th>\n",
       "      <td>category</td>\n",
       "      <td>Categorical</td>\n",
       "      <td>['category']</td>\n",
       "    </tr>\n",
       "    <tr>\n",
       "      <th>description</th>\n",
       "      <td>string</td>\n",
       "      <td>NaturalLanguage</td>\n",
       "      <td>[]</td>\n",
       "    </tr>\n",
       "    <tr>\n",
       "      <th>quantity</th>\n",
       "      <td>Int64</td>\n",
       "      <td>Integer</td>\n",
       "      <td>['numeric']</td>\n",
       "    </tr>\n",
       "    <tr>\n",
       "      <th>order_date</th>\n",
       "      <td>datetime64[ns]</td>\n",
       "      <td>Datetime</td>\n",
       "      <td>[]</td>\n",
       "    </tr>\n",
       "    <tr>\n",
       "      <th>unit_price</th>\n",
       "      <td>float64</td>\n",
       "      <td>Double</td>\n",
       "      <td>['numeric']</td>\n",
       "    </tr>\n",
       "    <tr>\n",
       "      <th>customer_name</th>\n",
       "      <td>string</td>\n",
       "      <td>NaturalLanguage</td>\n",
       "      <td>[]</td>\n",
       "    </tr>\n",
       "    <tr>\n",
       "      <th>country</th>\n",
       "      <td>string</td>\n",
       "      <td>NaturalLanguage</td>\n",
       "      <td>[]</td>\n",
       "    </tr>\n",
       "    <tr>\n",
       "      <th>total</th>\n",
       "      <td>float64</td>\n",
       "      <td>Double</td>\n",
       "      <td>['numeric']</td>\n",
       "    </tr>\n",
       "    <tr>\n",
       "      <th>cancelled</th>\n",
       "      <td>boolean</td>\n",
       "      <td>Boolean</td>\n",
       "      <td>[]</td>\n",
       "    </tr>\n",
       "  </tbody>\n",
       "</table>\n",
       "</div>"
      ],
      "text/plain": [
       "                Physical Type     Logical Type Semantic Tag(s)\n",
       "Data Column                                                   \n",
       "order_id                Int64          Integer     ['numeric']\n",
       "product_id           category      Categorical    ['category']\n",
       "description            string  NaturalLanguage              []\n",
       "quantity                Int64          Integer     ['numeric']\n",
       "order_date     datetime64[ns]         Datetime              []\n",
       "unit_price            float64           Double     ['numeric']\n",
       "customer_name          string  NaturalLanguage              []\n",
       "country                string  NaturalLanguage              []\n",
       "total                 float64           Double     ['numeric']\n",
       "cancelled             boolean          Boolean              []"
      ]
     },
     "execution_count": 17,
     "metadata": {},
     "output_type": "execute_result"
    }
   ],
   "source": [
    "df_sampled.ww.types"
   ]
  },
  {
   "cell_type": "markdown",
   "metadata": {},
   "source": [
    "## Serialization"
   ]
  },
  {
   "cell_type": "code",
   "execution_count": 18,
   "metadata": {},
   "outputs": [],
   "source": [
    "df.ww.to_csv('test')"
   ]
  },
  {
   "cell_type": "code",
   "execution_count": 19,
   "metadata": {},
   "outputs": [
    {
     "name": "stdout",
     "output_type": "stream",
     "text": [
      "['table_description.json', 'data']\n",
      "['retail_data.csv', 'data.csv']\n"
     ]
    }
   ],
   "source": [
    "import os\n",
    "print(os.listdir('test'))\n",
    "print(os.listdir('test/data'))"
   ]
  },
  {
   "cell_type": "markdown",
   "metadata": {},
   "source": [
    "## Problem 1 - "
   ]
  },
  {
   "cell_type": "code",
   "execution_count": 20,
   "metadata": {},
   "outputs": [],
   "source": [
    "df['cancelled'] = df['cancelled'].astype('int')"
   ]
  },
  {
   "cell_type": "code",
   "execution_count": 21,
   "metadata": {},
   "outputs": [
    {
     "data": {
      "text/html": [
       "<div>\n",
       "<style scoped>\n",
       "    .dataframe tbody tr th:only-of-type {\n",
       "        vertical-align: middle;\n",
       "    }\n",
       "\n",
       "    .dataframe tbody tr th {\n",
       "        vertical-align: top;\n",
       "    }\n",
       "\n",
       "    .dataframe thead th {\n",
       "        text-align: right;\n",
       "    }\n",
       "</style>\n",
       "<table border=\"1\" class=\"dataframe\">\n",
       "  <thead>\n",
       "    <tr style=\"text-align: right;\">\n",
       "      <th></th>\n",
       "      <th>order_id</th>\n",
       "      <th>product_id</th>\n",
       "      <th>description</th>\n",
       "      <th>quantity</th>\n",
       "      <th>order_date</th>\n",
       "      <th>unit_price</th>\n",
       "      <th>customer_name</th>\n",
       "      <th>country</th>\n",
       "      <th>total</th>\n",
       "      <th>cancelled</th>\n",
       "    </tr>\n",
       "  </thead>\n",
       "  <tbody>\n",
       "    <tr>\n",
       "      <th>0</th>\n",
       "      <td>536588</td>\n",
       "      <td>22666</td>\n",
       "      <td>RECIPE BOX PANTRY YELLOW DESIGN</td>\n",
       "      <td>12</td>\n",
       "      <td>2010-12-01 16:49:00</td>\n",
       "      <td>4.8675</td>\n",
       "      <td>Emily Carrillo</td>\n",
       "      <td>United Kingdom</td>\n",
       "      <td>58.410</td>\n",
       "      <td>0</td>\n",
       "    </tr>\n",
       "    <tr>\n",
       "      <th>1</th>\n",
       "      <td>536732</td>\n",
       "      <td>22910</td>\n",
       "      <td>PAPER CHAIN KIT VINTAGE CHRISTMAS</td>\n",
       "      <td>6</td>\n",
       "      <td>2010-12-02 12:47:00</td>\n",
       "      <td>4.8675</td>\n",
       "      <td>Tyler Rose</td>\n",
       "      <td>United Kingdom</td>\n",
       "      <td>29.205</td>\n",
       "      <td>0</td>\n",
       "    </tr>\n",
       "  </tbody>\n",
       "</table>\n",
       "</div>"
      ],
      "text/plain": [
       "   order_id product_id                        description  quantity  \\\n",
       "0    536588      22666    RECIPE BOX PANTRY YELLOW DESIGN        12   \n",
       "1    536732      22910  PAPER CHAIN KIT VINTAGE CHRISTMAS         6   \n",
       "\n",
       "           order_date  unit_price   customer_name         country   total  \\\n",
       "0 2010-12-01 16:49:00      4.8675  Emily Carrillo  United Kingdom  58.410   \n",
       "1 2010-12-02 12:47:00      4.8675      Tyler Rose  United Kingdom  29.205   \n",
       "\n",
       "   cancelled  \n",
       "0          0  \n",
       "1          0  "
      ]
     },
     "execution_count": 21,
     "metadata": {},
     "output_type": "execute_result"
    }
   ],
   "source": [
    "df.head(2)"
   ]
  },
  {
   "cell_type": "code",
   "execution_count": 22,
   "metadata": {},
   "outputs": [
    {
     "data": {
      "text/plain": [
       "order_id                  Int64\n",
       "product_id             category\n",
       "description              string\n",
       "quantity                  Int64\n",
       "order_date       datetime64[ns]\n",
       "unit_price              float64\n",
       "customer_name            string\n",
       "country                  string\n",
       "total                   float64\n",
       "cancelled                 int64\n",
       "dtype: object"
      ]
     },
     "execution_count": 22,
     "metadata": {},
     "output_type": "execute_result"
    }
   ],
   "source": [
    "df.dtypes"
   ]
  },
  {
   "cell_type": "code",
   "execution_count": 25,
   "metadata": {},
   "outputs": [
    {
     "data": {
      "text/html": [
       "<table border=\"1\" class=\"dataframe\">\n",
       "  <thead>\n",
       "    <tr style=\"text-align: right;\">\n",
       "      <th></th>\n",
       "      <th>Physical Type</th>\n",
       "      <th>Logical Type</th>\n",
       "      <th>Semantic Tag(s)</th>\n",
       "    </tr>\n",
       "    <tr>\n",
       "      <th>Data Column</th>\n",
       "      <th></th>\n",
       "      <th></th>\n",
       "      <th></th>\n",
       "    </tr>\n",
       "  </thead>\n",
       "  <tbody>\n",
       "    <tr>\n",
       "      <th>cancelled</th>\n",
       "      <td>boolean</td>\n",
       "      <td>Boolean</td>\n",
       "      <td>[]</td>\n",
       "    </tr>\n",
       "  </tbody>\n",
       "</table>"
      ],
      "text/plain": [
       "            Physical Type Logical Type Semantic Tag(s)\n",
       "Data Column                                           \n",
       "cancelled         boolean      Boolean              []"
      ]
     },
     "execution_count": 25,
     "metadata": {},
     "output_type": "execute_result"
    }
   ],
   "source": [
    "df.ww.select('boolean')"
   ]
  },
  {
   "cell_type": "code",
   "execution_count": 28,
   "metadata": {},
   "outputs": [
    {
     "data": {
      "text/html": [
       "<div>\n",
       "<style scoped>\n",
       "    .dataframe tbody tr th:only-of-type {\n",
       "        vertical-align: middle;\n",
       "    }\n",
       "\n",
       "    .dataframe tbody tr th {\n",
       "        vertical-align: top;\n",
       "    }\n",
       "\n",
       "    .dataframe thead th {\n",
       "        text-align: right;\n",
       "    }\n",
       "</style>\n",
       "<table border=\"1\" class=\"dataframe\">\n",
       "  <thead>\n",
       "    <tr style=\"text-align: right;\">\n",
       "      <th></th>\n",
       "      <th>order_id</th>\n",
       "      <th>product_id</th>\n",
       "      <th>description</th>\n",
       "      <th>quantity</th>\n",
       "      <th>order_date</th>\n",
       "      <th>unit_price</th>\n",
       "      <th>customer_name</th>\n",
       "      <th>country</th>\n",
       "      <th>total</th>\n",
       "      <th>cancelled</th>\n",
       "    </tr>\n",
       "  </thead>\n",
       "  <tbody>\n",
       "    <tr>\n",
       "      <th>0</th>\n",
       "      <td>536588</td>\n",
       "      <td>22666</td>\n",
       "      <td>RECIPE BOX PANTRY YELLOW DESIGN</td>\n",
       "      <td>12</td>\n",
       "      <td>2010-12-01 16:49:00</td>\n",
       "      <td>4.8675</td>\n",
       "      <td>Emily Carrillo</td>\n",
       "      <td>United Kingdom</td>\n",
       "      <td>58.410</td>\n",
       "      <td>False</td>\n",
       "    </tr>\n",
       "    <tr>\n",
       "      <th>1</th>\n",
       "      <td>536732</td>\n",
       "      <td>22910</td>\n",
       "      <td>PAPER CHAIN KIT VINTAGE CHRISTMAS</td>\n",
       "      <td>6</td>\n",
       "      <td>2010-12-02 12:47:00</td>\n",
       "      <td>4.8675</td>\n",
       "      <td>Tyler Rose</td>\n",
       "      <td>United Kingdom</td>\n",
       "      <td>29.205</td>\n",
       "      <td>False</td>\n",
       "    </tr>\n",
       "  </tbody>\n",
       "</table>\n",
       "</div>"
      ],
      "text/plain": [
       "   order_id product_id                        description  quantity  \\\n",
       "0    536588      22666    RECIPE BOX PANTRY YELLOW DESIGN        12   \n",
       "1    536732      22910  PAPER CHAIN KIT VINTAGE CHRISTMAS         6   \n",
       "\n",
       "           order_date  unit_price   customer_name         country   total  \\\n",
       "0 2010-12-01 16:49:00      4.8675  Emily Carrillo  United Kingdom  58.410   \n",
       "1 2010-12-02 12:47:00      4.8675      Tyler Rose  United Kingdom  29.205   \n",
       "\n",
       "   cancelled  \n",
       "0      False  \n",
       "1      False  "
      ]
     },
     "execution_count": 28,
     "metadata": {},
     "output_type": "execute_result"
    }
   ],
   "source": [
    "df.ww.to_dataframe().head(2)"
   ]
  },
  {
   "cell_type": "markdown",
   "metadata": {},
   "source": [
    "# To Do - Add Util Functions"
   ]
  },
  {
   "cell_type": "markdown",
   "metadata": {},
   "source": [
    "```python\n",
    "def describe(dataframe)\n",
    "    \"\"\"\n",
    "        dataframe (pd.DataFrame): DataFrame with woodwork init\n",
    "    \"\"\"\n",
    "```"
   ]
  },
  {
   "cell_type": "markdown",
   "metadata": {},
   "source": [
    "### End user Usage \n",
    "\n",
    "```python\n",
    "from woodwork import describe \n",
    "\n",
    "dataframe_described = describe(df)\n",
    "```"
   ]
  }
 ],
 "metadata": {
  "kernelspec": {
   "display_name": "Python 3",
   "language": "python",
   "name": "python3"
  },
  "language_info": {
   "codemirror_mode": {
    "name": "ipython",
    "version": 3
   },
   "file_extension": ".py",
   "mimetype": "text/x-python",
   "name": "python",
   "nbconvert_exporter": "python",
   "pygments_lexer": "ipython3",
   "version": "3.6.12"
  }
 },
 "nbformat": 4,
 "nbformat_minor": 4
}
