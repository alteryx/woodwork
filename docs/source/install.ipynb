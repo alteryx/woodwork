{
 "cells": [
  {
   "cell_type": "markdown",
   "metadata": {},
   "source": [
    "# Install\n",
    "\n",
    "Woodwork is available for Python 3.8 and 3.9. It can be installed from pip, conda, or from source."
   ]
  },
  {
   "cell_type": "markdown",
   "metadata": {},
   "source": [
    "## PyPI\n",
    "\n",
    "To install Woodwork from PyPI, run the following command:\n",
    "\n",
    "```bash\n",
    "python -m pip install woodwork\n",
    "```\n",
    "\n",
    "### Add-ons\n",
    "Woodwork allows users to install add-ons individually or all at once. In order to install all add-ons, run:\n",
    "\n",
    "```bash\n",
    "python -m pip install \"woodwork[complete]\"\n",
    "```\n",
    "\n",
    "#### Dask\n",
    "You can use Woodwork with Dask DataFrames by running:\n",
    "\n",
    "```bash\n",
    "python -m pip install \"woodwork[dask]\"\n",
    "\n",
    "```\n",
    "\n",
    "#### Koalas\n",
    "You can use Woodwork with Koalas DataFrames by running:\n",
    "\n",
    "```bash\n",
    "python -m pip install \"woodwork[koalas]\"\n",
    "\n",
    "```\n",
    "\n",
    "#### Update checker\n",
    "Receive automatic notifications of new Woodwork releases\n",
    "\n",
    "```bash\n",
    "python -m pip install \"woodwork[update_checker]\"\n",
    "```"
   ]
  },
  {
   "cell_type": "markdown",
   "metadata": {},
   "source": [
    "## Conda\n",
    "\n",
    "To install Woodwork from conda run the following command:\n",
    "\n",
    "\n",
    "### Dask\n",
    "You can use Woodwork with Dask DataFrames by running:\n",
    "\n",
    "```bash\n",
    "conda install -c conda-forge dask\n",
    "\n",
    "```\n",
    "\n",
    "### Koalas\n",
    "You can use Woodwork with Koalas DataFrames by running:\n",
    "\n",
    "```bash\n",
    "conda install -c conda-forge koalas pyspark\n",
    "```\n",
    "\n",
    "### Update checker\n",
    "Receive automatic notifications of new Woodwork releases\n",
    "\n",
    "```bash\n",
    "conda install -c conda-forge alteryx-open-src-update-checker\n",
    "```\n"
   ]
  },
  {
   "cell_type": "markdown",
   "metadata": {},
   "source": [
    "## Scala and Spark\n",
    "\n",
    "To use Koalas DataFrames or to run all the unit tests, you will need to install Spark and Scala.\n",
    "\n",
    "### macOS \n",
    "\n",
    "You should use [Homebrew](https://brew.sh/):\n",
    "```bash\n",
    "brew tap AdoptOpenJDK/openjdk\n",
    "brew install --cask adoptopenjdk11\n",
    "brew install scala\n",
    "brew install apache-spark\n",
    "echo 'export JAVA_HOME=$(/usr/libexec/java_home)' >> ~/.zshrc\n",
    "echo 'export PATH=\"/usr/local/opt/openjdk@11/bin:$PATH\"' >> ~/.zshrc \n",
    "```\n",
    "\n",
    "### Ubuntu \n",
    "\n",
    "```bash\n",
    "sudo apt install openjdk-11-jre openjdk-11-jdk scala -y\n",
    "```\n",
    "\n",
    "### Amazon Linux \n",
    "\n",
    "```bash\n",
    "sudo amazon-linux-extras install java-openjdk11 scala -y\n",
    "```"
   ]
  },
  {
   "cell_type": "markdown",
   "metadata": {},
   "source": [
    "## Dependencies\n",
    "You can view a list of all Woodwork core Python dependencies in the ``requirements.txt`` file.\n",
    "\n",
    "### Optional Python Dependencies\n",
    "Woodwork has several other Python dependencies that are used only for specific methods. Attempting to use one of these methods without having the necessary library installed will result in an ``ImportError`` with instructions on how to install the necessary dependency.\n",
    "\n",
    "| Dependency        | Min Version | Notes                                  |\n",
    "|-------------------|-------------|----------------------------------------|\n",
    "| boto3             | 1.10.45     | Required to read/write to URLs and S3  |\n",
    "| smart_open        | 5.0.0       | Required to read/write to URLs and S3  |\n",
    "| pyarrow           | 4.0.1       | Required to serialize to parquet       |\n",
    "| dask[distributed] | 2021.10.0   | Required to use with Dask DataFrames   |\n",
    "| koalas            | 1.8.0       | Required to use with Koalas DataFrames |\n",
    "| pyspark           | 3.0.0       | Required to use with Koalas DataFrames |"
   ]
  },
  {
   "cell_type": "markdown",
   "metadata": {},
   "source": [
    "# Development\n",
    "\n",
    "To make contributions to the codebase, please follow the guidelines [here](https://github.com/alteryx/woodwork/blob/main/contributing.md)."
   ]
  },
  {
   "cell_type": "markdown",
   "metadata": {},
   "source": [
    "## Source\n",
    "\n",
    "To install Woodwork from source, clone the repository from [Github](https://github.com/alteryx/woodwork), and install the dependencies. Be sure to install [Scala and Spark](#Scala-and-Spark) if you want to run all unit tests\n",
    "\n",
    "```bash\n",
    "git clone https://github.com/alteryx/woodwork.git\n",
    "cd woodwork\n",
    "python -m pip install .\n",
    "```"
   ]
  }
 ],
 "metadata": {
  "kernelspec": {
   "display_name": "Python 3 (ipykernel)",
   "language": "python",
   "name": "python3"
  },
  "language_info": {
   "codemirror_mode": {
    "name": "ipython",
    "version": 3
   },
   "file_extension": ".py",
   "mimetype": "text/x-python",
   "name": "python",
   "nbconvert_exporter": "python",
   "pygments_lexer": "ipython3",
   "version": "3.8.2"
  }
 },
 "nbformat": 4,
 "nbformat_minor": 4
}