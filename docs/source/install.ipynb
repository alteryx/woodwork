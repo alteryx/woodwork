{
 "cells": [
  {
   "cell_type": "markdown",
   "metadata": {},
   "source": [
    "# Install\n",
    "\n",
    "Woodwork is available for Python 3.6, 3.7, and 3.8. It can be installed from PyPI, conda, or from source.\n",
    "\n",
    "## PyPI\n",
    "\n",
    "To install Woodwork from PyPI, run the following command:\n",
    "\n",
    "```bash\n",
    "python -m pip install woodwork\n",
    "```\n",
    "\n",
    "\n",
    "## Conda\n",
    "\n",
    "To install Woodwork from conda run the following command:\n",
    "\n",
    "```bash\n",
    "conda install -c conda-forge woodwork\n",
    "```\n",
    "\n",
    "\n",
    "\n",
    "## Source\n",
    "\n",
    "To install Woodwork from source, clone the repository from [Github](https://github.com/FeatureLabs/woodwork), and install the dependencies. \n",
    "\n",
    "```bash\n",
    "git clone https://github.com/FeatureLabs/woodwork.git\n",
    "cd woodwork\n",
    "python -m pip install .\n",
    "```\n",
    "\n",
    "- You can view the list of all dependencies in the ``requirements.txt`` file.\n",
    "\n",
    "# Development\n",
    "\n",
    "To make contributions to the codebase, please follow the guidelines [here](https://github.com/FeatureLabs/woodwork/blob/main/contributing.md)."
   ]
  }
 ],
 "metadata": {
  "kernelspec": {
   "display_name": "Python 3",
   "language": "python",
   "name": "python3"
  },
  "language_info": {
   "codemirror_mode": {
    "name": "ipython",
    "version": 3
   },
   "file_extension": ".py",
   "mimetype": "text/x-python",
   "name": "python",
   "nbconvert_exporter": "python",
   "pygments_lexer": "ipython3",
   "version": "3.8.5"
  }
 },
 "nbformat": 4,
 "nbformat_minor": 4
}
