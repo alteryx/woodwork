{
 "cells": [
  {
   "cell_type": "markdown",
   "metadata": {},
   "source": [
    "![Woodwork](images/woodwork.svg)"
   ]
  },
  {
   "cell_type": "markdown",
   "metadata": {},
   "source": [
    "\n",
    "### Woodwork is a library that helps with data typing of 2-dimensional tabular data structures.\n",
    "\n",
    "It provides a DataTable object, which contains the physical, logical, and semantic data types.\n",
    "It can be used with [Featuretools](https://www.featuretools.com), [EvalML](https://evalml.featurelabs.com/en/latest/), and general machine learning applications where logical and semantic typing information is important.\n",
    "\n",
    "Woodwork provides simple interfaces for adding and updating logical and semantic typing information, as well as selecting data columns based on the types.\n",
    "\n",
    "##### Quick Start\n",
    "Below is an example of using a Woodwork DataTable to automatically infer the Logical Types for a data structure and select columns with specific types."
   ]
  },
  {
   "cell_type": "code",
   "execution_count": null,
   "metadata": {},
   "outputs": [],
   "source": [
    "import woodwork as ww\n",
    "\n",
    "data = ww.demo.load_retail(nrows=100, return_dataframe=True)\n",
    "\n",
    "dt = ww.DataTable(data, name=\"retail\")\n",
    "dt.types"
   ]
  },
  {
   "cell_type": "code",
   "execution_count": null,
   "metadata": {},
   "outputs": [],
   "source": [
    "filtered_dt = dt.select(include=['numeric', 'Boolean'])\n",
    "filtered_dt.to_pandas().head(5)"
   ]
  },
  {
   "cell_type": "markdown",
   "metadata": {},
   "source": [
    "## Table of contents"
   ]
  },
  {
   "cell_type": "raw",
   "metadata": {
    "raw_mimetype": "text/restructuredtext"
   },
   "source": [
    ".. toctree::\n",
    "   :maxdepth: 1\n",
    "\n",
    "   install\n",
    "   start\n",
    "   api_reference\n",
    "   release_notes"
   ]
  }
 ],
 "metadata": {
  "celltoolbar": "Raw Cell Format",
  "kernelspec": {
   "display_name": "Python 3",
   "language": "python",
   "name": "python3"
  },
  "language_info": {
   "codemirror_mode": {
    "name": "ipython",
    "version": 3
   },
   "file_extension": ".py",
   "mimetype": "text/x-python",
   "name": "python",
   "nbconvert_exporter": "python",
   "pygments_lexer": "ipython3",
   "version": "3.7.4"
  }
 },
 "nbformat": 4,
 "nbformat_minor": 4
}
