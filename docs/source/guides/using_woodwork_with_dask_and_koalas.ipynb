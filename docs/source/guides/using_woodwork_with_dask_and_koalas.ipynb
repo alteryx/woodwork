{
 "cells": [
  {
   "cell_type": "markdown",
   "metadata": {},
   "source": [
    "# Using Woodwork with Dask and Koalas DataFrames\n",
    "\n",
    "Woodwork allows you to add custom typing information to Dask DataFrames or Koalas DataFrames when working with datasets that are too large to easily fit in memory. Although initializing Woodwork on a Dask or Koalas DataFrame follows the same process as you follow when initializing on a pandas DataFrame, there are a few limitations to be aware of. This guide provides a brief overview of using Woodwork with a Dask or Koalas DataFrame. Along the way, the guide highlights several key items to keep in mind when using a Dask or Koalas DataFrame as input.\n",
    "\n",
    "Using Woodwork with either Dask or Koalas requires the installation of the Dask or Koalas libraries respectively. These libraries can be installed directly with these commands:\n",
    "\n",
    "```python\n",
    "python -m pip install \"woodwork[dask]\"\n",
    "```\n",
    "\n",
    "```python\n",
    "python -m pip install \"woodwork[koalas]\"\n",
    "```"
   ]
  },
  {
   "cell_type": "markdown",
   "metadata": {},
   "source": [
    "## Dask DataFrame Example\n",
    "Create a Dask DataFrame to use in our example. Normally you create the DataFrame directly by reading in the data from saved files, but you will create it from a demo pandas DataFrame."
   ]
  },
  {
   "cell_type": "code",
   "execution_count": null,
   "metadata": {},
   "outputs": [],
   "source": [
    "import dask.dataframe as dd\n",
    "import woodwork as ww\n",
    "\n",
    "df_pandas = ww.demo.load_retail(nrows=1000, return_dataframe=True)\n",
    "df_dask = dd.from_pandas(df_pandas, npartitions=10)\n",
    "df_dask"
   ]
  },
  {
   "cell_type": "markdown",
   "metadata": {},
   "source": [
    "Now that you have a Dask DataFrame, you can use it to create a Woodwork DataFrame, just as you would with a pandas DataFrame:"
   ]
  },
  {
   "cell_type": "code",
   "execution_count": null,
   "metadata": {},
   "outputs": [],
   "source": [
    "df_dask.ww.init(index='order_product_id')\n",
    "df_dask.ww"
   ]
  },
  {
   "cell_type": "markdown",
   "metadata": {},
   "source": [
    "As you can see from the output above, Woodwork was initialized successfully, and logical type inference was performed for all of the columns.\n",
    "\n",
    "However, that illustrates one of the key issues in working with Dask DataFrames. In order to perform logical type inference, Woodwork needs to bring the data into memory so it can be analyzed. Currently, Woodwork reads data from the first partition of data only, and then uses this data for type inference. Depending on the complexity of the data, this could be a time consuming operation. Additionally, if the first partition is not representative of the entire dataset, the logical types for some columns may be inferred incorrectly.\n",
    "\n",
    "### Skipping or Overriding Type Inference\n",
    "If this process takes too much time, or if the logical types are not inferred correctly, you can manually specify the logical types for each column. If the logical type for a column is specified, type inference for that column will be skipped. If logical types are specified for all columns, logical type inference will be skipped completely and Woodwork will not need to bring any of the data into memory during initialization.\n",
    "\n",
    "To skip logical type inference completely or to correct type inference issues, define a logical types dictionary with the correct logical type defined for each column in the DataFrame, then pass that dictionary to the initialization call."
   ]
  },
  {
   "cell_type": "code",
   "execution_count": null,
   "metadata": {},
   "outputs": [],
   "source": [
    "logical_types = {\n",
    "    'order_product_id': 'Integer',\n",
    "    'order_id': 'Categorical',\n",
    "    'product_id': 'Categorical',\n",
    "    'description': 'NaturalLanguage',\n",
    "    'quantity': 'Integer',\n",
    "    'order_date': 'Datetime',\n",
    "    'unit_price': 'Double',\n",
    "    'customer_name': 'FullName',\n",
    "    'country': 'Categorical',\n",
    "    'total': 'Double',\n",
    "    'cancelled': 'Boolean',\n",
    "}\n",
    "\n",
    "df_dask.ww.init(index='order_product_id', logical_types=logical_types)\n",
    "df_dask.ww"
   ]
  },
  {
   "cell_type": "markdown",
   "metadata": {},
   "source": [
    "### DataFrame Statistics\n",
    "There are some Woodwork methods that require bringing the underlying Dask DataFrame into memory: `describe`, `value_counts` and `mutual_information`. When called, these methods will call a `compute` operation on the DataFrame to calculate the desired information. This might be problematic for datasets that cannot fit in memory, so exercise caution when using these methods."
   ]
  },
  {
   "cell_type": "code",
   "execution_count": null,
   "metadata": {},
   "outputs": [],
   "source": [
    "df_dask.ww.describe(include=['numeric'])"
   ]
  },
  {
   "cell_type": "code",
   "execution_count": null,
   "metadata": {},
   "outputs": [],
   "source": [
    "df_dask.ww.value_counts()"
   ]
  },
  {
   "cell_type": "code",
   "execution_count": null,
   "metadata": {},
   "outputs": [],
   "source": [
    "df_dask.ww.mutual_information().head()"
   ]
  },
  {
   "cell_type": "markdown",
   "metadata": {},
   "source": [
    "## Koalas DataFrame Example\n",
    "As above, first create a Koalas DataFrame to use in our example. Normally you create the DataFrame directly by reading in the data from saved files, but here you create it from a demo pandas DataFrame."
   ]
  },
  {
   "cell_type": "code",
   "execution_count": null,
   "metadata": {},
   "outputs": [],
   "source": [
    "import databricks.koalas as ks\n",
    "\n",
    "df_koalas = ks.from_pandas(df_pandas)\n",
    "df_koalas.head()"
   ]
  },
  {
   "cell_type": "markdown",
   "metadata": {},
   "source": [
    "Now that you have a Koalas DataFrame, you can initialize Woodwork, just as you would with a pandas DataFrame:"
   ]
  },
  {
   "cell_type": "code",
   "execution_count": null,
   "metadata": {},
   "outputs": [],
   "source": [
    "df_koalas.ww.init(index='order_product_id')\n",
    "df_koalas.ww"
   ]
  },
  {
   "cell_type": "markdown",
   "metadata": {},
   "source": [
    "As you can see from the output above, Woodwork has been initialized successfully, and logical type inference was performed for all of the columns.\n",
    "\n",
    "### Notes on Koalas Dtype Conversions\n",
    "In the types table above, one important thing to notice is that the physical types for the Koalas DataFrame are different than the physical types for the Dask DataFrame. The reason for this is that Koalas does not support the `category` dtype that is available with pandas and Dask.\n",
    "\n",
    "When Woodwork is initialized, the dtype of the DataFrame columns are converted to a set of standard dtypes, defined by the LogicalType `primary_dtype` property. By default, Woodwork uses the `category` dtype for any categorical logical types, but this is not available with Koalas.\n",
    "\n",
    "For LogicalTypes that have `primary_dtype` properties that are not compatible with Koalas, Woodwork will try to convert the column dtype, but will be unsuccessful. At that point, Woodwork will use a backup dtype that is compatible with Koalas. The implication of this is that using Woodwork with a Koalas DataFrame may result in dtype values that are different than the values you would get when working with an otherwise identical pandas DataFrame.\n",
    "\n",
    "Since Koalas does not support the `category` dtype, any column that is inferred or specified with a logical type of `Categorical` will have its values converted to strings and stored with a dtype of `string`. This means that a categorical column containing numeric values, will be converted into the equivalent string values.\n",
    "\n",
    "Finally, Koalas does not support the `timedelta64[ns]` dtype. For this, there is not a clean backup dtype, so the use of `Timedelta` LogicalType is not supported with Koalas DataFrames."
   ]
  },
  {
   "cell_type": "markdown",
   "metadata": {},
   "source": [
    "### Skipping or Overriding Type Inference\n",
    "As with Dask, Woodwork must bring the data into memory so it can be analyzed for type inference. Currently, Woodwork reads the first 100,000 rows of data to use for type inference when using a Koalas DataFrame as input. If the first 100,000 rows are not representative of the entire dataset, the logical types for some columns might be inferred incorrectly.\n",
    "\n",
    "To skip logical type inference completely or to correct type inference issues, define a logical types dictionary with the correct logical type defined for each column in the dataframe."
   ]
  },
  {
   "cell_type": "code",
   "execution_count": null,
   "metadata": {},
   "outputs": [],
   "source": [
    "logical_types = {\n",
    "    'order_product_id': 'Integer',\n",
    "    'order_id': 'Categorical',\n",
    "    'product_id': 'Categorical',\n",
    "    'description': 'NaturalLanguage',\n",
    "    'quantity': 'Integer',\n",
    "    'order_date': 'Datetime',\n",
    "    'unit_price': 'Double',\n",
    "    'customer_name': 'FullName',\n",
    "    'country': 'Categorical',\n",
    "    'total': 'Double',\n",
    "    'cancelled': 'Boolean',\n",
    "}\n",
    "\n",
    "df_koalas.ww.init(index='order_product_id', logical_types=logical_types)\n",
    "df_koalas.ww"
   ]
  },
  {
   "cell_type": "markdown",
   "metadata": {},
   "source": [
    "### DataFrame Statistics\n",
    "As with Dask, running `describe`, `value_counts` or `mutual_information` requires bringing the data into memory to perform the analysis. When called, these methods will call a `to_pandas` operation on the DataFrame to calculate the desired information. This may be problematic for very large datasets, so exercise caution when using these methods."
   ]
  },
  {
   "cell_type": "code",
   "execution_count": null,
   "metadata": {},
   "outputs": [],
   "source": [
    "df_koalas.ww.describe(include=['numeric'])"
   ]
  },
  {
   "cell_type": "code",
   "execution_count": null,
   "metadata": {},
   "outputs": [],
   "source": [
    "df_koalas.ww.value_counts()"
   ]
  },
  {
   "cell_type": "code",
   "execution_count": null,
   "metadata": {},
   "outputs": [],
   "source": [
    "df_koalas.ww.mutual_information().head()"
   ]
  },
  {
   "cell_type": "markdown",
   "metadata": {},
   "source": [
    "## Data Validation Limitations\n",
    "\n",
    "Woodwork performs several validation checks to confirm that the data in the DataFrame is appropriate for the specified parameters. Because some of these validation steps would require pulling the data into memory, they are skipped when using Woodwork with a Dask or Koalas DataFrame. This section provides an overview of the validation checks that are performed with pandas input but skipped with Dask or Koalas input.\n",
    "\n",
    "### Index Uniqueness\n",
    "Normally a check is performed to verify that any column specified as the index contains no duplicate values. With Dask or Koalas input, this check is skipped and you must manually verify that any column specified as an index column contains unique values.\n",
    "\n",
    "### Data Consistency with LogicalType (Dask Only)\n",
    "If you manually define the LogicalType for a column when initializing Woodwork, a check is performed to verify that the data in that column is appropriate for the specified LogicalType. For example, with pandas input if you specify a LogicalType of `Double` for a column that contains letters such as `['a', 'b', 'c']`, an error is raised because it is not possible to convert the letters into numeric values with the `float` dtype associated with the `Double` LogicalType.\n",
    "\n",
    "With Dask input, no such error appears at the time initialization. However, behind the scenes, Woodwork attempts to convert the column physical type to `float`, and this conversion is added to the Dask task graph, without raising an error. However, an error is raised if a `compute` operation is called on the DataFrame as Dask attempts to execute the conversion step. Extra care should be taken when using Dask input to make sure any specified logical types are consistent with the data in the columns to avoid this type of error.\n",
    "\n",
    "### Ordinal Order Values Check\n",
    "For the `Ordinal` LogicalType, a check is typically performed to make sure that the data column does not contain any values that are not present in the defined order values. This check will not be performed with Dask or Koalas input. Users should manually verify that the defined order values are complete to avoid unexpected results."
   ]
  },
  {
   "cell_type": "markdown",
   "metadata": {},
   "source": [
    "## Other Limitations\n",
    "\n",
    "### Reading from CSV Files\n",
    "Woodwork provides the ability to read data directly from a CSV file into a Woodwork DataFrame. The helper function used for this, `woodwork.read_csv`, currently only reads the data into a pandas DataFrame. At some point, this limitation may be removed, allowing data to be read into a Dask or Koalas DataFrame. For now, only pandas DataFrames can be created with this function.\n",
    "\n",
    "### Sorting DataFrame on Time Index\n",
    "When initializing with a time index, Woodwork, by default, will sort the input DataFrame first on the time index and then on the index, if specified. Because sorting a distributed DataFrame is a computationally expensive operation, this sorting is performed only when using a pandas DataFrame. If a sorted DataFrame is needed when using a Dask or Koalas, the user should manually sort the DataFrame as needed.\n",
    "\n",
    "### Equality of Woodwork DataFrames\n",
    "In order to avoid bringing a Dask DataFrame into memory, Woodwoork does not consider the equality of the data when checking whether Woodwork Dataframe initialized from a Dask or Koalas DataFrame is equal to another Woodwork DataFrame. This means that two DataFrames with identical names, columns, indices, semantic tags, and LogicalTypes but different underlying data will be treated as equal if at least one of them uses Dask or Koalas.\n",
    "\n",
    "### LatLong Columns\n",
    "When working with the LatLong logical type, Woodwork converts all LatLong columns to a standard format of a tuple of floats for Dask DataFrames and a list of floats for Koalas DataFrames. In order to do this, the data is read into memory, which may be problematic for large datatsets.\n",
    "\n",
    "### Integer Column Names\n",
    "Woodwork allows column names of any format that is supported by the DataFrame. However, Dask DataFrames do not currently support integer column names.\n",
    "\n",
    "### Setting DataFrame Index\n",
    "When specifying a Woodwork index with a pandas DataFrame, the index of the DataFrame will be set to the column specified as the index and the index column will also remain as a normal column in the DataFrame. When using Woodwork with Dask or Koalas DataFrames, the index of the DataFrame does not get set as it does with pandas, but rather the index column is kept as a normal column in the DataFrame.\n",
    "\n",
    "### Make Index\n",
    "When using `make_index` during Woodwork initialization, a new index column is added in-place to the existing DataFrame. Because this type of in-place operation is not currently possible with Koalas, Woodwork does not support `make_index` when working with a Koalas DataFrame. \n",
    "\n",
    "If a new index column is needed, this should be added by the user prior to initializing Woodwork. This can be done easily with an operation such as this:"
   ]
  },
  {
   "cell_type": "markdown",
   "metadata": {},
   "source": [
    "`df = df.koalas.attach_id_column('distributed-sequence', 'index_col_name')`."
   ]
  }
 ],
 "metadata": {
  "kernelspec": {
   "display_name": "Python 3",
   "language": "python",
   "name": "python3"
  },
  "language_info": {
   "codemirror_mode": {
    "name": "ipython",
    "version": 3
   },
   "file_extension": ".py",
   "mimetype": "text/x-python",
   "name": "python",
   "nbconvert_exporter": "python",
   "pygments_lexer": "ipython3",
   "version": "3.8.5"
  }
 },
 "nbformat": 4,
 "nbformat_minor": 4
}
