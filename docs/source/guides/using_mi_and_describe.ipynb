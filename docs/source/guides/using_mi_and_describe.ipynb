{
 "cells": [
  {
   "cell_type": "markdown",
   "metadata": {},
   "source": [
    "# Gain Statistical Insights into Your DataTable\n",
    "\n",
    "Woodwork provides two methods on DataTable to allow users to better understand their data: `describe` and `get_mutual_information`. The added typing information in a DataTable allows us to more specifically choose which operations to apply to each column according to what's possible for each type.\n",
    "\n",
    "First, we'll build a DataTable with a variety of types so that we can see the full capabilityies of `describe` and `get_mutual_information`. We'll set an index as well as define a few Logical Types."
   ]
  },
  {
   "cell_type": "code",
   "execution_count": null,
   "metadata": {},
   "outputs": [],
   "source": [
    "import pandas as pd\n",
    "from woodwork import DataTable\n",
    "\n",
    "df = pd.DataFrame({\n",
    "        'id': range(3),\n",
    "        'country': ['AUS', 'GB', 'NZ'],\n",
    "        'email': ['john.smith@example.com', None, 'team@featuretools.com'],\n",
    "        'delta': (pd.Series([pd.to_datetime('2020-09-01')] * 3) - pd.to_datetime('2020-07-01')),\n",
    "        'age': [33, 25, 31],\n",
    "        'signup_date': [pd.to_datetime('2020-09-01')] * 3,\n",
    "        'is_registered': [True, False, True],\n",
    "    })\n",
    "\n",
    "dt = DataTable(df, index='id')\n",
    "dt = dt.set_logical_types({'email':'EmailAddress', 'country': 'CountryCode'})"
   ]
  },
  {
   "cell_type": "markdown",
   "metadata": {},
   "source": [
    "In order to understand which Logical Types `describe` and `get_mutual_information` will include in their calculations, we can split the available Logical Types into five categories:\n",
    "\n",
    "- Categorical\n",
    "    - `Categorical`, `CountryCode`, `Ordinal`, `SubRegionCode`, `ZIPCode`\n",
    "- Numeric\n",
    "    - `Double`, `Integer`, `WholeNumber`\n",
    "- String\n",
    "    - `EmailAddress`, `FilePath`, `FullName`, `IPAddress`, `LatLong`, `NaturalLanguage`, `PhoneNumber`, `URL`\n",
    "- Boolean - just the `Boolean` LogicalType\n",
    "- Datetime - just the `Datetime` LogicalType\n",
    "- Timedelta - just the `Timedelta` LogicalType\n"
   ]
  },
  {
   "cell_type": "markdown",
   "metadata": {},
   "source": [
    "## DataTable.describe\n",
    "\n",
    "Using `dt.describe()` will calculate statistics for the columns in your DataTable and return a Pandas DataFrame with the relevant calculations done for each column.\n",
    "\n",
    "The statistics calculated can be broken down into a few types:\n",
    "\n",
    "- General - can be applied to all columns\n",
    "    - `nan_count` and `mode`\n",
    "- Aggregate\n",
    "    - `count` - Categorical, Numeric, Datetime\n",
    "    - `nunique` - Categorical, Numeric, Datetime\n",
    "    - `mean` - Numeric, Datetime\n",
    "    - `std` - Numeric\n",
    "    - `min` - Numeric, Datetime\n",
    "    - `max` - Numeric, Datetime\n",
    "- Boolean - only relevant for columns of Booleans\n",
    "    - `num_false` and `num_true`\n",
    "- Quartile - calculated on Numeric columns\n",
    "    - `first_quartile`\n",
    "    - `second_quartile`\n",
    "    - `third_quartile`\n",
    "\n",
    "Now, let's call `describe` and see how the above statistics get calculated."
   ]
  },
  {
   "cell_type": "code",
   "execution_count": null,
   "metadata": {},
   "outputs": [],
   "source": [
    "dt.describe()"
   ]
  },
  {
   "cell_type": "markdown",
   "metadata": {},
   "source": [
    "There are a couple things to note in the above dataframe:\n",
    "\n",
    "- The DataTable's `index` is not included\n",
    "- We provide typing information for each column according to Woodwork's typing system\n",
    "- Any statistic that cannot be calculated for a column will be filled with `NaN`.\n",
    "- The `email` column contains a null value, which does not get counted in any of the calculations other than `nunique`. "
   ]
  },
  {
   "cell_type": "markdown",
   "metadata": {},
   "source": [
    "## DataTable.get_mutual_information()\n",
    "\n",
    "`dt.get_mutual_information` will calculate the mutual information between all pairs of columns whose Logical Types fall into one of the Numeric, Categorical, or Boolean categories described above. The mutual information between columns `A` and `B` can be understood as the amount of knowlege we can have about column `A` if we have the values of column `B`. The more mutual information there is between `A` and `B`, the less uncertainty there is in `A` knowing `B` or vice versa. \n",
    "\n",
    "The full list of Logical Types for which mutual information can be calculated is Boolean, Categorical, CountryCode, Double, Integer, Ordinal, SubRegionCode, WholeNumber, and ZIPCode.\n",
    "\n",
    "If we call `dt.get_mutual_information()`, we'll see that `delta`, `signup_date`, and `email` will be excluded from the resulting dataframe."
   ]
  },
  {
   "cell_type": "code",
   "execution_count": null,
   "metadata": {},
   "outputs": [],
   "source": [
    "dt.get_mutual_information()"
   ]
  },
  {
   "cell_type": "markdown",
   "metadata": {},
   "source": [
    "We see that the mutual information between a column and itself is 1, which makes sense since if we know everything about a column given itself.\n",
    "\n",
    "While the above dataframe nicely shows how `get_mutual_information` includes only some types of columns, it doesn't actually provide much in terms of understanding mutual information because our dummy DataTable only has 3 rows of data.\n",
    "\n",
    "If we use our demo retail DataTable, we can see the behavior of mutual information more clearly. We'll filter out the columns calculated with themselves so that we can more clearly see the relationshipts between other columns."
   ]
  },
  {
   "cell_type": "code",
   "execution_count": null,
   "metadata": {},
   "outputs": [],
   "source": [
    "from woodwork.demo import load_retail\n",
    "\n",
    "dt = load_retail(nrows=100)\n",
    "mi_1 = dt.get_mutual_information()\n",
    "mi_1[mi_1['column_1'] != mi_1['column_2']].sort_values('mutual_info', ascending=False).head(8)"
   ]
  },
  {
   "cell_type": "markdown",
   "metadata": {},
   "source": [
    "Let's see what happens if we increase the number of rows that we pull for the DataTable:"
   ]
  },
  {
   "cell_type": "code",
   "execution_count": null,
   "metadata": {},
   "outputs": [],
   "source": [
    "dt = load_retail(nrows=500)\n",
    "mi_2 = dt.get_mutual_information()\n",
    "mi_2[mi_2['column_1'] != mi_2['column_2']].sort_values('mutual_info', ascending=False).head(8)"
   ]
  },
  {
   "cell_type": "markdown",
   "metadata": {},
   "source": [
    "What's interesting to note here is that increasing the number of available rows with which to calculate mutual information increased the value of the top mutual information pair, `customer_name` and `order_id`. We see some fluctuation of the other values, but if we look at the average mutual information for the two runs, we see that the mutual information went down, on average, when we had more data. This likely points to a truly strong connection between `customer_name` and `order_id`. This makes sense, because the more data we have, the more accurate the exhibited relationships between volumns should be."
   ]
  },
  {
   "cell_type": "code",
   "execution_count": null,
   "metadata": {},
   "outputs": [],
   "source": [
    "'mutual information with 100 rows', mi_1['mutual_info'].mean(), 'mutual information with 500 rows', mi_2['mutual_info'].mean()"
   ]
  },
  {
   "cell_type": "markdown",
   "metadata": {},
   "source": [
    "If we do just want 500 rows from our data, just taking the first 500 rows, which is what `nrows=500` when we load the data might not be the best for sampling data randomly. If we'd like to randomly sample 500 rows from our data, we can set the `nrows` parameter in `get_mutual_information`. Note that the randomness involved in sampling means that different runs can result in different "
   ]
  },
  {
   "cell_type": "code",
   "execution_count": null,
   "metadata": {},
   "outputs": [],
   "source": [
    "dt = load_retail()\n",
    "mi_sample = dt.get_mutual_information(nrows=500)\n",
    "mi_sample[mi_sample['column_1'] != mi_sample['column_2']].sort_values('mutual_info', ascending=False).head(8)"
   ]
  },
  {
   "cell_type": "code",
   "execution_count": null,
   "metadata": {},
   "outputs": [],
   "source": [
    "dt.describe()"
   ]
  },
  {
   "cell_type": "code",
   "execution_count": null,
   "metadata": {},
   "outputs": [],
   "source": [
    "\n",
    "mi_sample = dt.get_mutual_information(nrows=500)\n",
    "mi_sample[mi_sample['column_1'] != mi_sample['column_2']].sort_values('mutual_info', ascending=False).head(8)"
   ]
  },
  {
   "cell_type": "code",
   "execution_count": null,
   "metadata": {},
   "outputs": [],
   "source": [
    "\n",
    "mi_sample = dt.get_mutual_information()\n",
    "mi_sample[mi_sample['column_1'] != mi_sample['column_2']].sort_values('mutual_info', ascending=False).head(8)"
   ]
  },
  {
   "cell_type": "code",
   "execution_count": null,
   "metadata": {},
   "outputs": [],
   "source": []
  }
 ],
 "metadata": {
  "kernelspec": {
   "display_name": "Python 3",
   "language": "python",
   "name": "python3"
  },
  "language_info": {
   "codemirror_mode": {
    "name": "ipython",
    "version": 3
   },
   "file_extension": ".py",
   "mimetype": "text/x-python",
   "name": "python",
   "nbconvert_exporter": "python",
   "pygments_lexer": "ipython3",
   "version": "3.6.8"
  }
 },
 "nbformat": 4,
 "nbformat_minor": 4
}
