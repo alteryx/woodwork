{
 "cells": [
  {
   "cell_type": "markdown",
   "metadata": {},
   "source": [
    "# Gain Statistical Insights into Your DataTable\n",
    "\n",
    "Woodwork provides two methods on DataTable to allow users to utilize the typing information inherent in a DataTable to better understand their data: `describe` and `get_mutual_information`.\n",
    "\n",
    "In order to understand how these functions utilize the types in DataTables, we can split the Logical Types in Woodwork into five categories:\n",
    "\n",
    "- Categorical\n",
    "    - `Categorical`, `CountryCode`, `Ordinal`, `SubRegionCode`, `ZIPCode`\n",
    "- Numeric\n",
    "    - `Double`, `Integer`, `WholeNumber`\n",
    "- String\n",
    "    - `EmailAddress`, `FilePath`, `FullName`, `IPAddress`, `LatLong`, `NaturalLanguage`, `PhoneNumber`, `URL`\n",
    "- Boolean - just the `Boolean` LogicalType\n",
    "- Datetime - just the `Datetime` LogicalType\n",
    "- Timedelta - just the `Timedelta` LogicalType\n",
    "\n",
    "Now, we'll build a DataTable with a variety of types so that we can walk through how to use `describe` and `get_mutual_information` on a small amount of data to understand the functionality. Then, we'll show the functions being used on a larger demo dataset so that we can see the full capabilities of the functions."
   ]
  },
  {
   "cell_type": "code",
   "execution_count": null,
   "metadata": {},
   "outputs": [],
   "source": [
    "import pandas as pd\n",
    "from woodwork import DataTable\n",
    "\n",
    "df = pd.DataFrame({\n",
    "        'id': range(3),\n",
    "        'country': ['AUS', 'GB', 'NZ'],\n",
    "        'email': ['john.smith@example.com', None, 'team@featuretools.com'],\n",
    "        'delta': (pd.Series([pd.to_datetime('2020-09-01')] * 3) - pd.to_datetime('2020-07-01')),\n",
    "        'age': [33, 25, 31],\n",
    "        'signup_date': [pd.to_datetime('2020-09-01')] * 3,\n",
    "        'is_registered': [True, False, True],\n",
    "    })\n",
    "\n",
    "dt = DataTable(df)\n",
    "# Set the index and specify a few Logical Types\n",
    "dt = dt.set_index('id')\n",
    "dt = dt.set_logical_types({'email':'EmailAddress', 'country': 'CountryCode'})"
   ]
  },
  {
   "cell_type": "markdown",
   "metadata": {},
   "source": [
    "## DataTable.describe\n",
    "\n",
    "We use `dt.describe()` to calculate statistics for the Data Columns in a DataTable in the format of a Pandas DataFrame with the relevant calculations done for each column. \n",
    "\n",
    "The statistics calculated can be broken down into a few types:\n",
    "\n",
    "- General - can be applied to all columns\n",
    "    - `nan_count` and `mode`\n",
    "- Aggregate\n",
    "    - `count` - Categorical, Numeric, Datetime\n",
    "    - `nunique` - Categorical, Numeric, Datetime\n",
    "    - `mean` - Numeric, Datetime\n",
    "    - `std` - Numeric\n",
    "    - `min` - Numeric, Datetime\n",
    "    - `max` - Numeric, Datetime\n",
    "- Boolean - only relevant for columns of Booleans\n",
    "    - `num_false` and `num_true`\n",
    "- Quartile - calculated on Numeric columns\n",
    "    - `first_quartile`\n",
    "    - `second_quartile`\n",
    "    - `third_quartile`\n",
    "\n",
    "Now, let's call `describe` and see how the above statistics get calculated."
   ]
  },
  {
   "cell_type": "code",
   "execution_count": null,
   "metadata": {},
   "outputs": [],
   "source": [
    "dt.describe()"
   ]
  },
  {
   "cell_type": "markdown",
   "metadata": {},
   "source": [
    "There are a couple things to note in the above dataframe:\n",
    "\n",
    "- The DataTable's `index` is not included\n",
    "- We provide typing information for each column according to Woodwork's typing system\n",
    "- Any statistic that cannot be calculated for a column, say `num_false` on a `Datetime`, will be filled with `NaN`.\n",
    "- Null values do not get counted in any of the calculations other than `nunique`. This can be seen in the `email` column."
   ]
  },
  {
   "cell_type": "markdown",
   "metadata": {},
   "source": [
    "## DataTable.get_mutual_information()\n",
    "\n",
    "`dt.get_mutual_information` will calculate the mutual information between all pairs of columns whose Logical Types fall into one of the Numeric, Categorical, or Boolean categories described above. The mutual information between columns `A` and `B` can be understood as the amount of knowlege we can have about column `A` if we have the values of column `B`. The more mutual information there is between `A` and `B`, the less uncertainty there is in `A` knowing `B` or vice versa. \n",
    "\n",
    "The full list of Logical Types for which mutual information can be calculated is Boolean, Categorical, CountryCode, Double, Integer, Ordinal, SubRegionCode, WholeNumber, and ZIPCode.\n",
    "\n",
    "If we call `dt.get_mutual_information()`, we'll see that `delta`, `signup_date`, and `email` will be excluded from the resulting dataframe."
   ]
  },
  {
   "cell_type": "code",
   "execution_count": null,
   "metadata": {},
   "outputs": [],
   "source": [
    "dt.get_mutual_information()"
   ]
  },
  {
   "cell_type": "markdown",
   "metadata": {},
   "source": [
    "We see that the mutual information between a column and itself is 1, which makes sense since if we know everything about a column given itself.\n",
    "\n",
    "#### Available Parameters\n",
    "`df.get_mutual_information` provides two parameters for tuning the mutual information calculation.\n",
    "\n",
    "- `num_bins` - In order to calculate mutual information on continuous data, we bin numeric data into categories. This parameter allows users to choose the number of bins with which to categorize data.\n",
    "    - Defaults to using 10 bins\n",
    "    - The more bins there are, the more variety a column will have. The number of bins used shoudl accurately portray the spread of the data.\n",
    "- `nrows` - if `nrows` is set at a value below the number of rows in the DataTable, that number of rows will be randomly sampled from the underlying data\n",
    "    - Defaults to using all the available rows.\n",
    "    - Decreasing the number of rows can speed up the mutual information calculation on a DataTable with many rows, though care should be taken that the number being sampled is large enough to accurately portray the data.\n",
    "\n",
    "While the above dataframe nicely shows how `get_mutual_information` includes only some types of columns, it doesn't actually provide much in terms of understanding mutual information because our dummy DataTable only has 3 rows of data.\n",
    "\n",
    "If we use our demo retail DataTable, we can see the behavior of mutual information more clearly."
   ]
  },
  {
   "cell_type": "markdown",
   "metadata": {},
   "source": [
    "## Retail Demo\n",
    "\n",
    "The retail demo DataTable can be used to look at a larger sample dataset.\n",
    "\n",
    "Let's explore the dataset. First we'll just take a look at the type information and the underlying data."
   ]
  },
  {
   "cell_type": "code",
   "execution_count": null,
   "metadata": {},
   "outputs": [],
   "source": [
    "from woodwork.demo import load_retail\n",
    "\n",
    "dt = load_retail()\n",
    "dt.types"
   ]
  },
  {
   "cell_type": "markdown",
   "metadata": {},
   "source": [
    "Now, we're going to get an overview of the data using `dt.describe`."
   ]
  },
  {
   "cell_type": "code",
   "execution_count": null,
   "metadata": {},
   "outputs": [],
   "source": [
    "dt.describe()"
   ]
  },
  {
   "cell_type": "markdown",
   "metadata": {},
   "source": [
    "We can see that our data has more than 400K rows and no null values among other statistics calculated.\n",
    "\n",
    "If we want to know about how the columns might relate to one antoher, we can take a look at the mutual information for the dataset."
   ]
  },
  {
   "cell_type": "code",
   "execution_count": null,
   "metadata": {},
   "outputs": [],
   "source": [
    "mi = dt.get_mutual_information()\n",
    "mi[mi['column_1'] != mi['column_2']].sort_values('mutual_info', ascending=False).head(10)"
   ]
  },
  {
   "cell_type": "markdown",
   "metadata": {},
   "source": [
    "Let's see what happens if we decrease the number of rows that we pull for the DataTable down to 50,000:"
   ]
  },
  {
   "cell_type": "code",
   "execution_count": null,
   "metadata": {},
   "outputs": [],
   "source": [
    "mi = dt.get_mutual_information(nrows=20000)\n",
    "mi[mi['column_1'] != mi['column_2']].sort_values('mutual_info', ascending=False).head(10)"
   ]
  },
  {
   "cell_type": "markdown",
   "metadata": {},
   "source": [
    "Between 400K and 50K rows, we do see some differences in the mutual information calculated, but many pairs of columns are present in both runs. However, we will see consistensy across 50K runs even though the sampled rows will be different."
   ]
  },
  {
   "cell_type": "code",
   "execution_count": null,
   "metadata": {},
   "outputs": [],
   "source": [
    "mi = dt.get_mutual_information(nrows=20000)\n",
    "mi[mi['column_1'] != mi['column_2']].sort_values('mutual_info', ascending=False).head(10)"
   ]
  },
  {
   "cell_type": "markdown",
   "metadata": {},
   "source": [
    "Now we'll explore changing the number of bins. Note that this will only impact numeric columns `quantity` and `unit_price`. We're going to increase the number of bins from 10 to 50, only showing the impacted columns."
   ]
  },
  {
   "cell_type": "code",
   "execution_count": null,
   "metadata": {},
   "outputs": [],
   "source": [
    "mi = dt.get_mutual_information()\n",
    "p = mi[mi['column_1'] != mi['column_2']].sort_values('mutual_info', ascending=False)\n",
    "p[p['column_1'].isin(['unit_price', 'quantity']) | p['column_2'].isin(['unit_price', 'quantity'])]"
   ]
  },
  {
   "cell_type": "code",
   "execution_count": null,
   "metadata": {},
   "outputs": [],
   "source": [
    "mi = dt.get_mutual_information(num_bins = 50)\n",
    "p = mi[mi['column_1'] != mi['column_2']].sort_values('mutual_info', ascending=False)\n",
    "p[p['column_1'].isin(['unit_price', 'quantity']) | p['column_2'].isin(['unit_price', 'quantity'])]"
   ]
  }
 ],
 "metadata": {
  "kernelspec": {
   "display_name": "Python 3",
   "language": "python",
   "name": "python3"
  },
  "language_info": {
   "codemirror_mode": {
    "name": "ipython",
    "version": 3
   },
   "file_extension": ".py",
   "mimetype": "text/x-python",
   "name": "python",
   "nbconvert_exporter": "python",
   "pygments_lexer": "ipython3",
   "version": "3.6.8"
  }
 },
 "nbformat": 4,
 "nbformat_minor": 4
}
