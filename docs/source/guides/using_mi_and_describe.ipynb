{
 "cells": [
  {
   "cell_type": "markdown",
   "metadata": {},
   "source": [
    "# Gain Statistical Insights into Your DataTable\n",
    "\n",
    "Woodwork provides two methods on DataTable to allow users to better understand their data: `describe` and `get_mutual_information`"
   ]
  },
  {
   "cell_type": "code",
   "execution_count": null,
   "metadata": {},
   "outputs": [],
   "source": [
    "import pandas as pd\n",
    "from woodwork import DataTable\n",
    "\n",
    "df = pd.DataFrame({\n",
    "        'id': range(3),\n",
    "        'country': ['AUS', 'GB', 'NZ'],\n",
    "        'email': ['john.smith@example.com', None, 'team@featuretools.com'],\n",
    "        'delta': (pd.Series([pd.to_datetime('2020-09-01')] * 3) - pd.to_datetime('2020-07-01')),\n",
    "        'age': [33, 25, 33],\n",
    "        'signup_date': [pd.to_datetime('2020-09-01')] * 3,\n",
    "        'is_registered': [True, False, True],\n",
    "    })\n",
    "\n",
    "dt = DataTable(df, index='id')\n",
    "dt = dt.set_logical_types({'email':'EmailAddress', 'country': 'CountryCode'})"
   ]
  },
  {
   "cell_type": "markdown",
   "metadata": {},
   "source": [
    "In order to understand which Logical Types `describe` and `get_mutual_information` will include in their calculations, we can split the available Logical Types into five categories:\n",
    "\n",
    "- Categorical\n",
    "    - `Categorical`, `CountryCode`, `Ordinal`, `SubRegionCode`, `ZIPCode`\n",
    "- Numeric\n",
    "    - `Double`, `Integer`, `WholeNumber`\n",
    "- String\n",
    "    - `EmailAddress`, `FilePath`, `FullName`, `IPAddress`, `LatLong`, `NaturalLanguage`, `PhoneNumber`, `URL`\n",
    "- Boolean - just the `Boolean` LogicalType\n",
    "- Datetime - just the `Datetime` LogicalType\n",
    "- Timedelta - just the `Timedelta` LogicalType\n"
   ]
  },
  {
   "cell_type": "markdown",
   "metadata": {},
   "source": [
    "## DataTable.describe\n",
    "\n",
    "Using `dt.describe()` will calculate statistics for the columns in your DataTable and return a Pandas DataFrame with the relevant calculations done for each column.\n",
    "\n",
    "The statistics calculated can be broken down into a few types:\n",
    "\n",
    "- General - can be applied to all columns\n",
    "    - `nan_count` and `mode`\n",
    "- Aggregate\n",
    "    - `count` - Categorical, Numeric, Datetime\n",
    "    - `nunique` - Categorical, Numeric, Datetime\n",
    "    - `mean` - Numeric, Datetime\n",
    "    - `std` - Numeric\n",
    "    - `min` - Numeric, Datetime\n",
    "    - `max` - Numeric, Datetime\n",
    "- Boolean - only relevant for columns of Booleans\n",
    "    - `num_false` and `num_true`\n",
    "- Quartile - calculated on Numeric columns\n",
    "    - `first_quartile`\n",
    "    - `second_quartile`\n",
    "    - `third_quartile`"
   ]
  },
  {
   "cell_type": "code",
   "execution_count": null,
   "metadata": {},
   "outputs": [],
   "source": [
    "dt.describe()"
   ]
  },
  {
   "cell_type": "markdown",
   "metadata": {},
   "source": [
    "There are a couple things to note in the above dataframe:\n",
    "- The DataTable's `index` will not be included\n",
    "- We provide typing information for each column according to Woodwork's typing system\n",
    "- Any statistic that cannot be calculated for a column will be filled with `NaN`. "
   ]
  },
  {
   "cell_type": "markdown",
   "metadata": {},
   "source": [
    "## DataTable.get_mutual_information()\n",
    "\n",
    "`dt.get_mutual_information` will calculate the mutual information between all pairs of columns whose Logical Types fall into one of the Numeric, Categorical, or Boolean categories described above.\n",
    "\n",
    "describe possible inputs\n",
    "describe the behavior of what happens in terns of -> turning into categories for all?"
   ]
  }
 ],
 "metadata": {
  "kernelspec": {
   "display_name": "Python 3",
   "language": "python",
   "name": "python3"
  },
  "language_info": {
   "codemirror_mode": {
    "name": "ipython",
    "version": 3
   },
   "file_extension": ".py",
   "mimetype": "text/x-python",
   "name": "python",
   "nbconvert_exporter": "python",
   "pygments_lexer": "ipython3",
   "version": "3.6.8"
  }
 },
 "nbformat": 4,
 "nbformat_minor": 4
}
