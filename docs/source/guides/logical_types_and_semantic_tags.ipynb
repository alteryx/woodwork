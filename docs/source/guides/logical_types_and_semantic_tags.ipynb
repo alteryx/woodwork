{
 "cells": [
  {
   "cell_type": "markdown",
   "id": "later-pharmaceutical",
   "metadata": {},
   "source": [
    "# Logical Types and Semantic Tags\n",
    "\n",
    "In a Woodwork DataFrame, each column has three pieces of typing information: physical types, logical types, and semantic tags. When Woodwork is initialized on a DataFrame, Woodwork will attempt to infer these types if none are supplied at init.\n",
    "\n",
    "Defining specific logical types or semantic tags for your data is important for building a table that contains the most specific type information as is possible. As Woodwork may transform your data to match the expected format of certain logical types, using the correct logical type is also a promise that the data that is that logical type matches a defined format.\n",
    "\n",
    "Having the correct types set is also important for downstream usage of the data. The purpose of having a type system is so that data can be confidently used for general machine learning projects in the most optimal way. For example, if Woodwork infers a categorical column as natural language, that will have an adverse impact any model built using the resulting types. \n",
    "\n",
    "This guide offers an in-depth walk-through of all of the logical types and semantic tags that Woodwork defines. As a reminder, here are quick definitions of Woodwork's types:\n",
    "\n",
    "- Physical Type: defines how the data is stored on disk or in memory.\n",
    "- Logical Type: defines how the data should be parsed or interpreted.\n",
    "- Semantic Tag(s): provides additional data about the meaning of the data or how it should be used.\n",
    "\n",
    "For an in-depth guide on how to set and manipulate these types, see the [understanding types and tags guide](https://woodwork.alteryx.com/en/stable/guides/understanding_types_and_tags.html).\n",
    "\n",
    "For information on how to customize Woodwork's type system, see the [custom types and inference guide](https://woodwork.alteryx.com/en/stable/guides/custom_types_and_type_inference.html).\n",
    "\n",
    "It's important to remember that Woodwork columns will always have a logical type and that any semantic tags that are added by Woodwork are meant to add additional meaning onto the logical type. We'll start out by looking in-depth at semantic tags so that when we get to logical types, we can better understand how a semantic tag might add additional information onto it.\n"
   ]
  },
  {
   "cell_type": "markdown",
   "id": "czech-strip",
   "metadata": {},
   "source": [
    "\n",
    "# Semantic Tags\n",
    "\n",
    "Here is the full set of Woodwork-defined semantic tags:"
   ]
  },
  {
   "cell_type": "code",
   "execution_count": null,
   "id": "supposed-cookie",
   "metadata": {},
   "outputs": [],
   "source": [
    "import woodwork as ww\n",
    "ww.list_semantic_tags()"
   ]
  },
  {
   "cell_type": "markdown",
   "id": "extra-husband",
   "metadata": {},
   "source": [
    "#### Standard Tags\n",
    "Standard tags are associated with specific logical types. They are useful for indicating predefined categories that logical types might fall into.\n",
    "- `'numeric'` - Is applied to any numeric logical type\n",
    "    - **Uses**: Can select for just numeric columns when performing operations that require numeric operations\n",
    "    - **Related Properties**: `series.ww.is_numeric`\n",
    "- `'category'` - Is applied to any logical type that is categorical in nature\n",
    "    - **Uses**: Can select for just categorical columns when performing operations that require categories\n",
    "    - **Related Properties**: `series.ww.is_categorical`\n",
    "\n",
    "#### Index Tags\n",
    "Index tags are added by Woodwork to a DataFrame when an `index` or `time_index` column is identified by the user. These tags have some special properties that are only confirmed to be true in the context of a DataFrame (so any Series with these tags may not have these properties).\n",
    "- `'index'` - Indicates that a column is the DataFrame's index, or primary key\n",
    "    - There will only be one index column\n",
    "    - The contents of an index column will be unique\n",
    "    - An index column will have any standard semantic tags removed\n",
    "    - The data in an index column will be reflected in the DataFrame's underlying index\n",
    "- `'time_index'`\n",
    "    - There will only be one time index column\n",
    "    - A time index column will either contain datetime or numeric data\n",
    "\n",
    "#### Other Tags\n",
    "This section contains tags that will not be automatically added to a Woodwork DataFrame but that Woodwork acknowledges have a specific meaning even if it won't take any specific ation on. Additional tags beyond the ones Woodwork adds at initialization may be useful for a DataFrame's interpretability, so users are encouraged to add any tags that will allow them to use their data more efficiently. \n",
    "- `'date_of_birth'` - Indicates that a datetime column should be parsed as a date of birth\n",
    "\n",
    "\n",
    "\n",
    "# Logical Types\n",
    "\n",
    "Below are all of the Logical Types that Woodwork defines. We will now walk through each of these types with some examples and suggested uses."
   ]
  },
  {
   "cell_type": "code",
   "execution_count": null,
   "id": "sunset-chassis",
   "metadata": {},
   "outputs": [],
   "source": [
    "import woodwork as ww\n",
    "ww.list_logical_types()"
   ]
  },
  {
   "cell_type": "markdown",
   "id": "professional-greek",
   "metadata": {},
   "source": [
    "In the DataFrame above, we can see a `parent_type` column. This concept of `LogicalType` classes having parents is not indicitive of a class-inheritence structure. We'll see below that all default `LogicalType`s that can show up in a Woodwork DataFrame are subclassed on the base `LogicalType` class. This parent-child relationship is something that comes from Woodwork's type system, which we describe in detail in the [custom types and type inference guide](https://woodwork.alteryx.com/en/stable/guides/custom_types_and_type_inference.html#Logical-Type-Relationships). \n",
    "\n",
    "As a quick summary to explain the `parent_type` column, it is indicitive of how type inference should rank inferred types. It's possible for data to be inferred as more than one Logical Type. For example, a column of all integers with no null values could be inferred as either `Integer` or `IntegerNullable`. `IntegerNullable` being the parent of `Integer` indicates that we know more about the contents of a column if it's able to be an `Integer` column (namely, that there are no null values), and Woodwork should infer a column as the Logical Type for which we know the most information.\n",
    "\n",
    "#### Base LogicalType Class\n",
    "\n",
    "All logical types used by Woodwork are subclassed off of the base `LogicalType` class. Here we'll describe a bit about what the base LogicalType class (and therefore all subclasses) can do.\n",
    "- Define a `dtype` that will get used for a given LogicalType - this is how the physical type for a column gets determined\n",
    "- Allow for a basic transformation into the expected phs `dtype` - this is how Woodwork LogicalTypes act as a form of data-transformers. Depending on the requirements of a LogicalType, a LogicalType can define an expected format for any data applied to it and provide a method for transforming input data to that format. \n",
    "    - Will make a note of any transformation that may happen with a LogicalType beyond the expected DataFrame behavior for an `astype` call.\n",
    "- Have an empty set as its `LogicalType.standard_tags` attribute. This indicates that, by default, LogicalTypes do not have standard tags associated with them. Thus, if standard tags are not mentioned for a Logical Type, it can be assumed that there are none.\n",
    "\n",
    "## Default\n",
    "\n",
    "#### Unknown\n",
    "When Woodwork inference does not return any LogicalTypes for a column, Woodwork will set the column's logical type as the default LogicalType, `Unknown`. A logical type being inferred as `Unknown` may be a good indicator that a more specific logical type can be chosen and set by the user.\n",
    "- **physical type**: `string`"
   ]
  },
  {
   "cell_type": "code",
   "execution_count": null,
   "id": "bottom-alliance",
   "metadata": {},
   "outputs": [],
   "source": [
    "import pandas as pd\n",
    "\n",
    "series = pd.Series([\"AUS\", \"USA\", \"UKR\"])\n",
    "unknown_series = ww.init_series(series)\n",
    "unknown_series.ww"
   ]
  },
  {
   "cell_type": "code",
   "execution_count": null,
   "id": "gothic-hello",
   "metadata": {},
   "outputs": [],
   "source": [
    "countrycode_series = ww.init_series(unknown_series, 'CountryCode')\n",
    "countrycode_series.ww"
   ]
  },
  {
   "cell_type": "markdown",
   "id": "capable-marketing",
   "metadata": {},
   "source": [
    "## Numeric\n",
    "\n",
    "#### Age\n",
    "\n",
    "Represents Logical Types that contain non-negative numbers indicating a person’s age.\n",
    "- **physical type**: `int64`\n",
    "- **standard tags**: `{'numeric'}`\n",
    "\n",
    "#### AgeNullable\n",
    "\n",
    "Represents Logical Types that contain non-negative numbers indicating a person’s age.\n",
    "- **physical type**: `Int64`\n",
    "- **standard tags**: `{'numeric'}`\n",
    "\n",
    "#### Double\n",
    "\n",
    "Represents Logical Types that contain positive and negative numbers, some of which include a fractional component.\n",
    "- **physical type**: `float64`\n",
    "- **standard tags**: `{'numeric'}`\n",
    "\n",
    "#### Integer\n",
    "\n",
    "Represents Logical Types that contain positive and negative numbers without a fractional component, including zero (0).\n",
    "- **physical type**: `int64`\n",
    "- **standard tags**: `{'numeric'}`\n",
    "\n",
    "#### IntegerNullable \n",
    "Represents Logical Types that contain positive and negative numbers without a fractional component, including zero (0). May contain null values. \n",
    "- **physical type**: `Int64`\n",
    "- **standard tags**: `{'numeric'}`\n",
    "\n",
    "\n",
    "\n",
    "Below we'll find a dataframe with examples of each of the numeric LogicalTypes"
   ]
  },
  {
   "cell_type": "code",
   "execution_count": null,
   "id": "handled-russia",
   "metadata": {},
   "outputs": [],
   "source": [
    "numerics_df = pd.DataFrame({\n",
    "    'ints' : [1, 2, 3, 4],\n",
    "    'ints_nullable': pd.Series([1, 2, None, 4], dtype='Int64'),\n",
    "    'floats' : [0.0, 1.1, 2.2, 3.3],\n",
    "    'ages': [18, 22, 24, 34],\n",
    "    'ages_nullable' : [None, 2, 22, 33]\n",
    "})\n",
    "\n",
    "numerics_df.ww.init(logical_types={'ages':'Age', 'ages_nullable':'AgeNullable'})\n",
    "numerics_df.ww"
   ]
  },
  {
   "cell_type": "markdown",
   "id": "forty-banks",
   "metadata": {},
   "source": [
    "\n",
    "## Categorical\n",
    "\n",
    "#### Categorical \n",
    "\n",
    "Represents a Logical Type with few unique values relative to the size of the data.\n",
    "\n",
    "- **physical type**: `category`\n",
    "- **inference**: Woodwork defines a threshold for percentage unique values relative to the size of the series below which a series will be considered categorical. See [setting config options guide](https://woodwork.alteryx.com/en/stable/guides/setting_config_options.html#Categorical-Threshold) for more information on how to control this threshold.\n",
    "- **koalas note**: Koalas does not support the `category` dtype, so for Koalas DataFrames and Series, the `string` dtype will be used.\n",
    "\n",
    "\n",
    "Some examples of data for which the Categorical logical type would apply:\n",
    "\n",
    "- Gender\n",
    "- Eye Color\n",
    "- Nationality\n",
    "- Hair Color\n",
    "- Spoken Language\n",
    "\n",
    "#### CountryCode\n",
    "\n",
    "Represents Logical Types that contain categorical information specifically used to represent countries.\n",
    "- **physical type**: `category`\n",
    "- **standard tags**: `{'category'}`\n",
    "- **koalas note**: Koalas does not support the `category` dtype, so for Koalas DataFrames and Series, the `string` dtype will be used.\n",
    "\n",
    "For example: `'AUS'` for Australia, `'CHN'` for China, and `'CAN'` for Canada.\n",
    "\n",
    "#### Ordinal\n",
    "\n",
    "A Ordinal variable type can take ordered discrete values. Similar to Categorical, it is usually a limited, and fixed number of possible values. However, these discrete values have a certain order, and the ordering is important to understanding the values. Ordinal variable types can be represented as strings, or integers. \n",
    "- **physical type**: `category`\n",
    "- note - has ordered types as categories \n",
    "- **standard tags**: `{'category'}`\n",
    "- **parameters**:\n",
    "    - `order` - the order of the ordinal values in the column from low to high\n",
    "- **validation** - an order must be defined for an Ordinal column on a DataFrame or Series, and all elements of the order must be present.\n",
    "- **koalas note**: Koalas does not support the `category` dtype, so for Koalas DataFrames and Series, the `string` dtype will be used.\n",
    "\n",
    "Some examples of data for which the Ordinal logical type would apply:\n",
    "\n",
    "- Educational Background (Elementary, High School, Undergraduate, Graduate)\n",
    "- Satisfaction Rating (“Not Satisfied”, “Satisfied\", “Very Satisfied”)\n",
    "- Spicy Level (Hot, Hotter, Hottest)\n",
    "- Student Grade (A, B, C, D, F)\n",
    "- Size (small, medium, large)\n",
    "\n",
    "#### PostalCode\n",
    "\n",
    "Represents Logical Types that contain a series of postal codes for representing a group of addresses.\n",
    "- **physical type**: `category`\n",
    "- **standard tags**: `{'category'}`\n",
    "- **koalas note**: Koalas does not support the `category` dtype, so for Koalas DataFrames and Series, the `string` dtype will be used.\n",
    "\n",
    "#### SubRegionCode\n",
    "\n",
    "Represents Logical Types that contain codes representing a portion of a larger geographic region.\n",
    "- **physical type**: `category`\n",
    "- **standard tags**: `{'category'}`\n",
    "- **koalas note**: Koalas does not support the `category` dtype, so for Koalas DataFrames and Series, the `string` dtype will be used.\n",
    "\n",
    "For example: `'US-IL'` to represent Illinois in the United States or `'AU-TAS'` to represent Tasmania in Australia."
   ]
  },
  {
   "cell_type": "code",
   "execution_count": null,
   "id": "obvious-mayor",
   "metadata": {},
   "outputs": [],
   "source": [
    "categoricals_df = pd.DataFrame({\n",
    "    'categorical': pd.Series(['a', 'b', 'a', 'a'], dtype='category'),\n",
    "    'ordinal' : ['small', 'large', 'large', 'medium'],\n",
    "    'country_code' : [\"AUS\", \"USA\", \"UKR\", \"AUS\"],\n",
    "    'postal_code': [\"90210\", \"60035\", \"SW1A\", \"90210\" ],\n",
    "    'sub_region_code' : [\"AU-NSW\", \"AU-TAS\", \"AU-QLD\", \"AU-QLD\"]\n",
    "})\n",
    "categoricals_df.ww.init(logical_types={'ordinal':ww.logical_types.Ordinal(order=['small', 'medium', 'large']),\n",
    "                                       'country_code':'CountryCode', \n",
    "                                       'postal_code':'PostalCode',\n",
    "                                       'sub_region_code':'SubRegionCode'})\n",
    "\n",
    "categoricals_df.ww"
   ]
  },
  {
   "cell_type": "markdown",
   "id": "elegant-saying",
   "metadata": {},
   "source": [
    "## Specific Format\n",
    "\n",
    "#### Boolean\n",
    "\n",
    "Represents Logical Types that contain binary values indicating true/false.\n",
    "- **physical type**: `bool`\n",
    "\n",
    "#### BooleanNullable\n",
    "Represents Logical Types that contain binary values indicating true/false.\n",
    "    May also contain null values.\n",
    "- **physical type**: `boolean`\n",
    "\n",
    "#### Datetime\n",
    "A Datetime is a representation of a date and/or time. Datetime variable types can be represented as strings, or integers. However, they should be in a intrepretable format or properly cast before using DFS. \n",
    "- **physical type**: `datetime64[ns]`\n",
    "- **transformation**: Will convert valid strings or numbers to pandas datetimes, allowing more datetime formats with the `datetime_format` parameter.\n",
    "- **parameters**:\n",
    "    - `datetime_format` - the format of the datetimes in the column \n",
    "\n",
    "Some examples of Datetime include:\n",
    "\n",
    "- transaction time\n",
    "- flight departure time\n",
    "- pickup time\n",
    "\n",
    "#### EmailAddress\n",
    "\n",
    "Represents Logical Types that contain email address values.\n",
    "- **physical type**: `string`\n",
    "- **inference**: Uses an email address regex that, if the data matches, means that the column contains email addresses. To learn more about controling the regex used, see the [setting config options guide](https://woodwork.alteryx.com/en/stable/guides/setting_config_options.html#Email-Inference-Regex).\n",
    "\n",
    "#### LatLong\n",
    "A LatLong represents an ordered pair (Latitude, Longitude) that tells the location on Earth. The order of the tuple is important. LatLongs can be represented as tuple of floating point numbers. \n",
    "- **physical type**: `object`\n",
    "- **transformation**: Will convert inputs into a tuple of floats. Any null values will be stored as `np.nan`\n",
    "- **koalas note**: Koalas does not support tuples, so latlongs will be stored as a list of floats\n",
    "\n",
    "#### Timedelta\n",
    "\n",
    "Represents Logical Types that contain values specifying a duration of time\n",
    "- **physical type**: `timedelta64[ns]`\n",
    "\n",
    "\n",
    "Examples could inclue:\n",
    "- Days/months/years since some event\n",
    "- How long a flight's arrival was delayed/early\n",
    "- Days until birthday"
   ]
  },
  {
   "cell_type": "code",
   "execution_count": null,
   "id": "separated-brick",
   "metadata": {},
   "outputs": [],
   "source": [
    "df = pd.DataFrame({\n",
    "    'dates': [\"2019/01/01\", \"2019/01/02\", \"2019/01/03\", \"2019/01/03\"],\n",
    "    'latlongs': ['[33.670914, -117.841501]', '40.423599, -86.921162', (-45.031705, None), None],\n",
    "    'booleans': [True, True, False, True],\n",
    "    'bools_nullable': pd.Series([True, False, True, None], dtype='boolean'),\n",
    "    'timedelta': [pd.Timedelta('1 days 00:00:00'), pd.Timedelta('-1 days +23:40:00'),\n",
    "             pd.Timedelta('4 days 12:00:00'), pd.Timedelta('-1 days +23:40:00')],\n",
    "    'emails':[\"john.smith@example.com\", \"support@example.com\", \"team@example.com\", \"help@example.com\"]\n",
    "})\n",
    "df"
   ]
  },
  {
   "cell_type": "code",
   "execution_count": null,
   "id": "acquired-daughter",
   "metadata": {},
   "outputs": [],
   "source": [
    "df.ww.init(logical_types={'latlongs':'LatLong',\n",
    "                          'dates':ww.logical_types.Datetime(datetime_format='%Y/%m/%d')})\n",
    "df.ww"
   ]
  },
  {
   "cell_type": "code",
   "execution_count": null,
   "id": "opposite-retrieval",
   "metadata": {},
   "outputs": [],
   "source": [
    "df"
   ]
  },
  {
   "cell_type": "markdown",
   "id": "imported-singapore",
   "metadata": {},
   "source": [
    "## String-physical type\n",
    "\n",
    "#### NaturalLanguage\n",
    "\n",
    "Represents Logical Types that contain text or characters representing natural human language\n",
    "- **physical type**: `string`\n",
    "\n",
    "#### Address\n",
    "\n",
    "Represents Logical Types that contain address values.\n",
    "- **physical type**: `string`\n",
    "\n",
    "\n",
    "#### Filepath\n",
    "\n",
    "Represents Logical Types that specify locations of directories and files in a file system.\n",
    "- **physical type**: `string`\n",
    "\n",
    "\n",
    "#### PersonFullName\n",
    "\n",
    "Represents Logical Types that may contain first, middle and last names, including honorifics and suffixes.\n",
    "- **physical type**: `string`\n",
    "#### PhoneNumber\n",
    "\n",
    "Represents Logical Types that contain numeric digits and characters representing a phone number\n",
    "- **physical type**: `string`\n",
    "\n",
    "\n",
    "#### URL\n",
    "\n",
    "Represents Logical Types that contain URLs, which may include protocol, hostname and file name\n",
    "- **physical type**: `string`\n",
    "\n",
    "#### IPAddress\n",
    "\n",
    "Represents Logical Types that contain IP addresses, including both IPv4 and IPv6 addresses.\n",
    "- **physical type**: `string`\n"
   ]
  },
  {
   "cell_type": "code",
   "execution_count": null,
   "id": "broke-marriage",
   "metadata": {},
   "outputs": [],
   "source": [
    "strings_df = pd.DataFrame({\n",
    "    'natural_language':[\"This is a short sentence.\",\n",
    "                         \"I like to eat pizza!\",\n",
    "                         \"When will humans go to mars?\",\n",
    "                         \"This entry contains two sentences. Second sentence.\"],\n",
    "    'addresses':['1 Miller Drive, New York, NY 12345', '1 Berkeley Street, Boston, MA 67891',\n",
    "                '26387 Russell Hill, Dallas, TX 34521', '54305 Oxford Street, Seattle, WA 95132'],\n",
    "    'filepaths':[\"/usr/local/bin\",\n",
    "                 \"/Users/john.smith/dev/index.html\",\n",
    "                 \"/tmp\",\n",
    "                 \"../woodwork\"],\n",
    "    'full_names':[\"Mr. John Doe, Jr.\",\n",
    "                 \"Doe, Mrs. Jane\",\n",
    "                 \"James Brown\",\n",
    "                 \"John Smith\"],\n",
    "    'phone_numbers':[\"1-(555)-123-5495\",\n",
    "                     \"+1-555-123-5495\",\n",
    "                     \"5551235495\",\n",
    "                     \"111-222-3333\"],\n",
    "    'urls': [\"http://google.com\",\n",
    "             \"https://example.com/index.html\",\n",
    "             \"example.com\",\n",
    "             \"https://woodwork.alteryx.com/\"],\n",
    "    'ip_addresses': [\"172.16.254.1\",\n",
    "                     \"192.0.0.0\",\n",
    "                     \"2001:0db8:0000:0000:0000:ff00:0042:8329\",\n",
    "                     \"192.0.0.0\"],\n",
    "})\n",
    "strings_df.ww.init(logical_types={\n",
    "    'natural_language':'NaturalLanguage',\n",
    "    'addresses':'Address',\n",
    "    'filepaths':'FilePath',\n",
    "    'full_names':'PersonFullName',\n",
    "    'phone_numbers':'PhoneNumber',\n",
    "    'urls':'URL',\n",
    "    'ip_addresses':'IPAddress',\n",
    "})\n",
    "strings_df.ww"
   ]
  },
  {
   "cell_type": "markdown",
   "id": "secure-delta",
   "metadata": {},
   "source": [
    "## ColumnSchema objects\n",
    "\n",
    "Now that we've gone in-depth on semantic tags and logical types, we can start to understand how they're used together to build Woodwork tables and define type spaces.\n",
    "\n",
    "A `ColumnSchema` is the typing information for a single column. We can obtain a `ColumnSchema` from a Woodwork-initialized DataFrame as follows:"
   ]
  },
  {
   "cell_type": "code",
   "execution_count": null,
   "id": "adult-portfolio",
   "metadata": {},
   "outputs": [],
   "source": [
    "# Woodwork typing info for a DataFrame\n",
    "combined_df = ww.concat_columns([numerics_df, categoricals_df])\n",
    "combined_df.ww"
   ]
  },
  {
   "cell_type": "markdown",
   "id": "separate-slovenia",
   "metadata": {},
   "source": [
    "Above is the typing information for a Woodwork DataFrame. If we want, we can access just the schema of typing information outside of the context of the actual data in the DataFrame."
   ]
  },
  {
   "cell_type": "code",
   "execution_count": null,
   "id": "quiet-virus",
   "metadata": {},
   "outputs": [],
   "source": [
    "# A Woodwork TableSchema\n",
    "combined_df.ww.schema"
   ]
  },
  {
   "cell_type": "markdown",
   "id": "opened-payment",
   "metadata": {},
   "source": [
    "The representation of the `woodwork.table_schema.TableSchema` is only different in that it does not have a column for the physical types.\n",
    "\n",
    "This lack of a physical type is due to the fact that a TableSchema has no data, and therefore no physical representation of the data. We often rely on physical typing information to know the exact pandas or Dask or Koalas operations that are valid for a DataFrame, but for a schema of typing information that is not tied to data, those operations are not relevant.\n",
    "\n",
    "Now, let's look at a single column of typing information, or a `woodwork.column_schema.ColumnSchema` that we can aquire in much the same way as we can select a Series from the DataFrame: "
   ]
  },
  {
   "cell_type": "code",
   "execution_count": null,
   "id": "southern-comedy",
   "metadata": {},
   "outputs": [],
   "source": [
    "# Woodwork typing infor for a Series\n",
    "ints_series = combined_df.ww['ints']\n",
    "ints_series.ww"
   ]
  },
  {
   "cell_type": "code",
   "execution_count": null,
   "id": "bottom-darwin",
   "metadata": {},
   "outputs": [],
   "source": [
    "# A Woodwork ColumnSchema\n",
    "ints_schema = ints_series.ww.schema\n",
    "ints_schema"
   ]
  },
  {
   "cell_type": "markdown",
   "id": "running-slovenia",
   "metadata": {},
   "source": [
    "The `column_schema` object above can be understood as typing information for a single column that is not tied to any data. In this case, we happen to know where the column schema came from - it was the `ints` column from the `combined_df` DataFrame. But we can also create a `ColumnSchema` that exists without being associated with any individual column of data.\n",
    "\n",
    "If we look at the `combined_df` table as a whole, we can see the similarities and differences between the columns, and we can describe those subsets of the DataFrame with `ColumnSchema` objects, or type spaces."
   ]
  },
  {
   "cell_type": "code",
   "execution_count": null,
   "id": "artificial-conversation",
   "metadata": {},
   "outputs": [],
   "source": [
    "combined_df.ww.schema"
   ]
  },
  {
   "cell_type": "markdown",
   "id": "polar-wireless",
   "metadata": {},
   "source": [
    "Below are several `ColumnSchema`s that all would include our `ints` column, but each of them describe a different type space. These `ColumnSchema`s get more restrictive as we go down:\n",
    "\n",
    "- **`<ColumnSchema >`** - No restrictions have been placed; any column falls into this definition.\n",
    "- **`<ColumnSchema (Semantic Tags = ['numeric'])>`** - Only columns with the `numeric` tag apply. This can include Double, Integer, and Age logical type columns as well.\n",
    "- **`<ColumnSchema (Logical Type = Integer) >`** - Only columns with logical type of `Integer` are included in this definition. Does not require the `numeric` tag, so an index column (which has its standard tags removed) would still apply\n",
    "- **`<ColumnSchema (Logical Type = Integer) (Semantic Tags = ['numeric'])>`** - The column must have logical type `Integer` and have the `numeric` semantic tag, excluding index columns.\n",
    "\n",
    "In this way, a `ColumnSchema` can define a type space under which columns in a Woodwork DataFrame can fall."
   ]
  }
 ],
 "metadata": {
  "kernelspec": {
   "display_name": "Python 3",
   "language": "python",
   "name": "python3"
  },
  "language_info": {
   "codemirror_mode": {
    "name": "ipython",
    "version": 3
   },
   "file_extension": ".py",
   "mimetype": "text/x-python",
   "name": "python",
   "nbconvert_exporter": "python",
   "pygments_lexer": "ipython3",
   "version": "3.8.2"
  }
 },
 "nbformat": 4,
 "nbformat_minor": 5
}
