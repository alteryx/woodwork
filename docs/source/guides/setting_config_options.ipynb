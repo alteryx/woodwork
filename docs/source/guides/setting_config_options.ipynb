{
 "cells": [
  {
   "cell_type": "markdown",
   "metadata": {},
   "source": [
    "# Global Configuration Options\n",
    "\n",
    "Woodwork contains global configuration options that you can use to control the behavior of certain aspects of Woodwork. This guide provides an overview of working with those options, including viewing the current settings and updating the config values.\n",
    "\n",
    "## Viewing Config Settings\n",
    "\n",
    "To demonstrate how to display the current configuration options, follow along. \n",
    "\n",
    "After you've imported Woodwork, you can view the options with `ww.config` as shown below."
   ]
  },
  {
   "cell_type": "code",
   "execution_count": null,
   "metadata": {},
   "outputs": [],
   "source": [
    "import woodwork as ww\n",
    "ww.config"
   ]
  },
  {
   "cell_type": "markdown",
   "metadata": {},
   "source": [
    "The output of `ww.config` lists each of the available config variables followed by its current setting. In the output above, the settings for the `categorical_threshold` and `numeric_categorical_threshold` config variables are visible.\n",
    "\n",
    "## Updating Config Settings\n",
    "\n",
    "Updating a config variable is done simply with a call to the `ww.config.set_option` function. This function requires two arguments: the name of the config variable to update and the new value to set.\n",
    "\n",
    "As an example, update the `categorical_threshold` config variable to have a value of `0.5` instead of the default value."
   ]
  },
  {
   "cell_type": "code",
   "execution_count": null,
   "metadata": {
    "scrolled": true
   },
   "outputs": [],
   "source": [
    "ww.config.set_option('categorical_threshold', 0.5)\n",
    "ww.config"
   ]
  },
  {
   "cell_type": "markdown",
   "metadata": {},
   "source": [
    "As you can see from the output above, the value for the `categorical_threshold` config variable has been updated to `0.5`."
   ]
  },
  {
   "cell_type": "markdown",
   "metadata": {},
   "source": [
    "## Temporarily Updating Config Settings\n",
    "\n",
    "Settings can also be temporarily updated in the context of a with block by using `ww.config.with_options`:"
   ]
  },
  {
   "cell_type": "code",
   "execution_count": null,
   "metadata": {},
   "outputs": [],
   "source": [
    "with ww.config.with_options(categorical_threshold=0.7):\n",
    "    # Do something\n",
    "    print(\"Temporary settings:\\n\")\n",
    "    print(repr(ww.config), \"\\n\")\n",
    "    \n",
    "print(\"Restored settings:\\n\")\n",
    "print(repr(ww.config))"
   ]
  },
  {
   "cell_type": "markdown",
   "metadata": {},
   "source": [
    "## Get Value for a Specific Config Variable\n",
    "\n",
    "If you need access to the value that is set for a specific config variable you can access it with the `ww.config.get_option` function, passing in the name of the config variable for which you want the value."
   ]
  },
  {
   "cell_type": "code",
   "execution_count": null,
   "metadata": {},
   "outputs": [],
   "source": [
    "ww.config.get_option('categorical_threshold')"
   ]
  },
  {
   "cell_type": "markdown",
   "metadata": {},
   "source": [
    "## Resetting to Default Values\n",
    "\n",
    "Config variables can be reset to their default values using the `ww.config.reset_option` function, passing in the name of the variable to reset. \n",
    "\n",
    "As an example, reset the `categorical_threshold` config variable to its default value."
   ]
  },
  {
   "cell_type": "code",
   "execution_count": null,
   "metadata": {},
   "outputs": [],
   "source": [
    "ww.config.reset_option('categorical_threshold')\n",
    "ww.config"
   ]
  },
  {
   "cell_type": "markdown",
   "metadata": {},
   "source": [
    "## Available Config Settings\n",
    "\n",
    "This section provides an overview of the current config options that can be set within Woodwork.\n",
    "\n",
    "### Categorical Threshold\n",
    "\n",
    "The `categorical_threshold` config variable helps control the distinction between `Categorical` and other logical types during type inference.  More specifically, this threshold represents the maximum acceptable ratio of unique value count to total value count (excluding nan values from either count) in a series for that series to be inferred as categorical.  In other words, if the values in a series are fully accounted for by a relatively small collection of unique values, then the series is categorical.  The `categorical_threshold` config variable defaults to `0.2`.  This indicates that, by default, a series for which the unique value count is 20% of the total value count could be inferred as categorical.\n",
    "\n",
    "### Numeric Categorical Threshold\n",
    "\n",
    "Woodwork provides the option to infer numeric columns as the `Categorical` logical type if they have few enough unique values. The `numeric_categorical_threshold` controls this behavior.  The default value for `numeric_categorical_threshold` is `None`, meaning that by default numeric columns should never be inferred to be categorical.  If the setting is given a float between `0` and `1` as a value, then it behaves in the same manner as the `categorical_threshold` setting except that it only applies to columns with a numeric dtype (float or integer).\n",
    "\n",
    "### Email Inference Regex\n",
    "\n",
    "Woodwork provides the option to infer string columns as the `EmailAddress` logical type if a representative sample of valid (non-missing) rows all match a given regular expression. The `email_inference_regex` config variable allows users to set the regular expression that is used during this matching process. The default regex is `r\"(^[a-zA-Z0-9_.+-]+@[a-zA-Z0-9-]+\\.[a-zA-Z0-9-.]+$)\"` (taken from https://emailregex.com/).\n",
    "\n",
    "### URL Inference Regex\n",
    "\n",
    "Woodwork provides the option to infer string columns as the `URL` logical type if a representative sample of valid (non-missing) rows all match a given regular expression. The `url_inference_regex` config variable allows users to set the regular expression that is used during this matching process. The default regex is `r\\\"(http[s]?://(?:[a-zA-Z]|[0-9]|[$-_@.&+]|[!*\\\\(\\\\),]|(?:%[0-9a-fA-F][0-9a-fA-F]))+)\\\"` (taken from https://urlregex.com/).\n",
    "\n",
    "### IP Address Inference Regex\n",
    "\n",
    "Woodwork provides the option to infer string columns as the `IPAddress` logical type if a representative sample of valid (non-missing) rows all match a given regular expression. The `ipv4_inference_regex` and `ipv6_inference_regex` config variables allow users to set the regular expression that is used during this matching process. The default for `ipv4_inference_regex` is taken from https://ipregex.com/ and the default for `ipv6_inference_regex` is taken from https://ihateregex.io/expr/ipv6/."
   ]
  }
 ],
 "metadata": {
  "interpreter": {
   "hash": "aee8b7b246df8f9039afb4144a1f6fd8d2ca17a180786b69acc140d282b71a49"
  },
  "kernelspec": {
   "display_name": "Python 3.9.5 64-bit",
   "name": "python3"
  },
  "language_info": {
   "name": "python",
   "version": ""
  }
 },
 "nbformat": 4,
 "nbformat_minor": 4
}