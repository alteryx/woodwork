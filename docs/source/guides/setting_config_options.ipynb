{
 "cells": [
  {
   "cell_type": "markdown",
   "metadata": {},
   "source": [
    "# Woodwork Global Configuration Options\n",
    "\n",
    "Woodwork contains global configuration options that can be set by users to control the behavior of certain aspects of Woodwork. This guide will provide an overview of working with these options, including viewing the current settings and updating the config values.\n",
    "\n",
    "## Viewing Config Settings\n",
    "\n",
    "First, we will demonstrate how to display the current configuration options. Once you have imported Woodwork, you can view the options with `ww.config` as shown below."
   ]
  },
  {
   "cell_type": "code",
   "execution_count": null,
   "metadata": {},
   "outputs": [],
   "source": [
    "import woodwork as ww\n",
    "ww.config"
   ]
  },
  {
   "cell_type": "markdown",
   "metadata": {},
   "source": [
    "The output of `ww.config` lists each of the available config variables followed by it's current setting. In the output above the `datetime_format` config variable has been set to `None`, while the `natural_language_threshold` config variable has been set to `10`. \n",
    "\n",
    "## Updating Config Settings\n",
    "\n",
    "The process of updating a config variable is done simply with a call to the `ww.config.set_option` function. This function requires two arguments: the name of the config variable to update, and the new value to set.\n",
    "\n",
    "To illustrate this, we will update the `natural_language_threshold` config variable to have a value of `25` instead of the default value of `10`:"
   ]
  },
  {
   "cell_type": "code",
   "execution_count": null,
   "metadata": {},
   "outputs": [],
   "source": [
    "ww.config.set_option('natural_language_threshold', 25)\n",
    "ww.config"
   ]
  },
  {
   "cell_type": "markdown",
   "metadata": {},
   "source": [
    "As you can see from the output above, the value for the `natural_language_threshold` config variable has now been updated to `25`.\n",
    "\n",
    "## Get Value for a Specific Config Variable\n",
    "If you need access to the value that is set for a specific config variable you can access it with the `ww.config.get_option` function, passing in the name of the config variable for which you want the value:"
   ]
  },
  {
   "cell_type": "code",
   "execution_count": null,
   "metadata": {},
   "outputs": [],
   "source": [
    "ww.config.get_option('natural_language_threshold')"
   ]
  },
  {
   "cell_type": "markdown",
   "metadata": {},
   "source": [
    "## Resetting to Default Values\n",
    "Finally, config variables can be reset to their default values using the `ww.config.reset_option` function, passing in the name of the variable to reset. To demonstrate this, we will reset the `natural_language_threshold` config variable to its default value:"
   ]
  },
  {
   "cell_type": "code",
   "execution_count": null,
   "metadata": {},
   "outputs": [],
   "source": [
    "ww.config.reset_option('natural_language_threshold')\n",
    "ww.config"
   ]
  },
  {
   "cell_type": "markdown",
   "metadata": {},
   "source": [
    "## Available Config Settings\n",
    "This section provides an overview of the current config options that can be set within Woodwork.\n",
    "\n",
    "### Datetime Format\n",
    "The `datetime_format` config variable is used when inferring `DateTime` logical types. If your data contains datetime values that have a specific, non-standard format, you can specify the proper format string in the `datetime_format` variable to help Woodwork properly recognize the values as datetime values. If this option is set to `None`, several standard formats will be checked. \n",
    "\n",
    "The following document contains more information on formatting codes that can be used with `datetime_format`: [https://docs.python.org/3/library/datetime.html#strftime-and-strptime-format-codes](https://docs.python.org/3/library/datetime.html#strftime-and-strptime-format-codes)\n",
    "\n",
    "### Natural Language Threshold\n",
    "The `natural_language_threshold` config variable helps control the distinction between `Categorical` and `NaturalLanguage` logical types during type inference. More specifically, this threshold represents the average string length that is used to distinguish between these two types. If the average string length in a column is greater than this threshold, the column will be inferred as a `NaturalLanguage` column, otherwise it will be inferred as a `Categorical` column. The `natural_language_threshold` config variable defaults to `10`."
   ]
  }
 ],
 "metadata": {
  "kernelspec": {
   "display_name": "Python 3",
   "language": "python",
   "name": "python3"
  },
  "language_info": {
   "codemirror_mode": {
    "name": "ipython",
    "version": 3
   },
   "file_extension": ".py",
   "mimetype": "text/x-python",
   "name": "python",
   "nbconvert_exporter": "python",
   "pygments_lexer": "ipython3",
   "version": "3.7.4"
  }
 },
 "nbformat": 4,
 "nbformat_minor": 4
}
