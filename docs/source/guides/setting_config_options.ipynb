{
 "cells": [
  {
   "cell_type": "markdown",
   "metadata": {},
   "source": [
    "# Global Configuration Options\n",
    "\n",
    "Woodwork contains global configuration options that you can use to control the behavior of certain aspects of Woodwork. This guide provides an overview of working with those options, including viewing the current settings and updating the config values.\n",
    "\n",
    "## Viewing Config Settings\n",
    "\n",
    "To demonstrate how to display the current configuration options, follow along. \n",
    "\n",
    "After you've imported Woodwork, you can view the options with `ww.config` as shown below."
   ]
  },
  {
   "cell_type": "code",
   "execution_count": null,
   "metadata": {},
   "outputs": [],
   "source": [
    "import woodwork as ww\n",
    "ww.config"
   ]
  },
  {
   "cell_type": "markdown",
   "metadata": {},
   "source": [
    "The output of `ww.config` lists each of the available config variables followed by it's current setting. In the output above, the `natural_language_threshold` config variable has been set to `10` and the `numeric_categorical_threshold` has been set to `-1`. \n",
    "\n",
    "## Updating Config Settings\n",
    "\n",
    "Updating a config variable is done simply with a call to the `ww.config.set_option` function. This function requires two arguments: the name of the config variable to update and the new value to set.\n",
    "\n",
    "As an example, update the `natural_language_threshold` config variable to have a value of `25` instead of the default value of `10`."
   ]
  },
  {
   "cell_type": "code",
   "execution_count": null,
   "metadata": {},
   "outputs": [],
   "source": [
    "ww.config.set_option('natural_language_threshold', 25)\n",
    "ww.config"
   ]
  },
  {
   "cell_type": "markdown",
   "metadata": {},
   "source": [
    "As you can see from the output above, the value for the `natural_language_threshold` config variable has been updated to `25`.\n",
    "\n",
    "## Get Value for a Specific Config Variable\n",
    "If you need access to the value that is set for a specific config variable you can access it with the `ww.config.get_option` function, passing in the name of the config variable for which you want the value."
   ]
  },
  {
   "cell_type": "code",
   "execution_count": null,
   "metadata": {},
   "outputs": [],
   "source": [
    "ww.config.get_option('natural_language_threshold')"
   ]
  },
  {
   "cell_type": "markdown",
   "metadata": {},
   "source": [
    "## Resetting to Default Values\n",
    "\n",
    "Config variables can be reset to their default values using the `ww.config.reset_option` function, passing in the name of the variable to reset. \n",
    "\n",
    "As an example, reset the `natural_language_threshold` config variable to its default value."
   ]
  },
  {
   "cell_type": "code",
   "execution_count": null,
   "metadata": {},
   "outputs": [],
   "source": [
    "ww.config.reset_option('natural_language_threshold')\n",
    "ww.config"
   ]
  },
  {
   "cell_type": "markdown",
   "metadata": {},
   "source": [
    "## Available Config Settings\n",
    "\n",
    "This section provides an overview of the current config options that can be set within Woodwork.\n",
    "\n",
    "### Natural Language Threshold\n",
    "\n",
    "The `natural_language_threshold` config variable helps control the distinction between `Categorical` and `NaturalLanguage` logical types during type inference. More specifically, this threshold represents the average string length that is used to distinguish between these two types. If the average string length in a column is greater than this threshold, the column is inferred as a `NaturalLanguage` column; otherwise, it is inferred as a `Categorical` column. The `natural_language_threshold` config variable defaults to `10`.\n",
    "\n",
    "### Numeric Categorical Threshold\n",
    "\n",
    "Woodwork provides the option to infer numeric columns as the `Categorical` logical type if they have few enough unique values. The `numeric_categorical_threshold` config variable allows users to set the threshold of unique values below which numeric columns are inferred as categorical. The default threshold is `-1`, meaning that numeric columns are not inferred to be categorical by default (because the fewest number of unique values a column can have is zero)."
   ]
  }
 ],
 "metadata": {
  "kernelspec": {
   "display_name": "Python 3",
   "language": "python",
   "name": "python3"
  },
  "language_info": {
   "codemirror_mode": {
    "name": "ipython",
    "version": 3
   },
   "file_extension": ".py",
   "mimetype": "text/x-python",
   "name": "python",
   "nbconvert_exporter": "python",
   "pygments_lexer": "ipython3",
   "version": "3.7.4"
  }
 },
 "nbformat": 4,
 "nbformat_minor": 4
}
