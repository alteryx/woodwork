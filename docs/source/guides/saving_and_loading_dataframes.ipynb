{
 "cells": [
  {
   "cell_type": "markdown",
   "id": "federal-queensland",
   "metadata": {},
   "source": [
    "# Saving and Loading DataFrames\n",
    "\n",
    "After defining a Woodwork dataframe with the proper logical types and semantic tags, you can save the dataframe with the typing information by using `DataFrame.ww.to_disk`. This method will create a directory that contains a `data` folder and a `woodwork_typing_info.json` file. To illustrate, I will use this retail dataframe which already comes configured with Woodwork typing information."
   ]
  },
  {
   "cell_type": "code",
   "execution_count": null,
   "id": "tender-inventory",
   "metadata": {
    "scrolled": false
   },
   "outputs": [],
   "source": [
    "from woodwork.demo import load_retail\n",
    "df = load_retail(nrows=100)\n",
    "df.ww.schema"
   ]
  },
  {
   "cell_type": "code",
   "execution_count": null,
   "id": "wooden-danish",
   "metadata": {},
   "outputs": [],
   "source": [
    "df.head()"
   ]
  },
  {
   "cell_type": "markdown",
   "id": "designed-soccer",
   "metadata": {},
   "source": [
    "## Saving the DataFrame\n",
    "\n",
    "Save the Woodwork dataframe to a retail directory by using `to_disk` from the `ww` acessor."
   ]
  },
  {
   "cell_type": "code",
   "execution_count": null,
   "id": "powered-protein",
   "metadata": {},
   "outputs": [],
   "source": [
    "df.ww.to_disk('retail')"
   ]
  },
  {
   "cell_type": "markdown",
   "id": "interstate-tactics",
   "metadata": {},
   "source": [
    "You should see a `retail` directory that contains the data and typing information.\n",
    "\n",
    "```\n",
    "retail\n",
    "├── data\n",
    "│   └── demo_retail_data.csv\n",
    "└── woodwork_typing_info.json\n",
    "```\n",
    "\n",
    "### Data Directory\n",
    "\n",
    "This method creates a `data` folder and uses `DataFrame.ww.name` as a filename to write the underlying data in the specified format. By default, the method uses the CSV format. You can change the format by setting the method's `format` parameter to any of the following supported formats:\n",
    "\n",
    "- csv (default)\n",
    "- pickle\n",
    "- parquet\n",
    "\n",
    "### Typing Information\n",
    "\n",
    "In the `woodwork_typing_info.json`, you can see all of the typing information and metadata associated with the dataframe. This information includes:\n",
    "\n",
    "- the version of the schema at the time of saving the dataframe\n",
    "- the dataframe name specified by `DataFrame.ww.name`\n",
    "- the column names for the index and time index\n",
    "- the column typing information which contains the logical types with its parameters and semantic tags for each column\n",
    "- the loading information required for the dataframe type and file format\n",
    "- the table metadata provided by `DataFrame.ww.metadata` (must be JSON serializable)\n",
    "\n",
    "```json\n",
    "{\n",
    "    \"schema_version\": \"10.0.2\",\n",
    "    \"name\": \"demo_retail_data\",\n",
    "    \"index\": \"order_product_id\",\n",
    "    \"time_index\": \"order_date\",\n",
    "    \"column_typing_info\": [...],\n",
    "    \"loading_info\": {\n",
    "        \"table_type\": \"pandas\",\n",
    "        \"location\": \"data/demo_retail_data.csv\",\n",
    "        \"type\": \"csv\",\n",
    "        \"params\": {\n",
    "            \"compression\": null,\n",
    "            \"sep\": \",\",\n",
    "            \"encoding\": \"utf-8\",\n",
    "            \"engine\": \"python\",\n",
    "            \"index\": false\n",
    "        }\n",
    "    },\n",
    "    \"table_metadata\": {}\n",
    "}\n",
    "```\n",
    "\n",
    "## Loading the DataFrame\n",
    "\n",
    "Load the datafram by using `woodwork.deserialize.read_woodwork_table`. This method will use the `woodwork_typing_info.json` file from the specified directory to recreate a Woodwork dataframe with the proper typing information."
   ]
  },
  {
   "cell_type": "code",
   "execution_count": null,
   "id": "oriental-baking",
   "metadata": {},
   "outputs": [],
   "source": [
    "from woodwork.deserialize import read_woodwork_table\n",
    "df = read_woodwork_table('retail')\n",
    "df.ww.schema"
   ]
  },
  {
   "cell_type": "code",
   "execution_count": null,
   "id": "polished-permission",
   "metadata": {},
   "outputs": [],
   "source": [
    "df.head()"
   ]
  }
 ],
 "metadata": {
  "kernelspec": {
   "display_name": "Python 3",
   "language": "python",
   "name": "python3"
  },
  "language_info": {
   "codemirror_mode": {
    "name": "ipython",
    "version": 3
   },
   "file_extension": ".py",
   "mimetype": "text/x-python",
   "name": "python",
   "nbconvert_exporter": "python",
   "pygments_lexer": "ipython3",
   "version": "3.8.8"
  }
 },
 "nbformat": 4,
 "nbformat_minor": 5
}
