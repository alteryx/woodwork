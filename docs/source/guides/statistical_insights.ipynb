{
 "cells": [
  {
   "cell_type": "markdown",
   "metadata": {},
   "source": [
    "# Gain Statistical Insights into Your Data\n",
    "\n",
    "Woodwork provides methods on your DataFrames to allow you to use the typing information stored by Woodwork to better understand your data.\n",
    "\n",
    "Follow along to learn how to use Woodwork's statistical methods on a DataFrame of retail data while demonstrating the full capabilities of the functions."
   ]
  },
  {
   "cell_type": "code",
   "execution_count": null,
   "metadata": {},
   "outputs": [],
   "source": [
    "import pandas as pd\n",
    "from woodwork.demo import load_retail\n",
    "\n",
    "df = load_retail()\n",
    "df.ww"
   ]
  },
  {
   "cell_type": "markdown",
   "metadata": {},
   "source": [
    "## DataFrame.ww.describe\n",
    "\n",
    "Use `df.ww.describe()` to calculate statistics for the columns in a DataFrame, returning the results in the format of a pandas DataFrame with the relevant calculations done for each column."
   ]
  },
  {
   "cell_type": "code",
   "execution_count": null,
   "metadata": {},
   "outputs": [],
   "source": [
    "df.ww.describe()"
   ]
  },
  {
   "cell_type": "markdown",
   "metadata": {},
   "source": [
    "There are a couple things to note in the above dataframe:\n",
    "\n",
    "- The Woodwork index, `order_product_id`, is not included\n",
    "- We provide each column's typing information according to Woodwork's typing system\n",
    "- Any statistics that can't be calculated for a column, such as `num_false` on a `Datetime` are filled with `NaN`.\n",
    "- Null values do not get counted in any of the calculations other than `nunique`"
   ]
  },
  {
   "cell_type": "markdown",
   "metadata": {},
   "source": [
    "## DataFrame.ww.value_counts\n",
    "\n",
    "Use `df.ww.value_counts()` to calculate the most frequent values for each column that has `category` as a standard tag. This returns a dictionary where each column is associated with a sorted list of dictionaries. Each dictionary contains `value` and `count`."
   ]
  },
  {
   "cell_type": "code",
   "execution_count": null,
   "metadata": {},
   "outputs": [],
   "source": [
    "df.ww.value_counts()"
   ]
  },
  {
   "cell_type": "markdown",
   "metadata": {},
   "source": [
    "## DataFrame.ww.mutual_information\n",
    "\n",
    "`df.ww.mutual_information` calculates the mutual information between all pairs of relevant columns. Certain types, like strings, can't have mutual information calculated.\n",
    "\n",
    "The mutual information between columns `A` and `B` can be understood as the amount of knowledge you can have about column `A` if you have the values of column `B`. The more mutual information there is between `A` and `B`, the less uncertainty there is in `A` knowing `B`, and vice versa. "
   ]
  },
  {
   "cell_type": "code",
   "execution_count": null,
   "metadata": {},
   "outputs": [],
   "source": [
    "df.ww.mutual_information()"
   ]
  },
  {
   "cell_type": "markdown",
   "metadata": {},
   "source": [
    "#### Available Parameters\n",
    "`df.ww.mutual_information` provides various parameters for tuning the mutual information calculation.\n",
    "\n",
    "- `num_bins` - In order to calculate mutual information on continuous data, Woodwork bins numeric data into categories. This parameter allows you to choose the number of bins with which to categorize data.\n",
    "    - Defaults to using 10 bins\n",
    "    - The more bins there are, the more variety a column will have. The number of bins used should accurately portray the spread of the data.\n",
    "- `nrows` - If `nrows` is set at a value below the number of rows in the DataFrame, that number of rows is randomly sampled from the underlying data\n",
    "    - Defaults to using all the available rows.\n",
    "    - Decreasing the number of rows can speed up the mutual information calculation on a DataFrame with many rows, but you should be careful that the number being sampled is large enough to accurately portray the data.\n",
    "- `include_index` - If set to `True` and an index is defined with a logical type that is valid for mutual information, the index column will be included in the mutual information output.\n",
    "    - Defaults to `False`"
   ]
  },
  {
   "cell_type": "markdown",
   "metadata": {},
   "source": [
    "Now that you understand the parameters, you can explore changing the number of bins. Note—this only affects numeric columns `quantity` and `unit_price`. Increase the number of bins from 10 to 50, only showing the impacted columns."
   ]
  },
  {
   "cell_type": "code",
   "execution_count": null,
   "metadata": {},
   "outputs": [],
   "source": [
    "mi = df.ww. mutual_information()\n",
    "mi[mi['column_1'].isin(['unit_price', 'quantity']) | mi['column_2'].isin(['unit_price', 'quantity'])]"
   ]
  },
  {
   "cell_type": "code",
   "execution_count": null,
   "metadata": {},
   "outputs": [],
   "source": [
    "mi = df.ww.mutual_information(num_bins = 50)\n",
    "mi[mi['column_1'].isin(['unit_price', 'quantity']) | mi['column_2'].isin(['unit_price', 'quantity'])]"
   ]
  },
  {
   "cell_type": "markdown",
   "metadata": {},
   "source": [
    "In order to include the index column in the mutual information output, run the calculation with `include_index=True`."
   ]
  },
  {
   "cell_type": "code",
   "execution_count": null,
   "metadata": {},
   "outputs": [],
   "source": [
    "mi = df.ww.mutual_information(include_index=True)\n",
    "mi[mi['column_1'].isin(['order_product_id']) | mi['column_2'].isin(['order_product_id'])]"
   ]
  }
 ],
 "metadata": {
  "kernelspec": {
   "display_name": "Python 3",
   "language": "python",
   "name": "python3"
  },
  "language_info": {
   "codemirror_mode": {
    "name": "ipython",
    "version": 3
   },
   "file_extension": ".py",
   "mimetype": "text/x-python",
   "name": "python",
   "nbconvert_exporter": "python",
   "pygments_lexer": "ipython3",
   "version": "3.8.5"
  }
 },
 "nbformat": 4,
 "nbformat_minor": 4
}
