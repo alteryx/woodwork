{
 "cells": [
  {
   "cell_type": "markdown",
   "metadata": {},
   "source": [
    "# Gain Statistical Insights into Your Data\n",
    "\n",
    "Woodwork provides methods on your DataFrames to allow you to use the typing information stored by Woodwork to better understand your data.\n",
    "\n",
    "Follow along to learn how to use Woodwork's statistical methods on a DataFrame of retail data while demonstrating the full capabilities of the functions."
   ]
  },
  {
   "cell_type": "code",
   "execution_count": null,
   "metadata": {},
   "outputs": [],
   "source": [
    "import pandas as pd\n",
    "import numpy as np\n",
    "from woodwork.demo import load_retail\n",
    "\n",
    "df = load_retail()\n",
    "df.ww"
   ]
  },
  {
   "cell_type": "markdown",
   "metadata": {},
   "source": [
    "## DataFrame.ww.describe\n",
    "\n",
    "Use `df.ww.describe()` to calculate statistics for the columns in a DataFrame, returning the results in the format of a pandas DataFrame with the relevant calculations done for each column. Note, that both `nan` and `(nan, nan)` values contribute to `nan_count` for LatLong logical types"
   ]
  },
  {
   "cell_type": "code",
   "execution_count": null,
   "metadata": {},
   "outputs": [],
   "source": [
    "df.ww.describe()"
   ]
  },
  {
   "cell_type": "markdown",
   "metadata": {},
   "source": [
    "There are a couple things to note in the above dataframe:\n",
    "\n",
    "- The Woodwork index, `order_product_id`, is not included\n",
    "- We provide each column's typing information according to Woodwork's typing system\n",
    "- Any statistics that can't be calculated for a column, such as `num_false` on a `Datetime` are filled with `NaN`.\n",
    "- Null values do not get counted in any of the calculations other than `nunique`"
   ]
  },
  {
   "cell_type": "markdown",
   "metadata": {},
   "source": [
    "## DataFrame.ww.value_counts\n",
    "\n",
    "Use `df.ww.value_counts()` to calculate the most frequent values for each column that has `category` as a standard tag. This returns a dictionary where each column is associated with a sorted list of dictionaries. Each dictionary contains `value` and `count`."
   ]
  },
  {
   "cell_type": "code",
   "execution_count": null,
   "metadata": {},
   "outputs": [],
   "source": [
    "df.ww.value_counts()"
   ]
  },
  {
   "cell_type": "markdown",
   "metadata": {},
   "source": [
    "## DataFrame.ww.dependence\n",
    "\n",
    "`df.ww.dependence` calculates several dependence/correlation measures between all pairs of relevant columns. Certain types, like strings, can't have dependence calculated.\n",
    "\n",
    "The mutual information between columns `A` and `B` can be understood as the amount of knowledge you can have about column `A` if you have the values of column `B`. The more mutual information there is between `A` and `B`, the less uncertainty there is in `A` knowing `B`, and vice versa. \n",
    "\n",
    "The Pearson correlation coefficient measures the linear correlation between `A` and `B`."
   ]
  },
  {
   "cell_type": "code",
   "execution_count": null,
   "metadata": {},
   "outputs": [],
   "source": [
    "df.ww.dependence(measures=\"all\", nrows=1000)"
   ]
  },
  {
   "cell_type": "markdown",
   "metadata": {},
   "source": [
    "#### Available Parameters\n",
    "`df.ww.dependence` provides various parameters for tuning the dependence calculation.\n",
    "\n",
    "- `measure` - Which dependence measures to calculate. A list of measures can be provided to calculate multiple measures at once.  Valid measure strings:\n",
    "    - \"pearson\": calculates the Pearson correlation coefficient\n",
    "    - \"spearman\": calculates the Spearman correlation coefficient\n",
    "    - \"mutual_info\": calculates the mutual information between columns\n",
    "    - \"max\": calculates both Pearson and mutual information and\n",
    "        returns max(abs(pearson), mutual) for each pair of columns\n",
    "    - \"all\": includes columns for \"pearson\", \"mutual\", and \"max\"\n",
    "- `num_bins` - In order to calculate mutual information on continuous data, Woodwork bins numeric data into categories. This parameter allows you to choose the number of bins with which to categorize data.\n",
    "    - Defaults to using 10 bins\n",
    "    - The more bins there are, the more variety a column will have. The number of bins used should accurately portray the spread of the data.\n",
    "- `nrows` - If `nrows` is set at a value below the number of rows in the DataFrame, that number of rows is randomly sampled from the underlying data\n",
    "    - Defaults to using all the available rows.\n",
    "    - Decreasing the number of rows can speed up the mutual information calculation on a DataFrame with many rows, but you should be careful that the number being sampled is large enough to accurately portray the data.\n",
    "- `include_index` - If set to `True` and an index is defined with a logical type that is valid for mutual information, the index column will be included in the mutual information output.\n",
    "    - Defaults to `False`"
   ]
  },
  {
   "cell_type": "markdown",
   "metadata": {},
   "source": [
    "Now that you understand the parameters, you can explore changing the number of bins. Note—this only affects numeric columns `quantity` and `unit_price`. Increase the number of bins from 10 to 50, only showing the impacted columns."
   ]
  },
  {
   "cell_type": "code",
   "execution_count": null,
   "metadata": {},
   "outputs": [],
   "source": [
    "dep_df = df.ww.dependence(measures=\"all\", nrows=1000)\n",
    "dep_df[\n",
    "    dep_df[\"column_1\"].isin([\"unit_price\", \"quantity\"])\n",
    "    | dep_df[\"column_2\"].isin([\"unit_price\", \"quantity\"])\n",
    "]"
   ]
  },
  {
   "cell_type": "code",
   "execution_count": null,
   "metadata": {},
   "outputs": [],
   "source": [
    "dep_df = df.ww.dependence(measures=\"all\", nrows=1000, num_bins=50)\n",
    "dep_df[\n",
    "    dep_df[\"column_1\"].isin([\"unit_price\", \"quantity\"])\n",
    "    | dep_df[\"column_2\"].isin([\"unit_price\", \"quantity\"])\n",
    "]"
   ]
  },
  {
   "cell_type": "markdown",
   "metadata": {},
   "source": [
    "In order to include the index column in the mutual information output, run the calculation with `include_index=True`."
   ]
  },
  {
   "cell_type": "code",
   "execution_count": null,
   "metadata": {},
   "outputs": [],
   "source": [
    "dep_df = df.ww.dependence(measures=\"all\", nrows=1000, num_bins=50, include_index=True)\n",
    "dep_df[\n",
    "    dep_df[\"column_1\"].isin([\"order_product_id\"])\n",
    "    | dep_df[\"column_2\"].isin([\"order_product_id\"])\n",
    "]"
   ]
  },
  {
   "cell_type": "markdown",
   "metadata": {},
   "source": [
    "## Outlier Detection with Series.ww.box_plot_dict\n",
    "\n",
    "Woodwork allows for univariate outlier detection using the IQR, or interquartile range, method. This can be done on a by-column basis using the `series.ww.box_plot_dict` method that identifies outliers and includes the statistical data necessary for building a box and whisker plot."
   ]
  },
  {
   "cell_type": "code",
   "execution_count": null,
   "metadata": {},
   "outputs": [],
   "source": [
    "total = df.ww[\"total\"]\n",
    "box_plot_dict = total.ww.box_plot_dict()\n",
    "\n",
    "print(\"high bound: \", box_plot_dict[\"high_bound\"])\n",
    "print(\"low_bound: \", box_plot_dict[\"low_bound\"])\n",
    "print(\"quantiles: \", box_plot_dict[\"quantiles\"])\n",
    "print(\"number of low outliers: \", len(box_plot_dict[\"low_values\"]))\n",
    "print(\"number of high outliers: \", len(box_plot_dict[\"high_values\"]))"
   ]
  },
  {
   "cell_type": "markdown",
   "metadata": {},
   "source": [
    "We can see that the `total` column in the retail dataset has many outliers, and they are skewed more towards the top of the dataset. There are around 400K rows in the dataframe, so about 8% of all values are outliers. Let's also look at a normally distributed column of data of the same length and see what the statistics generated for it look like."
   ]
  },
  {
   "cell_type": "code",
   "execution_count": null,
   "metadata": {},
   "outputs": [],
   "source": [
    "rnd = np.random.RandomState(33)\n",
    "s = pd.Series(rnd.normal(50, 10, 401604))\n",
    "s.ww.init()\n",
    "box_plot_dict = s.ww.box_plot_dict()\n",
    "print(\"high bound: \", box_plot_dict[\"high_bound\"])\n",
    "print(\"low_bound: \", box_plot_dict[\"low_bound\"])\n",
    "print(\"quantiles: \", box_plot_dict[\"quantiles\"])\n",
    "print(\"number of low outliers: \", len(box_plot_dict[\"low_values\"]))\n",
    "print(\"number of high outliers: \", len(box_plot_dict[\"high_values\"]))"
   ]
  },
  {
   "cell_type": "markdown",
   "metadata": {},
   "source": [
    "With the normally distributed set of data, the likelyhood of outliers is closer to what we'd expect, around .7%. "
   ]
  },
  {
   "cell_type": "markdown",
   "metadata": {},
   "source": [
    "## Inferring Frequency from Noisy Timeseries Data\n",
    "\n",
    "`df.ww.infer_temporal_frequencies` will infer the observation frequency (daily, biweekly, yearly, etc) of each temporal column, even on noisy data. If a temporal column is predominantly of a single frequency, but is noisy in any way (ie. contains duplicate timestamps, nans, gaps, or timestamps that do not align with overall frequency), this table accessor method will provide the most likely frequency as well as information about the rows of data that do not adhere to this frequency."
   ]
  },
  {
   "cell_type": "markdown",
   "metadata": {},
   "source": [
    "#### Inferring Non-Noisy data\n",
    "If your timeseries data is perfect and doesn't contain any noisy data, `df.ww.infer_temporal_frequencies()` will return a dictionary where the keys are the columns of each temporal column and the value is the pandas alias string."
   ]
  },
  {
   "cell_type": "code",
   "execution_count": null,
   "metadata": {},
   "outputs": [],
   "source": [
    "df = pd.DataFrame(\n",
    "    {\n",
    "        \"idx\": range(100),\n",
    "        \"dt1\": pd.date_range(\"2005-01-01\", periods=100, freq=\"H\"),\n",
    "        \"dt2\": pd.date_range(\"2005-01-01\", periods=100, freq=\"B\"),\n",
    "    }\n",
    ")\n",
    "df.ww.init()\n",
    "df.ww.infer_temporal_frequencies()"
   ]
  },
  {
   "cell_type": "markdown",
   "metadata": {},
   "source": [
    "#### Inferring Noisy data (Missing Values)\n",
    "If your timeseries is noisy, and you pass a `debug=True` flag, the returned dictionary will also include debug objects for each temporal column. This object is useful in helping you understand where in your data there is a problem."
   ]
  },
  {
   "cell_type": "code",
   "execution_count": null,
   "metadata": {},
   "outputs": [],
   "source": [
    "dt1_a = pd.date_range(end=\"2005-01-01 10:00:00\", periods=500, freq=\"H\")\n",
    "dt1_b = pd.date_range(start=\"2005-01-01 15:00:00\", periods=500, freq=\"H\")\n",
    "\n",
    "\n",
    "df = pd.DataFrame(\n",
    "    {\n",
    "        \"idx\": range(1000),\n",
    "        \"dt1\": dt1_a.append(dt1_b),\n",
    "    }\n",
    ")\n",
    "df.ww.init()\n",
    "\n",
    "infer_dict = df.ww.infer_temporal_frequencies(debug=True)\n",
    "\n",
    "inferred_freq, debug_object = infer_dict[\"dt1\"]\n",
    "\n",
    "assert inferred_freq is None\n",
    "\n",
    "debug_object"
   ]
  },
  {
   "cell_type": "markdown",
   "metadata": {},
   "source": [
    "We can see in the above example, the first element of the tuple is None because the timeseries has errors and cannot be inferred. \n",
    "\n",
    "In the `debug_object`, the we can clearly see the `estimated_freq` is `H` for Hourly, as well as some extra information which we will explain below."
   ]
  },
  {
   "cell_type": "markdown",
   "metadata": {},
   "source": [
    "### Debug Object Description\n",
    "\n",
    "The debug object contains the following information:\n",
    "\n",
    "- **actual_range_start**: an ISO 8601 formatted string of the observed start time\n",
    "- **actual_range_end**: an ISO 8601 formatted string of the observed end time\n",
    "- **message**: a message to describe why the frequency cannot be inferred\n",
    "- **estimated_freq**: a message to describe why the frequency cannot be inferred\n",
    "- **estimated_range_start**: an ISO 8601 formatted string of the estimated start time\n",
    "- **estimated_range_end**: an ISO 8601 formatted string of the estimated end time\n",
    "- **duplicate_values**: an array of range objects (described below) of duplicate values\n",
    "- **missing_values**: an array of range objects (described below) of missing values\n",
    "- **extra_values**: an array of range objects (described below) of extra values\n",
    "- **nan_values**: an array of range objects (described below) of nan values\n",
    "\n",
    "A range object contains the following information:\n",
    "\n",
    "- **dt**: an ISO 8601 formatted string of the first timestamp in this range\n",
    "- **idx**: the index of the first timestamp in this range\n",
    "    - for duplicates and extra values, the idx is in reference to the observed data\n",
    "    - for missing values, the idx is in reference to the estimated data.\n",
    "- **range**: the length of this range.\n",
    "\n",
    "\n",
    "This information is best understood through example below:\n",
    "\n",
    "![Time Series Timeline](../_static/images/frequency_inference_example01.png)\n",
    "\n",
    "\n",
    "In the illustration above, you can see the expected timeseries on the left, and the observed on the right. This time series has the following errors:\n",
    "\n",
    "- **Duplicate Values**\n",
    "    - \"01:00:00\" is duplicated twice at the observed index of 1 and 2\n",
    "- **Missing Values**\n",
    "    - \"04:00:00\" is missing from estimated index 3\n",
    "- **Extra Values**\n",
    "    - \"06:20:00\" is an extra value at the observed index of 7\n",
    "\n",
    "We can recreate this example below in code. Take note that the indexes are offset by 500 since we padded the beginning of the time series with good data."
   ]
  },
  {
   "cell_type": "code",
   "execution_count": null,
   "metadata": {},
   "outputs": [],
   "source": [
    "dt_a = pd.date_range(end=\"2005-01-01T00:00:00.000Z\", periods=500, freq=\"H\").to_series()\n",
    "dt_b = [\n",
    "    \"2005-01-01T01:00:00.000Z\",\n",
    "    \"2005-01-01T01:00:00.000Z\",\n",
    "    \"2005-01-01T01:00:00.000Z\",\n",
    "    \"2005-01-01T02:00:00.000Z\",\n",
    "    \"2005-01-01T03:00:00.000Z\",\n",
    "    \"2005-01-01T05:00:00.000Z\",\n",
    "    \"2005-01-01T06:00:00.000Z\",\n",
    "    \"2005-01-01T06:20:00.000Z\",\n",
    "    \"2005-01-01T07:00:00.000Z\",\n",
    "    \"2005-01-01T08:00:00.000Z\",\n",
    "]\n",
    "dt_b = pd.Series([pd.Timestamp(d) for d in dt_b])\n",
    "dt_c = pd.date_range(\n",
    "    start=\"2005-01-01T09:00:00.000Z\", periods=500, freq=\"H\"\n",
    ").to_series()\n",
    "\n",
    "dt = pd.concat([dt_a, dt_b, dt_c]).reset_index(drop=True).astype(\"datetime64[ns]\")\n",
    "\n",
    "df = pd.DataFrame({\"dt\": dt})\n",
    "df.ww.init()\n",
    "df.ww.infer_temporal_frequencies(debug=True)"
   ]
  }
 ],
 "metadata": {
  "kernelspec": {
   "display_name": "Python 3",
   "language": "python",
   "name": "python3"
  },
  "language_info": {
   "codemirror_mode": {
    "name": "ipython",
    "version": 3
   },
   "file_extension": ".py",
   "mimetype": "text/x-python",
   "name": "python",
   "nbconvert_exporter": "python",
   "pygments_lexer": "ipython3",
   "version": "3.8.2"
  }
 },
 "nbformat": 4,
 "nbformat_minor": 4
}
