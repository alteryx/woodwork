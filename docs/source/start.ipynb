{
 "cells": [
  {
   "cell_type": "raw",
   "metadata": {
    "raw_mimetype": "text/restructuredtext"
   },
   "source": [
    "Start\n",
    "=====\n",
    "\n",
    "In this guide, we will walk through an example of creating a Woodwork DataTable, and will show how to update and remove logical types and semantic tags. We will also demonstrate how to use the typing information to select subsets of data.\n",
    "\n",
    "Types and Tags\n",
    "--------------\n",
    "Woodwork relies heavily on the concepts of physical types, logical types and semantic tags. These concepts are covered in detail in :doc:`guides/understanding_types_and_tags`, but brief definitions of each are provided here for reference:\n",
    "\n",
    "* Physical Type: defines how the data is stored on disk or in memory\n",
    "* Logical Type: defines how the data should be parsed or interpreted\n",
    "* Semantic Tag(s): provides additional data about the meaning of the data or how it should be used\n",
    "\n",
    "Let's demonstrate how to use Woodwork, starting off by creating a dataframe containing retail sales data."
   ]
  },
  {
   "cell_type": "code",
   "execution_count": 21,
   "metadata": {},
   "outputs": [
    {
     "data": {
      "text/html": [
       "<div>\n",
       "<style scoped>\n",
       "    .dataframe tbody tr th:only-of-type {\n",
       "        vertical-align: middle;\n",
       "    }\n",
       "\n",
       "    .dataframe tbody tr th {\n",
       "        vertical-align: top;\n",
       "    }\n",
       "\n",
       "    .dataframe thead th {\n",
       "        text-align: right;\n",
       "    }\n",
       "</style>\n",
       "<table border=\"1\" class=\"dataframe\">\n",
       "  <thead>\n",
       "    <tr style=\"text-align: right;\">\n",
       "      <th></th>\n",
       "      <th>order_product_id</th>\n",
       "      <th>order_id</th>\n",
       "      <th>product_id</th>\n",
       "      <th>description</th>\n",
       "      <th>quantity</th>\n",
       "      <th>order_date</th>\n",
       "      <th>unit_price</th>\n",
       "      <th>customer_name</th>\n",
       "      <th>country</th>\n",
       "      <th>total</th>\n",
       "      <th>cancelled</th>\n",
       "    </tr>\n",
       "  </thead>\n",
       "  <tbody>\n",
       "    <tr>\n",
       "      <th>0</th>\n",
       "      <td>0</td>\n",
       "      <td>536365</td>\n",
       "      <td>85123A</td>\n",
       "      <td>WHITE HANGING HEART T-LIGHT HOLDER</td>\n",
       "      <td>6</td>\n",
       "      <td>2010-12-01 08:26:00</td>\n",
       "      <td>4.2075</td>\n",
       "      <td>Andrea Brown</td>\n",
       "      <td>United Kingdom</td>\n",
       "      <td>25.245</td>\n",
       "      <td>False</td>\n",
       "    </tr>\n",
       "    <tr>\n",
       "      <th>1</th>\n",
       "      <td>1</td>\n",
       "      <td>536365</td>\n",
       "      <td>71053</td>\n",
       "      <td>WHITE METAL LANTERN</td>\n",
       "      <td>6</td>\n",
       "      <td>2010-12-01 08:26:00</td>\n",
       "      <td>5.5935</td>\n",
       "      <td>Andrea Brown</td>\n",
       "      <td>United Kingdom</td>\n",
       "      <td>33.561</td>\n",
       "      <td>False</td>\n",
       "    </tr>\n",
       "    <tr>\n",
       "      <th>2</th>\n",
       "      <td>2</td>\n",
       "      <td>536365</td>\n",
       "      <td>84406B</td>\n",
       "      <td>CREAM CUPID HEARTS COAT HANGER</td>\n",
       "      <td>8</td>\n",
       "      <td>2010-12-01 08:26:00</td>\n",
       "      <td>4.5375</td>\n",
       "      <td>Andrea Brown</td>\n",
       "      <td>United Kingdom</td>\n",
       "      <td>36.300</td>\n",
       "      <td>False</td>\n",
       "    </tr>\n",
       "    <tr>\n",
       "      <th>3</th>\n",
       "      <td>3</td>\n",
       "      <td>536365</td>\n",
       "      <td>84029G</td>\n",
       "      <td>KNITTED UNION FLAG HOT WATER BOTTLE</td>\n",
       "      <td>6</td>\n",
       "      <td>2010-12-01 08:26:00</td>\n",
       "      <td>5.5935</td>\n",
       "      <td>Andrea Brown</td>\n",
       "      <td>United Kingdom</td>\n",
       "      <td>33.561</td>\n",
       "      <td>False</td>\n",
       "    </tr>\n",
       "    <tr>\n",
       "      <th>4</th>\n",
       "      <td>4</td>\n",
       "      <td>536365</td>\n",
       "      <td>84029E</td>\n",
       "      <td>RED WOOLLY HOTTIE WHITE HEART.</td>\n",
       "      <td>6</td>\n",
       "      <td>2010-12-01 08:26:00</td>\n",
       "      <td>5.5935</td>\n",
       "      <td>Andrea Brown</td>\n",
       "      <td>United Kingdom</td>\n",
       "      <td>33.561</td>\n",
       "      <td>False</td>\n",
       "    </tr>\n",
       "  </tbody>\n",
       "</table>\n",
       "</div>"
      ],
      "text/plain": [
       "   order_product_id  order_id product_id                          description  \\\n",
       "0                 0    536365     85123A   WHITE HANGING HEART T-LIGHT HOLDER   \n",
       "1                 1    536365      71053                  WHITE METAL LANTERN   \n",
       "2                 2    536365     84406B       CREAM CUPID HEARTS COAT HANGER   \n",
       "3                 3    536365     84029G  KNITTED UNION FLAG HOT WATER BOTTLE   \n",
       "4                 4    536365     84029E       RED WOOLLY HOTTIE WHITE HEART.   \n",
       "\n",
       "   quantity          order_date  unit_price customer_name         country  \\\n",
       "0         6 2010-12-01 08:26:00      4.2075  Andrea Brown  United Kingdom   \n",
       "1         6 2010-12-01 08:26:00      5.5935  Andrea Brown  United Kingdom   \n",
       "2         8 2010-12-01 08:26:00      4.5375  Andrea Brown  United Kingdom   \n",
       "3         6 2010-12-01 08:26:00      5.5935  Andrea Brown  United Kingdom   \n",
       "4         6 2010-12-01 08:26:00      5.5935  Andrea Brown  United Kingdom   \n",
       "\n",
       "    total  cancelled  \n",
       "0  25.245      False  \n",
       "1  33.561      False  \n",
       "2  36.300      False  \n",
       "3  33.561      False  \n",
       "4  33.561      False  "
      ]
     },
     "execution_count": 21,
     "metadata": {},
     "output_type": "execute_result"
    }
   ],
   "source": [
    "import woodwork as ww\n",
    "\n",
    "data = ww.demo.load_retail(nrows=100, return_dataframe=True)\n",
    "data.head(5)"
   ]
  },
  {
   "cell_type": "markdown",
   "metadata": {},
   "source": [
    "As we can see, this is a dataframe containing several different data types, including dates, categorical values, numeric values and natural language descriptions. Let's use Woodwork to create a DataTable from this data."
   ]
  },
  {
   "cell_type": "markdown",
   "metadata": {},
   "source": [
    "## Creating a DataTable\n",
    "Creating a Woodwork DataTable is as simple as passing in a dataframe with the data of interest during initialization. An optional name parameter can be specified to label the DataTable."
   ]
  },
  {
   "cell_type": "code",
   "execution_count": 22,
   "metadata": {},
   "outputs": [
    {
     "data": {
      "text/html": [
       "<table border=\"1\" class=\"dataframe\">\n",
       "  <thead>\n",
       "    <tr>\n",
       "      <th>Data Column</th>\n",
       "      <th>order_product_id</th>\n",
       "      <th>order_id</th>\n",
       "      <th>product_id</th>\n",
       "      <th>description</th>\n",
       "      <th>quantity</th>\n",
       "      <th>order_date</th>\n",
       "      <th>unit_price</th>\n",
       "      <th>customer_name</th>\n",
       "      <th>country</th>\n",
       "      <th>total</th>\n",
       "      <th>cancelled</th>\n",
       "    </tr>\n",
       "    <tr>\n",
       "      <th>Physical Type</th>\n",
       "      <th>Int64</th>\n",
       "      <th>Int64</th>\n",
       "      <th>category</th>\n",
       "      <th>string</th>\n",
       "      <th>Int64</th>\n",
       "      <th>datetime64[ns]</th>\n",
       "      <th>float64</th>\n",
       "      <th>string</th>\n",
       "      <th>string</th>\n",
       "      <th>float64</th>\n",
       "      <th>boolean</th>\n",
       "    </tr>\n",
       "    <tr>\n",
       "      <th>Logical Type</th>\n",
       "      <th>Integer</th>\n",
       "      <th>Integer</th>\n",
       "      <th>Categorical</th>\n",
       "      <th>NaturalLanguage</th>\n",
       "      <th>Integer</th>\n",
       "      <th>Datetime</th>\n",
       "      <th>Double</th>\n",
       "      <th>NaturalLanguage</th>\n",
       "      <th>NaturalLanguage</th>\n",
       "      <th>Double</th>\n",
       "      <th>Boolean</th>\n",
       "    </tr>\n",
       "    <tr>\n",
       "      <th>Semantic Tag(s)</th>\n",
       "      <th>['numeric']</th>\n",
       "      <th>['numeric']</th>\n",
       "      <th>['category']</th>\n",
       "      <th>[]</th>\n",
       "      <th>['numeric']</th>\n",
       "      <th>[]</th>\n",
       "      <th>['numeric']</th>\n",
       "      <th>[]</th>\n",
       "      <th>[]</th>\n",
       "      <th>['numeric']</th>\n",
       "      <th>[]</th>\n",
       "    </tr>\n",
       "  </thead>\n",
       "  <tbody>\n",
       "    <tr>\n",
       "      <th>0</th>\n",
       "      <td>0</td>\n",
       "      <td>536365</td>\n",
       "      <td>85123A</td>\n",
       "      <td>WHITE HANGING HEART T-LIGHT HOLDER</td>\n",
       "      <td>6</td>\n",
       "      <td>2010-12-01 08:26:00</td>\n",
       "      <td>4.2075</td>\n",
       "      <td>Andrea Brown</td>\n",
       "      <td>United Kingdom</td>\n",
       "      <td>25.245</td>\n",
       "      <td>False</td>\n",
       "    </tr>\n",
       "    <tr>\n",
       "      <th>1</th>\n",
       "      <td>1</td>\n",
       "      <td>536365</td>\n",
       "      <td>71053</td>\n",
       "      <td>WHITE METAL LANTERN</td>\n",
       "      <td>6</td>\n",
       "      <td>2010-12-01 08:26:00</td>\n",
       "      <td>5.5935</td>\n",
       "      <td>Andrea Brown</td>\n",
       "      <td>United Kingdom</td>\n",
       "      <td>33.561</td>\n",
       "      <td>False</td>\n",
       "    </tr>\n",
       "    <tr>\n",
       "      <th>2</th>\n",
       "      <td>2</td>\n",
       "      <td>536365</td>\n",
       "      <td>84406B</td>\n",
       "      <td>CREAM CUPID HEARTS COAT HANGER</td>\n",
       "      <td>8</td>\n",
       "      <td>2010-12-01 08:26:00</td>\n",
       "      <td>4.5375</td>\n",
       "      <td>Andrea Brown</td>\n",
       "      <td>United Kingdom</td>\n",
       "      <td>36.300</td>\n",
       "      <td>False</td>\n",
       "    </tr>\n",
       "    <tr>\n",
       "      <th>3</th>\n",
       "      <td>3</td>\n",
       "      <td>536365</td>\n",
       "      <td>84029G</td>\n",
       "      <td>KNITTED UNION FLAG HOT WATER BOTTLE</td>\n",
       "      <td>6</td>\n",
       "      <td>2010-12-01 08:26:00</td>\n",
       "      <td>5.5935</td>\n",
       "      <td>Andrea Brown</td>\n",
       "      <td>United Kingdom</td>\n",
       "      <td>33.561</td>\n",
       "      <td>False</td>\n",
       "    </tr>\n",
       "    <tr>\n",
       "      <th>4</th>\n",
       "      <td>4</td>\n",
       "      <td>536365</td>\n",
       "      <td>84029E</td>\n",
       "      <td>RED WOOLLY HOTTIE WHITE HEART.</td>\n",
       "      <td>6</td>\n",
       "      <td>2010-12-01 08:26:00</td>\n",
       "      <td>5.5935</td>\n",
       "      <td>Andrea Brown</td>\n",
       "      <td>United Kingdom</td>\n",
       "      <td>33.561</td>\n",
       "      <td>False</td>\n",
       "    </tr>\n",
       "  </tbody>\n",
       "</table>"
      ],
      "text/plain": [
       "Data Column     order_product_id    order_id   product_id  \\\n",
       "Physical Type              Int64       Int64     category   \n",
       "Logical Type             Integer     Integer  Categorical   \n",
       "Semantic Tag(s)      ['numeric'] ['numeric'] ['category']   \n",
       "0                              0      536365       85123A   \n",
       "1                              1      536365        71053   \n",
       "2                              2      536365       84406B   \n",
       "3                              3      536365       84029G   \n",
       "4                              4      536365       84029E   \n",
       "\n",
       "Data Column                              description    quantity  \\\n",
       "Physical Type                                 string       Int64   \n",
       "Logical Type                         NaturalLanguage     Integer   \n",
       "Semantic Tag(s)                                   [] ['numeric']   \n",
       "0                 WHITE HANGING HEART T-LIGHT HOLDER           6   \n",
       "1                                WHITE METAL LANTERN           6   \n",
       "2                     CREAM CUPID HEARTS COAT HANGER           8   \n",
       "3                KNITTED UNION FLAG HOT WATER BOTTLE           6   \n",
       "4                     RED WOOLLY HOTTIE WHITE HEART.           6   \n",
       "\n",
       "Data Column              order_date  unit_price   customer_name  \\\n",
       "Physical Type        datetime64[ns]     float64          string   \n",
       "Logical Type               Datetime      Double NaturalLanguage   \n",
       "Semantic Tag(s)                  [] ['numeric']              []   \n",
       "0               2010-12-01 08:26:00      4.2075    Andrea Brown   \n",
       "1               2010-12-01 08:26:00      5.5935    Andrea Brown   \n",
       "2               2010-12-01 08:26:00      4.5375    Andrea Brown   \n",
       "3               2010-12-01 08:26:00      5.5935    Andrea Brown   \n",
       "4               2010-12-01 08:26:00      5.5935    Andrea Brown   \n",
       "\n",
       "Data Column             country       total cancelled  \n",
       "Physical Type            string     float64   boolean  \n",
       "Logical Type    NaturalLanguage      Double   Boolean  \n",
       "Semantic Tag(s)              [] ['numeric']        []  \n",
       "0                United Kingdom      25.245     False  \n",
       "1                United Kingdom      33.561     False  \n",
       "2                United Kingdom      36.300     False  \n",
       "3                United Kingdom      33.561     False  \n",
       "4                United Kingdom      33.561     False  "
      ]
     },
     "execution_count": 22,
     "metadata": {},
     "output_type": "execute_result"
    }
   ],
   "source": [
    "dt = ww.DataTable(data, name=\"retail\")\n",
    "dt"
   ]
  },
  {
   "cell_type": "markdown",
   "metadata": {},
   "source": [
    "Using just this simple call, Woodwork was able to infer the logical types present in our data by analyzing the dataframe dtypes as well as the information contained in the columns. In addition, Woodwork also added semantic tags to some of the columns based on the logical types that were inferred.\n",
    "\n",
    "We can also view the typing information with the first few columns of data with the following:"
   ]
  },
  {
   "cell_type": "code",
   "execution_count": 23,
   "metadata": {},
   "outputs": [
    {
     "ename": "AttributeError",
     "evalue": "'DataTable' object has no attribute 'head'",
     "output_type": "error",
     "traceback": [
      "\u001b[0;31m---------------------------------------------------------------------------\u001b[0m",
      "\u001b[0;31mAttributeError\u001b[0m                            Traceback (most recent call last)",
      "\u001b[0;32m<ipython-input-23-995cc6bc25a7>\u001b[0m in \u001b[0;36m<module>\u001b[0;34m\u001b[0m\n\u001b[0;32m----> 1\u001b[0;31m \u001b[0mdt\u001b[0m\u001b[0;34m.\u001b[0m\u001b[0mhead\u001b[0m\u001b[0;34m(\u001b[0m\u001b[0;34m)\u001b[0m\u001b[0;34m\u001b[0m\u001b[0;34m\u001b[0m\u001b[0m\n\u001b[0m",
      "\u001b[0;31mAttributeError\u001b[0m: 'DataTable' object has no attribute 'head'"
     ]
    }
   ],
   "source": [
    "dt.head()"
   ]
  },
  {
   "cell_type": "markdown",
   "metadata": {},
   "source": [
    "## Updating Logical Types\n",
    "If the initial inference was not to our liking, the logical type can be changed to a more appropriate value. Let's change some of the columns to a different logical type to illustrate this process. Below we will set the logical type for the ``quantity``, ``customer_name`` and ``country`` columns to be ``Categorical``."
   ]
  },
  {
   "cell_type": "code",
   "execution_count": null,
   "metadata": {},
   "outputs": [],
   "source": [
    "dt = dt.set_types(logical_types={\n",
    "    'quantity': 'Categorical',\n",
    "    'customer_name': 'Categorical',\n",
    "    'country': 'Categorical'\n",
    "})\n",
    "dt"
   ]
  },
  {
   "cell_type": "markdown",
   "metadata": {},
   "source": [
    "If we now inspect the information in the `types` output, we can see that the Logical type for the three columns has been updated with the `Categorical` logical type we specified."
   ]
  },
  {
   "cell_type": "markdown",
   "metadata": {},
   "source": [
    "## Selecting Columns\n",
    "\n",
    "Now that we have logical types we are happy with, we can select a subset of the columns based on their logical types. Let's select only the columns that have a logical type of ``Integer`` or ``Double``:"
   ]
  },
  {
   "cell_type": "code",
   "execution_count": null,
   "metadata": {},
   "outputs": [],
   "source": [
    "numeric_dt = dt.select(['Integer', 'Double'])\n",
    "numeric_dt"
   ]
  },
  {
   "cell_type": "markdown",
   "metadata": {},
   "source": [
    "This selection process has returned a new ``DataTable`` containing only the columns that match the logical types we specified. After we have selected the columns we want, we can also access a dataframe containing just those columns if we need it for additional analysis."
   ]
  },
  {
   "cell_type": "code",
   "execution_count": null,
   "metadata": {},
   "outputs": [],
   "source": [
    "numeric_dt.to_dataframe()"
   ]
  },
  {
   "cell_type": "raw",
   "metadata": {
    "raw_mimetype": "text/restructuredtext"
   },
   "source": [
    ".. note::\n",
    "    Accessing the dataframe associated with a ``DataTable`` by using ``dt.to_dataframe()`` will return a reference to the dataframe. Modifications to the returned dataframe can cause unexpected results. If you need to modify the dataframe, you should use ``dt.to_dataframe().copy()`` to return a copy of the stored dataframe that can be safely modified without impacting the ``DataTable`` behavior."
   ]
  },
  {
   "cell_type": "markdown",
   "metadata": {},
   "source": [
    "## Adding Semantic Tags\n",
    "\n",
    "Next, let's add semantic tags to some of the columns. We will add the tag of ``product_details`` to the ``description`` column and tag the ``total`` column with ``currency``."
   ]
  },
  {
   "cell_type": "code",
   "execution_count": null,
   "metadata": {},
   "outputs": [],
   "source": [
    "dt = dt.set_types(semantic_tags={'description':'product_details', 'total': 'currency'})\n",
    "dt"
   ]
  },
  {
   "cell_type": "markdown",
   "metadata": {},
   "source": [
    "We can also select columns based on a semantic tag. Perhaps we want to only select the columns tagged with ``category``:"
   ]
  },
  {
   "cell_type": "code",
   "execution_count": null,
   "metadata": {},
   "outputs": [],
   "source": [
    "category_dt = dt.select('category')\n",
    "category_dt"
   ]
  },
  {
   "cell_type": "markdown",
   "metadata": {},
   "source": [
    "We can also select columns using mutiple semantic tags, or even a mixture of semantic tags and logical types:\n"
   ]
  },
  {
   "cell_type": "code",
   "execution_count": null,
   "metadata": {},
   "outputs": [],
   "source": [
    "category_numeric_dt = dt.select(['numeric', 'category'])\n",
    "category_numeric_dt"
   ]
  },
  {
   "cell_type": "code",
   "execution_count": null,
   "metadata": {},
   "outputs": [],
   "source": [
    "mixed_dt = dt.select(['Boolean', 'product_details'])\n",
    "mixed_dt"
   ]
  },
  {
   "cell_type": "markdown",
   "metadata": {},
   "source": [
    "If we wanted to select an individual column, we just need to specify the column name. We can then get access to the data in the DataColumn using the ``to_series`` method:"
   ]
  },
  {
   "cell_type": "code",
   "execution_count": null,
   "metadata": {},
   "outputs": [],
   "source": [
    "dc = dt['total']\n",
    "dc"
   ]
  },
  {
   "cell_type": "code",
   "execution_count": null,
   "metadata": {},
   "outputs": [],
   "source": [
    "dc.to_series()"
   ]
  },
  {
   "cell_type": "markdown",
   "metadata": {},
   "source": [
    "You can also access multiple columns by supplying a list of column names:"
   ]
  },
  {
   "cell_type": "code",
   "execution_count": null,
   "metadata": {},
   "outputs": [],
   "source": [
    "multiple_cols_dt = dt[['product_id', 'total', 'unit_price']]\n",
    "multiple_cols_dt"
   ]
  },
  {
   "cell_type": "markdown",
   "metadata": {},
   "source": [
    "## Removing Semantic Tags\n",
    "We can also remove specific semantic tags from a column if they are no longer needed. Let's remove the ``product_details`` tag from the ``description`` column:"
   ]
  },
  {
   "cell_type": "code",
   "execution_count": null,
   "metadata": {},
   "outputs": [],
   "source": [
    "dt = dt.remove_semantic_tags({'description':'product_details'})\n",
    "dt"
   ]
  },
  {
   "cell_type": "markdown",
   "metadata": {},
   "source": [
    "Notice how the ``product_details`` tag has now been removed from the ``description`` column. If we wanted to remove all user-added semantic tags from all columns, we can also do that:"
   ]
  },
  {
   "cell_type": "code",
   "execution_count": null,
   "metadata": {},
   "outputs": [],
   "source": [
    "dt = dt.reset_semantic_tags()\n",
    "dt"
   ]
  },
  {
   "cell_type": "markdown",
   "metadata": {},
   "source": [
    "## Set Index and Time Index\n",
    "At any point, we can designate certain columns as the DataTable's `index` and  with the methods [set_index](generated/woodwork.datatable.DataTable.set_index.rst) and [set_time_index](generated/woodwork.datatable.DataTable.set_time_index.rst). These methods can be used to assign these columns for the first time or to change the column being used as the index or time index.\n",
    "\n",
    "Index and time index columns contain `index` and `time_index` semantic tags, respectively."
   ]
  },
  {
   "cell_type": "code",
   "execution_count": null,
   "metadata": {},
   "outputs": [],
   "source": [
    "dt = dt.set_index('order_product_id')\n",
    "dt.index"
   ]
  },
  {
   "cell_type": "code",
   "execution_count": null,
   "metadata": {},
   "outputs": [],
   "source": [
    "dt = dt.set_time_index('order_date')\n",
    "dt.time_index"
   ]
  },
  {
   "cell_type": "code",
   "execution_count": null,
   "metadata": {},
   "outputs": [],
   "source": [
    "dt"
   ]
  },
  {
   "cell_type": "markdown",
   "metadata": {},
   "source": [
    "## List Logical Types\n",
    "We can also retrieve all the Logical Types present in Woodwork. These can be useful for understanding the Logical Types, and how they will be interpreted. "
   ]
  },
  {
   "cell_type": "code",
   "execution_count": null,
   "metadata": {},
   "outputs": [],
   "source": [
    "from woodwork.utils import list_logical_types\n",
    "\n",
    "list_logical_types()"
   ]
  }
 ],
 "metadata": {
  "celltoolbar": "Raw Cell Format",
  "kernelspec": {
   "display_name": "Python 3",
   "language": "python",
   "name": "python3"
  },
  "language_info": {
   "codemirror_mode": {
    "name": "ipython",
    "version": 3
   },
   "file_extension": ".py",
   "mimetype": "text/x-python",
   "name": "python",
   "nbconvert_exporter": "python",
   "pygments_lexer": "ipython3",
   "version": "3.6.8"
  }
 },
 "nbformat": 4,
 "nbformat_minor": 4
}
